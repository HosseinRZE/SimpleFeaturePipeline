{
 "cells": [
  {
   "cell_type": "code",
   "execution_count": 1,
   "id": "930a232b",
   "metadata": {},
   "outputs": [
    {
     "name": "stderr",
     "output_type": "stream",
     "text": [
      "💡 Tip: For seamless cloud uploads and versioning, try installing [litmodels](https://pypi.org/project/litmodels/) to enable LitModelCheckpoint, which syncs automatically with the Lightning model registry.\n",
      "GPU available: True (cuda), used: True\n",
      "TPU available: False, using: 0 TPU cores\n",
      "HPU available: False, using: 0 HPUs\n",
      "Running in `fast_dev_run` mode: will run the requested loop using 1 batch(es). Logging and checkpointing is suppressed.\n",
      "You are using a CUDA device ('NVIDIA GeForce RTX 3060') that has Tensor Cores. To properly utilize them, you should set `torch.set_float32_matmul_precision('medium' | 'high')` which will trade-off precision for performance. For more details, read https://pytorch.org/docs/stable/generated/torch.set_float32_matmul_precision.html#torch.set_float32_matmul_precision\n",
      "LOCAL_RANK: 0 - CUDA_VISIBLE_DEVICES: [0]\n"
     ]
    },
    {
     "name": "stdout",
     "output_type": "stream",
     "text": [
      "🔍 Debug batch (third batch):\n",
      "  Keys in X_batch: ['main', 'pct_changes']\n",
      "  y_batch shape: torch.Size([32])\n",
      "  First label in batch: tensor(2)\n",
      "\n",
      "Feature group: main\n",
      "  X_batch shape: torch.Size([32, 5, 16])\n",
      "  First sequence in batch:\n",
      " tensor([[ 1.0001e+04,  1.0323e+04,  9.6660e+03,  1.0160e+04,  3.8161e+04,\n",
      "          1.1598e-01,  1.1293e-01,  2.3772e-01,  2.0000e+00,  1.0270e+00,\n",
      "          2.1050e+00,  4.8789e-01,  5.8297e-02,  1.0164e-02,  3.9187e-02,\n",
      "          1.5989e-02],\n",
      "        [ 1.0156e+04,  1.1075e+04,  1.0050e+04,  1.1040e+04,  4.1883e+04,\n",
      "          2.5351e-02,  6.3056e-01,  7.5705e-02,  2.0000e+00,  4.0205e-02,\n",
      "          1.2006e-01,  3.3487e-01,  1.5517e-02,  7.2815e-02,  3.9727e-02,\n",
      "          8.6572e-02],\n",
      "        [ 1.1040e+04,  1.1274e+04,  1.0080e+04,  1.0383e+04,  6.1138e+04,\n",
      "          1.6783e-01, -4.6968e-01,  2.1721e-01,  1.0000e+00,  3.5733e-01,\n",
      "          4.6246e-01,  7.7267e-01,  8.6990e-02,  1.7962e-02,  2.9851e-03,\n",
      "         -5.9434e-02],\n",
      "        [ 1.0375e+04,  1.1250e+04,  1.0270e+04,  1.1153e+04,  4.0831e+04,\n",
      "          6.9854e-02,  5.6026e-01,  7.5385e-02,  2.0000e+00,  1.2468e-01,\n",
      "          1.3455e-01,  9.2663e-01, -6.0196e-02, -2.1288e-03,  1.8882e-02,\n",
      "          7.4115e-02],\n",
      "        [ 1.1147e+04,  1.1786e+04,  1.1101e+04,  1.1201e+04,  4.8153e+04,\n",
      "          4.2561e-01,  3.9198e-02,  3.3844e-02,  2.0000e+00,  5.0000e+00,\n",
      "          8.6340e-01,  5.0000e+00,  7.4419e-02,  4.7645e-02,  8.0841e-02,\n",
      "          4.3029e-03]])\n",
      "\n",
      "Feature group: pct_changes\n",
      "  X_batch shape: torch.Size([32, 3, 4])\n",
      "  First sequence in batch:\n",
      " tensor([[ 0.0870,  0.0180,  0.0030, -0.0594],\n",
      "        [-0.0602, -0.0021,  0.0189,  0.0741],\n",
      "        [ 0.0744,  0.0476,  0.0808,  0.0043]])\n"
     ]
    },
    {
     "name": "stderr",
     "output_type": "stream",
     "text": [
      "\n",
      "  | Name       | Type       | Params | Mode \n",
      "--------------------------------------------------\n",
      "0 | lstms      | ModuleDict | 38.9 K | train\n",
      "1 | classifier | Linear     | 387    | train\n",
      "--------------------------------------------------\n",
      "39.3 K    Trainable params\n",
      "0         Non-trainable params\n",
      "39.3 K    Total params\n",
      "0.157     Total estimated model params size (MB)\n",
      "4         Modules in train mode\n",
      "0         Modules in eval mode\n",
      "/home/iatell/envs/Rllib2.43/lib/python3.11/site-packages/pytorch_lightning/trainer/connectors/data_connector.py:425: The 'train_dataloader' does not have many workers which may be a bottleneck. Consider increasing the value of the `num_workers` argument` to `num_workers=19` in the `DataLoader` to improve performance.\n",
      "/home/iatell/envs/Rllib2.43/lib/python3.11/site-packages/pytorch_lightning/trainer/connectors/data_connector.py:425: The 'val_dataloader' does not have many workers which may be a bottleneck. Consider increasing the value of the `num_workers` argument` to `num_workers=19` in the `DataLoader` to improve performance.\n"
     ]
    },
    {
     "data": {
      "application/vnd.jupyter.widget-view+json": {
       "model_id": "4a4ece7770f3467792c67cc3b21164a1",
       "version_major": 2,
       "version_minor": 0
      },
      "text/plain": [
       "Training: |          | 0/? [00:00<?, ?it/s]"
      ]
     },
     "metadata": {},
     "output_type": "display_data"
    },
    {
     "data": {
      "application/vnd.jupyter.widget-view+json": {
       "model_id": "de95c9a078ee4d4b91758320a99e3f0f",
       "version_major": 2,
       "version_minor": 0
      },
      "text/plain": [
       "Validation: |          | 0/? [00:00<?, ?it/s]"
      ]
     },
     "metadata": {},
     "output_type": "display_data"
    },
    {
     "name": "stderr",
     "output_type": "stream",
     "text": [
      "`Trainer.fit` stopped: `max_steps=1` reached.\n"
     ]
    },
    {
     "name": "stdout",
     "output_type": "stream",
     "text": [
      "\n",
      "📊 Validation Report:\n",
      "              precision    recall  f1-score   support\n",
      "\n",
      "           0       0.71      0.21      0.32        24\n",
      "           a       0.00      0.00      0.00         5\n",
      "           s       0.00      0.00      0.00         2\n",
      "\n",
      "    accuracy                           0.16        31\n",
      "   macro avg       0.24      0.07      0.11        31\n",
      "weighted avg       0.55      0.16      0.25        31\n",
      "\n",
      "Confusion Matrix:\n",
      "[[ 5  0 19]\n",
      " [ 0  0  5]\n",
      " [ 2  0  0]]\n"
     ]
    },
    {
     "name": "stderr",
     "output_type": "stream",
     "text": [
      "/home/iatell/envs/Rllib2.43/lib/python3.11/site-packages/sklearn/metrics/_classification.py:1731: UndefinedMetricWarning: Precision is ill-defined and being set to 0.0 in labels with no predicted samples. Use `zero_division` parameter to control this behavior.\n",
      "  _warn_prf(average, modifier, f\"{metric.capitalize()} is\", result.shape[0])\n",
      "/home/iatell/envs/Rllib2.43/lib/python3.11/site-packages/sklearn/metrics/_classification.py:1731: UndefinedMetricWarning: Precision is ill-defined and being set to 0.0 in labels with no predicted samples. Use `zero_division` parameter to control this behavior.\n",
      "  _warn_prf(average, modifier, f\"{metric.capitalize()} is\", result.shape[0])\n",
      "/home/iatell/envs/Rllib2.43/lib/python3.11/site-packages/sklearn/metrics/_classification.py:1731: UndefinedMetricWarning: Precision is ill-defined and being set to 0.0 in labels with no predicted samples. Use `zero_division` parameter to control this behavior.\n",
      "  _warn_prf(average, modifier, f\"{metric.capitalize()} is\", result.shape[0])\n"
     ]
    }
   ],
   "source": [
    "import sys\n",
    "from pathlib import Path\n",
    "\n",
    "# Current notebook location\n",
    "notebook_path = Path().resolve()\n",
    "\n",
    "# Add parent folder (meta/) to sys.path\n",
    "sys.path.append(str(notebook_path.parent))\n",
    "import joblib\n",
    "import torch\n",
    "import pytorch_lightning as pl\n",
    "import pandas as pd\n",
    "from torch.utils.data import DataLoader\n",
    "from sklearn.metrics import classification_report, confusion_matrix\n",
    "from datetime import datetime\n",
    "from add_ons.relative_change import add_pct_changes\n",
    "from add_ons.drop_column import drop_columns\n",
    "from add_ons.zigzag_single import add_zigzag\n",
    "from preprocess.classification_pre_dict import preprocess_csv\n",
    "from models.LSTM.multilstm_classification import MultiLSTMClassifier\n",
    "from itertools import islice\n",
    "from add_ons.featue_pipeline2 import FeaturePipeline\n",
    "\n",
    "\n",
    "# ----------------- Evaluation -----------------\n",
    "def evaluate_model(model, val_loader, label_encoder):\n",
    "    \"\"\"Generate classification report & confusion matrix.\"\"\"\n",
    "    model.eval()\n",
    "    all_preds, all_labels = [], []\n",
    "\n",
    "    with torch.no_grad():\n",
    "        for X_batch, y_batch in val_loader:\n",
    "            logits = model(X_batch)\n",
    "            preds = torch.argmax(logits, dim=1)\n",
    "            all_preds.extend(preds.cpu().numpy())\n",
    "            all_labels.extend(y_batch.cpu().numpy())\n",
    "\n",
    "    print(\"\\n📊 Validation Report:\")\n",
    "    print(classification_report(all_labels, all_preds, target_names=label_encoder.classes_))\n",
    "\n",
    "    cm = confusion_matrix(all_labels, all_preds)\n",
    "    print(\"Confusion Matrix:\")\n",
    "    print(cm)\n",
    "\n",
    "# ----------------- Training -----------------\n",
    "def train_model(\n",
    "    data_csv,\n",
    "    labels_csv,\n",
    "    model_out_dir=\"models/saved_models\",\n",
    "    do_validation=False,\n",
    "    seq_len=3,\n",
    "    hidden_dim=64,\n",
    "    num_layers=1,\n",
    "    lr=0.001,\n",
    "    batch_size=32,\n",
    "    max_epochs=10,\n",
    "    save_model=False,\n",
    "    return_val_accuracy=False,\n",
    "    test_mode=True\n",
    "):\n",
    "    \"\"\"\n",
    "    Train an LSTM classification model with zigzag features and custom normalization.\n",
    "    \"\"\"\n",
    "    timestamp = datetime.now().strftime(\"%Y%m%d_%H%M%S\")\n",
    "    model_out = f\"{model_out_dir}/lstm_model_class_{timestamp}.pt\"\n",
    "    meta_out  = f\"{model_out_dir}/lstm_meta_class_{timestamp}.pkl\"\n",
    "\n",
    "    # --- Define Feature Pipeline ---\n",
    "    pipeline = FeaturePipeline(\n",
    "            steps=[lambda df: add_pct_changes(df, separatable=\"complete\")],\n",
    "            norm_methods={\n",
    "                \"main\": {\"upper_shadow\": \"standard\"},\n",
    "                \"pct_changes\": {\"open_pct\": \"standard\", \"high_pct\": \"standard\"}\n",
    "            }\n",
    "        )\n",
    "\n",
    "    seq_dict = {\"main\": 5, \"pct_changes\": 3}  # different seq lens per group\n",
    "\n",
    "\n",
    "    # --- Get dataset(s) ---\n",
    "    if do_validation:\n",
    "        train_ds, val_ds, label_encoder, df = preprocess_csv(\n",
    "            data_csv, labels_csv,\n",
    "            n_candles=seq_dict,\n",
    "            val_split=True,\n",
    "            feature_pipeline=pipeline\n",
    "        )\n",
    "    else:\n",
    "        full_dataset,label_encoder, df ,feature_cols= preprocess_csv(\n",
    "            data_csv, labels_csv,\n",
    "            n_candles=seq_dict,\n",
    "            val_split=True,\n",
    "            feature_pipeline=pipeline\n",
    ")\n",
    "\n",
    "    # --- Model config ---\n",
    "    input_dims = {\n",
    "        \"main\": train_ds.X_dict[\"main\"].shape[-1],\n",
    "        \"pct_changes\": train_ds.X_dict[\"pct_changes\"].shape[-1]\n",
    "    }\n",
    "    num_classes = len(label_encoder.classes_)\n",
    "\n",
    "    model = MultiLSTMClassifier(\n",
    "        input_dims=input_dims,\n",
    "        hidden_dim=hidden_dim,\n",
    "        num_layers=num_layers,\n",
    "        num_classes=num_classes,\n",
    "        lr=lr\n",
    "    )\n",
    "\n",
    "    # --- DataLoaders ---\n",
    "    if do_validation:\n",
    "        train_loader = DataLoader(train_ds, batch_size=32, shuffle=True)\n",
    "        val_loader   = DataLoader(val_ds, batch_size=32)\n",
    "    else:\n",
    "        train_loader = DataLoader(train_ds, batch_size=32, shuffle=True)\n",
    "        val_loader   = None\n",
    "\n",
    "    # --- Debug mode ---\n",
    "    if test_mode:\n",
    "        X_batch_dict, y_batch = next(islice(iter(train_loader), 2, 3))\n",
    "        print(\"🔍 Debug batch (third batch):\")\n",
    "        print(\"  Keys in X_batch:\", list(X_batch_dict.keys()))\n",
    "        print(\"  y_batch shape:\", y_batch.shape)   # (batch_size,)\n",
    "        print(\"  First label in batch:\", y_batch[0])\n",
    "\n",
    "        # Iterate over dict to inspect each input\n",
    "        for name, X_batch in X_batch_dict.items():\n",
    "            print(f\"\\nFeature group: {name}\")\n",
    "            print(\"  X_batch shape:\", X_batch.shape)  # (batch_size, seq_len, feature_dim)\n",
    "            print(\"  First sequence in batch:\\n\", X_batch[0])\n",
    "\n",
    "            batch_size, seq_len, feature_dim = X_batch.shape\n",
    "            global df_seq\n",
    "            df_seq = pd.DataFrame(\n",
    "                X_batch.reshape(batch_size * seq_len, feature_dim).numpy(),\n",
    "                columns=[f\"{name}_{c}\" for c in range(feature_dim)]  # temporary column names\n",
    "            )\n",
    "\n",
    "\n",
    "    # --- Trainer ---\n",
    "    trainer = pl.Trainer(\n",
    "        max_epochs=max_epochs,\n",
    "        accelerator=\"auto\",\n",
    "        devices=1,\n",
    "        log_every_n_steps=10,\n",
    "        fast_dev_run=test_mode\n",
    "    )\n",
    "\n",
    "    trainer.fit(model, train_loader, val_loader)\n",
    "\n",
    "    # --- Save model & meta ---\n",
    "    if save_model:\n",
    "        trainer.save_checkpoint(model_out)\n",
    "        joblib.dump({\n",
    "            'input_dim': input_dims,\n",
    "            'hidden_dim': hidden_dim,\n",
    "            'num_layers': num_layers,\n",
    "            'num_classes': num_classes,\n",
    "            'seq_len': seq_len,\n",
    "            'lr': lr,\n",
    "            'label_classes': label_encoder.classes_\n",
    "        }, meta_out)\n",
    "        print(f\"\\n✅ Model saved to {model_out}\")\n",
    "        print(f\"✅ Meta saved to {meta_out}\")\n",
    "\n",
    "    # --- Optional evaluation ---\n",
    "    val_acc = None\n",
    "    if do_validation and val_loader is not None:\n",
    "        evaluate_model(model, val_loader, label_encoder)\n",
    "        model.eval()\n",
    "        all_preds, all_labels = [], []\n",
    "        with torch.no_grad():\n",
    "            for X_batch, y_batch in val_loader:\n",
    "                logits = model(X_batch)\n",
    "                preds = torch.argmax(logits, dim=1)\n",
    "                all_preds.extend(preds.cpu().numpy())\n",
    "                all_labels.extend(y_batch.cpu().numpy())\n",
    "        val_acc = (torch.tensor(all_preds) == torch.tensor(all_labels)).float().mean().item()\n",
    "\n",
    "    if return_val_accuracy:\n",
    "        return {\"accuracy\": val_acc}\n",
    "\n",
    "\n",
    "if __name__ == \"__main__\":\n",
    "    train_model(\n",
    "        \"/home/iatell/projects/meta-learning/data/Bitcoin_BTCUSDT_kaggle_1D_candles_prop.csv\",\n",
    "        \"/home/iatell/projects/meta-learning/data/labeled_ohlcv_string.csv\",\n",
    "        do_validation=True\n",
    "    )\n"
   ]
  },
  {
   "cell_type": "code",
   "execution_count": 2,
   "id": "a14b7c9e",
   "metadata": {},
   "outputs": [
    {
     "data": {
      "application/vnd.microsoft.datawrangler.viewer.v0+json": {
       "columns": [
        {
         "name": "index",
         "rawType": "int64",
         "type": "integer"
        },
        {
         "name": "pct_changes_0",
         "rawType": "float32",
         "type": "float"
        },
        {
         "name": "pct_changes_1",
         "rawType": "float32",
         "type": "float"
        },
        {
         "name": "pct_changes_2",
         "rawType": "float32",
         "type": "float"
        },
        {
         "name": "pct_changes_3",
         "rawType": "float32",
         "type": "float"
        }
       ],
       "ref": "6d0d3ca6-8044-432f-be71-323d1b21bb07",
       "rows": [
        [
         "0",
         "0.08699034",
         "0.017961964",
         "0.0029850747",
         "-0.059433583"
        ],
        [
         "1",
         "-0.060196295",
         "-0.002128792",
         "0.018881945",
         "0.0741152"
        ],
        [
         "2",
         "0.07441921",
         "0.047645334",
         "0.08084063",
         "0.004302878"
        ],
        [
         "3",
         "-0.05956661",
         "-0.03749673",
         "-0.021280808",
         "0.009738801"
        ],
        [
         "4",
         "0.01026933",
         "-0.010500949",
         "0.005663968",
         "-0.015578858"
        ],
        [
         "5",
         "-0.016097132",
         "-0.0038629724",
         "-0.0011151934",
         "-0.016499933"
        ],
        [
         "6",
         "0.016060974",
         "0.029750794",
         "0.024202304",
         "0.04450426"
        ],
        [
         "7",
         "0.043861818",
         "-0.0012503648",
         "-0.016504522",
         "-0.03471933"
        ],
        [
         "8",
         "-0.034727417",
         "-0.029136477",
         "-0.0052879117",
         "-0.022306483"
        ],
        [
         "9",
         "-0.08115927",
         "-0.05037893",
         "0.09358804",
         "-0.033721767"
        ],
        [
         "10",
         "-0.033654667",
         "-0.03511871",
         "-0.062789015",
         "0.035214584"
        ],
        [
         "11",
         "0.037427958",
         "0.0008705734",
         "-0.13184595",
         "-0.11191386"
        ],
        [
         "12",
         "0.056939222",
         "0.033062212",
         "-0.015440488",
         "-0.026328998"
        ],
        [
         "13",
         "-0.021406163",
         "-0.057003368",
         "-0.048456896",
         "-0.05508567"
        ],
        [
         "14",
         "-0.055093806",
         "0.051468007",
         "0.04225312",
         "0.104059085"
        ],
        [
         "15",
         "-0.020576866",
         "-0.028117351",
         "-0.025064165",
         "-0.030438937"
        ],
        [
         "16",
         "-0.030640656",
         "-0.022082279",
         "-0.013120575",
         "-0.018947143"
        ],
        [
         "17",
         "-0.019967966",
         "-0.009044187",
         "-0.010544625",
         "0.013326716"
        ],
        [
         "18",
         "0.05788697",
         "0.012620689",
         "0.051757812",
         "0.010897436"
        ],
        [
         "19",
         "0.010585571",
         "0.030714286",
         "0.022749303",
         "0.038543347"
        ],
        [
         "20",
         "0.03854338",
         "0.0018191268",
         "0.0031783902",
         "0.0044066543"
        ],
        [
         "21",
         "-0.0040001855",
         "0.008501594",
         "0.040589508",
         "-0.049504716"
        ],
        [
         "22",
         "-0.04981365",
         "0.026343519",
         "-0.025045373",
         "0.08703887"
        ],
        [
         "23",
         "0.08703887",
         "0.015285421",
         "0.039053254",
         "-0.04219091"
        ],
        [
         "24",
         "0.036835406",
         "0.055438597",
         "0.036365114",
         "0.04949121"
        ],
        [
         "25",
         "0.048307113",
         "-0.012297872",
         "-0.043361798",
         "-0.08225425"
        ],
        [
         "26",
         "-0.08225425",
         "-0.07075309",
         "-0.020919934",
         "-0.003728609"
        ],
        [
         "27",
         "-0.06447141",
         "-0.048537757",
         "-0.110480055",
         "-0.07525606"
        ],
        [
         "28",
         "-0.07525606",
         "-0.07340123",
         "-0.035072863",
         "-0.06441574"
        ],
        [
         "29",
         "-0.06487689",
         "-0.06822458",
         "-0.08068433",
         "-0.004814682"
        ],
        [
         "30",
         "-0.0038404379",
         "-0.007534048",
         "-0.010155802",
         "-0.025014916"
        ],
        [
         "31",
         "-0.024905466",
         "0.03211679",
         "0.013273846",
         "0.044598185"
        ],
        [
         "32",
         "0.044599697",
         "0.0055346536",
         "0.044595737",
         "0.017720932"
        ],
        [
         "33",
         "0.07441921",
         "0.047645334",
         "0.08084063",
         "0.004302878"
        ],
        [
         "34",
         "0.0043024602",
         "-0.040894248",
         "-0.08112992",
         "-0.0681538"
        ],
        [
         "35",
         "-0.06753419",
         "-0.032783885",
         "-0.05107843",
         "-0.060029127"
        ],
        [
         "36",
         "0.08703887",
         "0.015285421",
         "0.039053254",
         "-0.04219091"
        ],
        [
         "37",
         "-0.04219091",
         "-0.041954193",
         "0.0048974943",
         "0.0020435117"
        ],
        [
         "38",
         "0.0022537766",
         "-0.014800507",
         "-0.10458121",
         "-0.107103825"
        ],
        [
         "39",
         "0.007385537",
         "-0.011689032",
         "-0.0042286227",
         "-0.018366069"
        ],
        [
         "40",
         "-0.018161757",
         "-0.02216492",
         "-0.035561685",
         "-0.01887625"
        ],
        [
         "41",
         "-0.01887625",
         "0.0020553595",
         "0.019284153",
         "0.01944115"
        ],
        [
         "42",
         "0.008267963",
         "0.013470755",
         "0.017784864",
         "0.025250593"
        ],
        [
         "43",
         "0.024101404",
         "0.013308822",
         "-0.0025307303",
         "-0.0018860077"
        ],
        [
         "44",
         "-0.0018825514",
         "-0.0022522549",
         "0.015017519",
         "-0.02324046"
        ],
        [
         "45",
         "0.0064503234",
         "-0.0025182099",
         "-0.025058068",
         "-0.053882327"
        ],
        [
         "46",
         "-0.049850643",
         "-0.0454773",
         "-0.17924407",
         "-0.07724382"
        ],
        [
         "47",
         "-0.08115927",
         "-0.05037893",
         "0.09358804",
         "-0.033721767"
        ],
        [
         "48",
         "-0.07525606",
         "-0.07340123",
         "-0.035072863",
         "-0.06441574"
        ],
        [
         "49",
         "-0.06487689",
         "-0.06822458",
         "-0.08068433",
         "-0.004814682"
        ]
       ],
       "shape": {
        "columns": 4,
        "rows": 96
       }
      },
      "text/html": [
       "<div>\n",
       "<style scoped>\n",
       "    .dataframe tbody tr th:only-of-type {\n",
       "        vertical-align: middle;\n",
       "    }\n",
       "\n",
       "    .dataframe tbody tr th {\n",
       "        vertical-align: top;\n",
       "    }\n",
       "\n",
       "    .dataframe thead th {\n",
       "        text-align: right;\n",
       "    }\n",
       "</style>\n",
       "<table border=\"1\" class=\"dataframe\">\n",
       "  <thead>\n",
       "    <tr style=\"text-align: right;\">\n",
       "      <th></th>\n",
       "      <th>pct_changes_0</th>\n",
       "      <th>pct_changes_1</th>\n",
       "      <th>pct_changes_2</th>\n",
       "      <th>pct_changes_3</th>\n",
       "    </tr>\n",
       "  </thead>\n",
       "  <tbody>\n",
       "    <tr>\n",
       "      <th>0</th>\n",
       "      <td>0.086990</td>\n",
       "      <td>0.017962</td>\n",
       "      <td>0.002985</td>\n",
       "      <td>-0.059434</td>\n",
       "    </tr>\n",
       "    <tr>\n",
       "      <th>1</th>\n",
       "      <td>-0.060196</td>\n",
       "      <td>-0.002129</td>\n",
       "      <td>0.018882</td>\n",
       "      <td>0.074115</td>\n",
       "    </tr>\n",
       "    <tr>\n",
       "      <th>2</th>\n",
       "      <td>0.074419</td>\n",
       "      <td>0.047645</td>\n",
       "      <td>0.080841</td>\n",
       "      <td>0.004303</td>\n",
       "    </tr>\n",
       "    <tr>\n",
       "      <th>3</th>\n",
       "      <td>-0.059567</td>\n",
       "      <td>-0.037497</td>\n",
       "      <td>-0.021281</td>\n",
       "      <td>0.009739</td>\n",
       "    </tr>\n",
       "    <tr>\n",
       "      <th>4</th>\n",
       "      <td>0.010269</td>\n",
       "      <td>-0.010501</td>\n",
       "      <td>0.005664</td>\n",
       "      <td>-0.015579</td>\n",
       "    </tr>\n",
       "    <tr>\n",
       "      <th>...</th>\n",
       "      <td>...</td>\n",
       "      <td>...</td>\n",
       "      <td>...</td>\n",
       "      <td>...</td>\n",
       "    </tr>\n",
       "    <tr>\n",
       "      <th>91</th>\n",
       "      <td>0.044600</td>\n",
       "      <td>0.005535</td>\n",
       "      <td>0.044596</td>\n",
       "      <td>0.017721</td>\n",
       "    </tr>\n",
       "    <tr>\n",
       "      <th>92</th>\n",
       "      <td>0.016710</td>\n",
       "      <td>0.010672</td>\n",
       "      <td>-0.039099</td>\n",
       "      <td>-0.033525</td>\n",
       "    </tr>\n",
       "    <tr>\n",
       "      <th>93</th>\n",
       "      <td>-0.030641</td>\n",
       "      <td>-0.022082</td>\n",
       "      <td>-0.013121</td>\n",
       "      <td>-0.018947</td>\n",
       "    </tr>\n",
       "    <tr>\n",
       "      <th>94</th>\n",
       "      <td>-0.019968</td>\n",
       "      <td>-0.009044</td>\n",
       "      <td>-0.010545</td>\n",
       "      <td>0.013327</td>\n",
       "    </tr>\n",
       "    <tr>\n",
       "      <th>95</th>\n",
       "      <td>0.014382</td>\n",
       "      <td>0.000545</td>\n",
       "      <td>0.000558</td>\n",
       "      <td>-0.033061</td>\n",
       "    </tr>\n",
       "  </tbody>\n",
       "</table>\n",
       "<p>96 rows × 4 columns</p>\n",
       "</div>"
      ],
      "text/plain": [
       "    pct_changes_0  pct_changes_1  pct_changes_2  pct_changes_3\n",
       "0        0.086990       0.017962       0.002985      -0.059434\n",
       "1       -0.060196      -0.002129       0.018882       0.074115\n",
       "2        0.074419       0.047645       0.080841       0.004303\n",
       "3       -0.059567      -0.037497      -0.021281       0.009739\n",
       "4        0.010269      -0.010501       0.005664      -0.015579\n",
       "..            ...            ...            ...            ...\n",
       "91       0.044600       0.005535       0.044596       0.017721\n",
       "92       0.016710       0.010672      -0.039099      -0.033525\n",
       "93      -0.030641      -0.022082      -0.013121      -0.018947\n",
       "94      -0.019968      -0.009044      -0.010545       0.013327\n",
       "95       0.014382       0.000545       0.000558      -0.033061\n",
       "\n",
       "[96 rows x 4 columns]"
      ]
     },
     "execution_count": 2,
     "metadata": {},
     "output_type": "execute_result"
    }
   ],
   "source": [
    "df_seq"
   ]
  }
 ],
 "metadata": {
  "kernelspec": {
   "display_name": "Rllib2.43 (3.11.13)",
   "language": "python",
   "name": "python3"
  },
  "language_info": {
   "codemirror_mode": {
    "name": "ipython",
    "version": 3
   },
   "file_extension": ".py",
   "mimetype": "text/x-python",
   "name": "python",
   "nbconvert_exporter": "python",
   "pygments_lexer": "ipython3",
   "version": "3.11.13"
  }
 },
 "nbformat": 4,
 "nbformat_minor": 5
}
