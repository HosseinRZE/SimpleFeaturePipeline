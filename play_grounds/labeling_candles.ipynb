{
 "cells": [
  {
   "cell_type": "code",
   "execution_count": 2,
   "id": "75480690",
   "metadata": {},
   "outputs": [
    {
     "name": "stdout",
     "output_type": "stream",
     "text": [
      "    timestamp  label\n",
      "0  2018-01-01      0\n",
      "1  2018-01-02      0\n",
      "2  2018-01-03      0\n",
      "3  2018-01-04      0\n",
      "4  2018-01-05      0\n"
     ]
    }
   ],
   "source": [
    "import pandas as pd\n",
    "import talib\n",
    "\n",
    "# Load CSV\n",
    "df = pd.read_csv(\"/home/iatell/projects/meta-learning/data/Bitcoin_BTCUSDT_kaggle_1D_candles.csv\")\n",
    "\n",
    "# Ensure proper column names (adjust if your file differs)\n",
    "# Expected: timestamp, open, high, low, close, volume\n",
    "df.columns = [col.lower() for col in df.columns]\n",
    "\n",
    "# Dictionary of candlestick recognition functions from TA-Lib\n",
    "candle_funcs = {\n",
    "    'CDLDOJI': talib.CDLDOJI,\n",
    "    'CDLHAMMER': talib.CDLHAMMER,\n",
    "    'CDLHANGINGMAN': talib.CDLHANGINGMAN,\n",
    "    'CDLENGULFING': talib.CDLENGULFING,\n",
    "    'CDLSHOOTINGSTAR': talib.CDLSHOOTINGSTAR,\n",
    "    'CDLMORNINGSTAR': talib.CDLMORNINGSTAR,\n",
    "    'CDLEVENINGSTAR': talib.CDLEVENINGSTAR,\n",
    "    # add more as needed...\n",
    "}\n",
    "\n",
    "# Apply candlestick functions\n",
    "labels = pd.Series([0] * len(df), index=df.index, dtype=int)\n",
    "\n",
    "for name, func in candle_funcs.items():\n",
    "    pattern_result = func(df['open'], df['high'], df['low'], df['close'])\n",
    "    # TA-Lib returns +100/-100/0, so keep whichever is nonzero\n",
    "    labels = labels.where(pattern_result == 0, pattern_result)\n",
    "\n",
    "# Build final result\n",
    "result = pd.DataFrame({\n",
    "    \"timestamp\": df[\"timestamp\"],\n",
    "    \"label\": labels\n",
    "})\n",
    "\n",
    "print(result.head())\n"
   ]
  }
 ],
 "metadata": {
  "kernelspec": {
   "display_name": "Rllib2.43 (3.11.13)",
   "language": "python",
   "name": "python3"
  },
  "language_info": {
   "codemirror_mode": {
    "name": "ipython",
    "version": 3
   },
   "file_extension": ".py",
   "mimetype": "text/x-python",
   "name": "python",
   "nbconvert_exporter": "python",
   "pygments_lexer": "ipython3",
   "version": "3.11.13"
  }
 },
 "nbformat": 4,
 "nbformat_minor": 5
}
