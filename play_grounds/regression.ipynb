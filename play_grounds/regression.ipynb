{
 "cells": [
  {
   "cell_type": "code",
   "execution_count": null,
   "id": "7c93e125",
   "metadata": {},
   "outputs": [],
   "source": [
    "import pandas as pd\n",
    "label = pd.read_csv(\"/home/iatell/projects/meta-learning/data/seq_line_labels.csv\")\n",
    "label[\"seq_len\"] = label[\"endIndex\"] - label[\"startIndex\"]\n",
    "label"
   ]
  },
  {
   "cell_type": "markdown",
   "id": "076b8d98",
   "metadata": {},
   "source": [
    "# model\n"
   ]
  },
  {
   "cell_type": "code",
   "execution_count": 1,
   "id": "d2139f5e",
   "metadata": {},
   "outputs": [],
   "source": [
    "import torch\n",
    "import torch.nn as nn\n",
    "import pytorch_lightning as pl\n",
    "from torch.nn.utils.rnn import pack_padded_sequence\n",
    "import torch.nn.functional as F\n",
    "def mdn_split_params(raw_params, n_components):\n",
    "    \"\"\"\n",
    "    raw_params: (B, T, 3K) tensor from mdn_head\n",
    "    returns:\n",
    "        pi    (B, T, K)  mixture weights\n",
    "        mu    (B, T, K)  means\n",
    "        sigma (B, T, K)  std devs\n",
    "    \"\"\"\n",
    "    B, T, threeK = raw_params.shape\n",
    "    assert threeK == 3 * n_components\n",
    "    raw = raw_params.view(B, T, n_components, 3)\n",
    "\n",
    "    pi = raw[..., 0]                 # (B,T,K)\n",
    "    mu = raw[..., 1]                 # (B,T,K)\n",
    "    sigma = raw[..., 2]              # (B,T,K)\n",
    "\n",
    "    pi = F.softmax(pi, dim=-1)       # weights sum to 1\n",
    "    sigma = F.softplus(sigma) + 1e-4 # strictly positive\n",
    "    return pi, mu, sigma\n",
    "\n",
    "\n",
    "def mdn_nll(y, pi, mu, sigma, mask=None):\n",
    "    \"\"\"\n",
    "    Negative log-likelihood loss for 1D MDN.\n",
    "\n",
    "    Args:\n",
    "        y     : (B, T) or (B, T, 1) targets\n",
    "        pi    : (B, T, K) mixture weights\n",
    "        mu    : (B, T, K) means\n",
    "        sigma : (B, T, K) std devs\n",
    "        mask  : (B, T) optional mask for valid timesteps\n",
    "\n",
    "    Returns:\n",
    "        scalar loss (mean over batch and time)\n",
    "    \"\"\"\n",
    "    B, T, K = pi.shape\n",
    "\n",
    "    # ensure shape (B,T,1)\n",
    "    if y.dim() == 2:  \n",
    "        y = y.unsqueeze(-1)  \n",
    "\n",
    "    # crop labels if longer than model output\n",
    "    if y.size(1) > T:\n",
    "        y = y[:, :T]\n",
    "\n",
    "    y = y.expand(-1, -1, K)  # (B,T,K)\n",
    "\n",
    "    # log probability of each Gaussian\n",
    "    log_prob = -0.5 * ((y - mu) / (sigma + 1e-8))**2 \\\n",
    "               - torch.log(sigma + 1e-8) \\\n",
    "               - 0.5 * torch.log(torch.tensor(2.0 * torch.pi, device=y.device))\n",
    "\n",
    "    # log-sum-exp over mixtures\n",
    "    log_mix = torch.log(pi + 1e-8) + log_prob\n",
    "    log_sum = torch.logsumexp(log_mix, dim=-1)  # (B,T)\n",
    "\n",
    "    if mask is not None:\n",
    "        log_sum = log_sum * mask.float()\n",
    "        denom = mask.float().sum().clamp_min(1.0)\n",
    "        nll = -log_sum.sum() / denom\n",
    "    else:\n",
    "        nll = -log_sum.mean()\n",
    "    return nll\n",
    "\n",
    "class CNNLSTM_MDN(pl.LightningModule):\n",
    "    def __init__(self, input_dim, max_len_y, hidden_dim=128, num_layers=1,\n",
    "                 lr=1e-3, n_components=5, cnn_channels=64, dropout=0.1):\n",
    "        super().__init__()\n",
    "        self.save_hyperparameters()\n",
    "\n",
    "        # CNN\n",
    "        self.conv1 = nn.Conv1d(input_dim, cnn_channels, kernel_size=1)\n",
    "        self.conv3 = nn.Conv1d(input_dim, cnn_channels, kernel_size=3, padding=1)\n",
    "        self.bn1   = nn.BatchNorm1d(cnn_channels)\n",
    "        self.bn3   = nn.BatchNorm1d(cnn_channels)\n",
    "\n",
    "        # LSTM\n",
    "        fused_dim = 2 * cnn_channels\n",
    "        self.lstm = nn.LSTM(fused_dim, hidden_dim, num_layers=num_layers,\n",
    "                            batch_first=True, dropout=dropout if num_layers > 1 else 0)\n",
    "\n",
    "        # MDN output (only branch)\n",
    "        self.mdn_head = nn.Linear(hidden_dim, 3 * n_components)\n",
    "        self.n_components = n_components\n",
    "        self.lr = lr\n",
    "        self.max_len_y = max_len_y\n",
    "\n",
    "    def forward(self, X, lengths=None):\n",
    "        # CNN\n",
    "        x = X.transpose(1, 2)\n",
    "        x1 = F.relu(self.bn1(self.conv1(x)))\n",
    "        x3 = F.relu(self.bn3(self.conv3(x)))\n",
    "        xf = torch.cat([x1, x3], dim=1).transpose(1, 2)\n",
    "\n",
    "        # LSTM\n",
    "        h_seq, _ = self.lstm(xf)\n",
    "\n",
    "        # MDN\n",
    "        raw = self.mdn_head(h_seq[:, :self.max_len_y])  # (B,T,3K)\n",
    "        pi, mu, sigma = mdn_split_params(raw, self.n_components)\n",
    "        return {\"pi\": pi, \"mu\": mu, \"sigma\": sigma}\n",
    "\n",
    "    def training_step(self, batch, batch_idx):\n",
    "        X, y_line, lengths = batch\n",
    "        mdn = self(X, lengths)\n",
    "\n",
    "        T_out = mdn[\"pi\"].size(1)  # model output length\n",
    "        y_line = y_line[:, :T_out]  # crop labels to match\n",
    "\n",
    "        # Mask padded timesteps\n",
    "        if lengths is not None:\n",
    "            idx = torch.arange(T_out, device=y_line.device).unsqueeze(0)\n",
    "            mask = (idx < lengths.unsqueeze(1)).float()\n",
    "        else:\n",
    "            mask = None\n",
    "\n",
    "        loss = mdn_nll(y_line, mdn[\"pi\"], mdn[\"mu\"], mdn[\"sigma\"], mask)\n",
    "        self.log(\"train/loss\", loss)\n",
    "        return loss\n",
    "\n",
    "    def validation_step(self, batch, batch_idx):\n",
    "        X, y_line, lengths = batch\n",
    "        mdn = self(X, lengths)\n",
    "\n",
    "        T_out = mdn[\"pi\"].size(1)\n",
    "        y_line = y_line[:, :T_out]\n",
    "\n",
    "        loss = mdn_nll(y_line, mdn[\"pi\"], mdn[\"mu\"], mdn[\"sigma\"])\n",
    "        self.log(\"val/loss\", loss, prog_bar=True)\n",
    "\n",
    "    def configure_optimizers(self):\n",
    "        return torch.optim.Adam(self.parameters(), lr=self.lr)\n"
   ]
  },
  {
   "cell_type": "markdown",
   "id": "e2e4dd53",
   "metadata": {},
   "source": [
    "# train"
   ]
  },
  {
   "cell_type": "code",
   "execution_count": 2,
   "id": "62e281d4",
   "metadata": {},
   "outputs": [
    {
     "name": "stderr",
     "output_type": "stream",
     "text": [
      "💡 Tip: For seamless cloud uploads and versioning, try installing [litmodels](https://pypi.org/project/litmodels/) to enable LitModelCheckpoint, which syncs automatically with the Lightning model registry.\n",
      "GPU available: True (cuda), used: True\n",
      "TPU available: False, using: 0 TPU cores\n",
      "HPU available: False, using: 0 HPUs\n",
      "You are using a CUDA device ('NVIDIA GeForce RTX 3060') that has Tensor Cores. To properly utilize them, you should set `torch.set_float32_matmul_precision('medium' | 'high')` which will trade-off precision for performance. For more details, read https://pytorch.org/docs/stable/generated/torch.set_float32_matmul_precision.html#torch.set_float32_matmul_precision\n",
      "2025-09-03 02:47:46.758518: I tensorflow/core/util/port.cc:153] oneDNN custom operations are on. You may see slightly different numerical results due to floating-point round-off errors from different computation orders. To turn them off, set the environment variable `TF_ENABLE_ONEDNN_OPTS=0`.\n",
      "2025-09-03 02:47:46.807778: E external/local_xla/xla/stream_executor/cuda/cuda_fft.cc:467] Unable to register cuFFT factory: Attempting to register factory for plugin cuFFT when one has already been registered\n",
      "WARNING: All log messages before absl::InitializeLog() is called are written to STDERR\n",
      "E0000 00:00:1756855066.839886  116491 cuda_dnn.cc:8579] Unable to register cuDNN factory: Attempting to register factory for plugin cuDNN when one has already been registered\n",
      "E0000 00:00:1756855066.849188  116491 cuda_blas.cc:1407] Unable to register cuBLAS factory: Attempting to register factory for plugin cuBLAS when one has already been registered\n",
      "W0000 00:00:1756855066.887403  116491 computation_placer.cc:177] computation placer already registered. Please check linkage and avoid linking the same target more than once.\n",
      "W0000 00:00:1756855066.887432  116491 computation_placer.cc:177] computation placer already registered. Please check linkage and avoid linking the same target more than once.\n",
      "W0000 00:00:1756855066.887435  116491 computation_placer.cc:177] computation placer already registered. Please check linkage and avoid linking the same target more than once.\n",
      "W0000 00:00:1756855066.887436  116491 computation_placer.cc:177] computation placer already registered. Please check linkage and avoid linking the same target more than once.\n",
      "2025-09-03 02:47:46.897060: I tensorflow/core/platform/cpu_feature_guard.cc:210] This TensorFlow binary is optimized to use available CPU instructions in performance-critical operations.\n",
      "To enable the following instructions: AVX2 AVX_VNNI FMA, in other operations, rebuild TensorFlow with the appropriate compiler flags.\n",
      "LOCAL_RANK: 0 - CUDA_VISIBLE_DEVICES: [0]\n",
      "\n",
      "  | Name     | Type        | Params | Mode \n",
      "-------------------------------------------------\n",
      "0 | conv1    | Conv1d      | 832    | train\n",
      "1 | conv3    | Conv1d      | 2.4 K  | train\n",
      "2 | bn1      | BatchNorm1d | 128    | train\n",
      "3 | bn3      | BatchNorm1d | 128    | train\n",
      "4 | lstm     | LSTM        | 132 K  | train\n",
      "5 | mdn_head | Linear      | 1.9 K  | train\n",
      "-------------------------------------------------\n",
      "137 K     Trainable params\n",
      "0         Non-trainable params\n",
      "137 K     Total params\n",
      "0.550     Total estimated model params size (MB)\n",
      "6         Modules in train mode\n",
      "0         Modules in eval mode\n"
     ]
    },
    {
     "data": {
      "application/vnd.jupyter.widget-view+json": {
       "model_id": "5fe3a55992ea44e5901de68a8c093091",
       "version_major": 2,
       "version_minor": 0
      },
      "text/plain": [
       "Sanity Checking: |          | 0/? [00:00<?, ?it/s]"
      ]
     },
     "metadata": {},
     "output_type": "display_data"
    },
    {
     "name": "stderr",
     "output_type": "stream",
     "text": [
      "/home/iatell/envs/Rllib2.43/lib/python3.11/site-packages/pytorch_lightning/trainer/connectors/data_connector.py:425: The 'val_dataloader' does not have many workers which may be a bottleneck. Consider increasing the value of the `num_workers` argument` to `num_workers=19` in the `DataLoader` to improve performance.\n",
      "/home/iatell/envs/Rllib2.43/lib/python3.11/site-packages/pytorch_lightning/trainer/connectors/data_connector.py:425: The 'train_dataloader' does not have many workers which may be a bottleneck. Consider increasing the value of the `num_workers` argument` to `num_workers=19` in the `DataLoader` to improve performance.\n",
      "/home/iatell/envs/Rllib2.43/lib/python3.11/site-packages/pytorch_lightning/loops/fit_loop.py:310: The number of training batches (2) is smaller than the logging interval Trainer(log_every_n_steps=50). Set a lower value for log_every_n_steps if you want to see logs for the training epoch.\n"
     ]
    },
    {
     "data": {
      "application/vnd.jupyter.widget-view+json": {
       "model_id": "fe3f062124a343a8a994269c83bc8064",
       "version_major": 2,
       "version_minor": 0
      },
      "text/plain": [
       "Training: |          | 0/? [00:00<?, ?it/s]"
      ]
     },
     "metadata": {},
     "output_type": "display_data"
    },
    {
     "data": {
      "application/vnd.jupyter.widget-view+json": {
       "model_id": "d095783ec8e441cd87c05a4570c0a0cb",
       "version_major": 2,
       "version_minor": 0
      },
      "text/plain": [
       "Validation: |          | 0/? [00:00<?, ?it/s]"
      ]
     },
     "metadata": {},
     "output_type": "display_data"
    },
    {
     "data": {
      "application/vnd.jupyter.widget-view+json": {
       "model_id": "c1da717c03d741dea5f8aedcd57a2972",
       "version_major": 2,
       "version_minor": 0
      },
      "text/plain": [
       "Validation: |          | 0/? [00:00<?, ?it/s]"
      ]
     },
     "metadata": {},
     "output_type": "display_data"
    },
    {
     "data": {
      "application/vnd.jupyter.widget-view+json": {
       "model_id": "eb3dedaf5155428a98ca9dbe7e788c74",
       "version_major": 2,
       "version_minor": 0
      },
      "text/plain": [
       "Validation: |          | 0/? [00:00<?, ?it/s]"
      ]
     },
     "metadata": {},
     "output_type": "display_data"
    },
    {
     "data": {
      "application/vnd.jupyter.widget-view+json": {
       "model_id": "4aa9e31d349849fba1cda4e635f79881",
       "version_major": 2,
       "version_minor": 0
      },
      "text/plain": [
       "Validation: |          | 0/? [00:00<?, ?it/s]"
      ]
     },
     "metadata": {},
     "output_type": "display_data"
    },
    {
     "data": {
      "application/vnd.jupyter.widget-view+json": {
       "model_id": "d896ffb99f8e4b0b8e116696842c4fba",
       "version_major": 2,
       "version_minor": 0
      },
      "text/plain": [
       "Validation: |          | 0/? [00:00<?, ?it/s]"
      ]
     },
     "metadata": {},
     "output_type": "display_data"
    },
    {
     "data": {
      "application/vnd.jupyter.widget-view+json": {
       "model_id": "f7a864bc9361418e862fd7597d5ffaea",
       "version_major": 2,
       "version_minor": 0
      },
      "text/plain": [
       "Validation: |          | 0/? [00:00<?, ?it/s]"
      ]
     },
     "metadata": {},
     "output_type": "display_data"
    },
    {
     "data": {
      "application/vnd.jupyter.widget-view+json": {
       "model_id": "364e9b14b6a0409697f97416321b0dcc",
       "version_major": 2,
       "version_minor": 0
      },
      "text/plain": [
       "Validation: |          | 0/? [00:00<?, ?it/s]"
      ]
     },
     "metadata": {},
     "output_type": "display_data"
    },
    {
     "data": {
      "application/vnd.jupyter.widget-view+json": {
       "model_id": "c5058b81b5474ac09e69713edbaa481d",
       "version_major": 2,
       "version_minor": 0
      },
      "text/plain": [
       "Validation: |          | 0/? [00:00<?, ?it/s]"
      ]
     },
     "metadata": {},
     "output_type": "display_data"
    },
    {
     "data": {
      "application/vnd.jupyter.widget-view+json": {
       "model_id": "c6301ec37eed4ff2b8dc90a7f6a94124",
       "version_major": 2,
       "version_minor": 0
      },
      "text/plain": [
       "Validation: |          | 0/? [00:00<?, ?it/s]"
      ]
     },
     "metadata": {},
     "output_type": "display_data"
    },
    {
     "data": {
      "application/vnd.jupyter.widget-view+json": {
       "model_id": "ae3737e4a4174475831607c4c211300d",
       "version_major": 2,
       "version_minor": 0
      },
      "text/plain": [
       "Validation: |          | 0/? [00:00<?, ?it/s]"
      ]
     },
     "metadata": {},
     "output_type": "display_data"
    },
    {
     "data": {
      "application/vnd.jupyter.widget-view+json": {
       "model_id": "5b50fb1271954504bfdd71072f4d9ef3",
       "version_major": 2,
       "version_minor": 0
      },
      "text/plain": [
       "Validation: |          | 0/? [00:00<?, ?it/s]"
      ]
     },
     "metadata": {},
     "output_type": "display_data"
    },
    {
     "data": {
      "application/vnd.jupyter.widget-view+json": {
       "model_id": "1c6ec1e7ef50474eb45bbf0c39294952",
       "version_major": 2,
       "version_minor": 0
      },
      "text/plain": [
       "Validation: |          | 0/? [00:00<?, ?it/s]"
      ]
     },
     "metadata": {},
     "output_type": "display_data"
    },
    {
     "data": {
      "application/vnd.jupyter.widget-view+json": {
       "model_id": "6df75050b9b54a728153f939b2a2cc9a",
       "version_major": 2,
       "version_minor": 0
      },
      "text/plain": [
       "Validation: |          | 0/? [00:00<?, ?it/s]"
      ]
     },
     "metadata": {},
     "output_type": "display_data"
    },
    {
     "data": {
      "application/vnd.jupyter.widget-view+json": {
       "model_id": "6c2f88b580a34d378ee458533601ee0b",
       "version_major": 2,
       "version_minor": 0
      },
      "text/plain": [
       "Validation: |          | 0/? [00:00<?, ?it/s]"
      ]
     },
     "metadata": {},
     "output_type": "display_data"
    },
    {
     "data": {
      "application/vnd.jupyter.widget-view+json": {
       "model_id": "4743a9118acb48c8b525e7313ebcfb12",
       "version_major": 2,
       "version_minor": 0
      },
      "text/plain": [
       "Validation: |          | 0/? [00:00<?, ?it/s]"
      ]
     },
     "metadata": {},
     "output_type": "display_data"
    },
    {
     "data": {
      "application/vnd.jupyter.widget-view+json": {
       "model_id": "f1c5f5fda4a6474bae4c447ff565d878",
       "version_major": 2,
       "version_minor": 0
      },
      "text/plain": [
       "Validation: |          | 0/? [00:00<?, ?it/s]"
      ]
     },
     "metadata": {},
     "output_type": "display_data"
    },
    {
     "data": {
      "application/vnd.jupyter.widget-view+json": {
       "model_id": "86248a4f425e431daa29701f481d622e",
       "version_major": 2,
       "version_minor": 0
      },
      "text/plain": [
       "Validation: |          | 0/? [00:00<?, ?it/s]"
      ]
     },
     "metadata": {},
     "output_type": "display_data"
    },
    {
     "data": {
      "application/vnd.jupyter.widget-view+json": {
       "model_id": "4944d7d4ff5d4931ab7aba611ad59c24",
       "version_major": 2,
       "version_minor": 0
      },
      "text/plain": [
       "Validation: |          | 0/? [00:00<?, ?it/s]"
      ]
     },
     "metadata": {},
     "output_type": "display_data"
    },
    {
     "data": {
      "application/vnd.jupyter.widget-view+json": {
       "model_id": "e305a7874e144971a3db381ac6b10c64",
       "version_major": 2,
       "version_minor": 0
      },
      "text/plain": [
       "Validation: |          | 0/? [00:00<?, ?it/s]"
      ]
     },
     "metadata": {},
     "output_type": "display_data"
    },
    {
     "data": {
      "application/vnd.jupyter.widget-view+json": {
       "model_id": "2209860df98447cb910e086f024bd6b1",
       "version_major": 2,
       "version_minor": 0
      },
      "text/plain": [
       "Validation: |          | 0/? [00:00<?, ?it/s]"
      ]
     },
     "metadata": {},
     "output_type": "display_data"
    },
    {
     "data": {
      "application/vnd.jupyter.widget-view+json": {
       "model_id": "d9f8aca46fc34b2c8aff4c5342fc7baf",
       "version_major": 2,
       "version_minor": 0
      },
      "text/plain": [
       "Validation: |          | 0/? [00:00<?, ?it/s]"
      ]
     },
     "metadata": {},
     "output_type": "display_data"
    },
    {
     "data": {
      "application/vnd.jupyter.widget-view+json": {
       "model_id": "0536a90147d248b2bcd5a0c11837fb4e",
       "version_major": 2,
       "version_minor": 0
      },
      "text/plain": [
       "Validation: |          | 0/? [00:00<?, ?it/s]"
      ]
     },
     "metadata": {},
     "output_type": "display_data"
    },
    {
     "data": {
      "application/vnd.jupyter.widget-view+json": {
       "model_id": "a8eaeeef3516400faebf38163c97991f",
       "version_major": 2,
       "version_minor": 0
      },
      "text/plain": [
       "Validation: |          | 0/? [00:00<?, ?it/s]"
      ]
     },
     "metadata": {},
     "output_type": "display_data"
    },
    {
     "data": {
      "application/vnd.jupyter.widget-view+json": {
       "model_id": "ad16a77b5f1c4813a894458cac365e6a",
       "version_major": 2,
       "version_minor": 0
      },
      "text/plain": [
       "Validation: |          | 0/? [00:00<?, ?it/s]"
      ]
     },
     "metadata": {},
     "output_type": "display_data"
    },
    {
     "data": {
      "application/vnd.jupyter.widget-view+json": {
       "model_id": "9d5d8ad4d167404e86c98ef4beec6368",
       "version_major": 2,
       "version_minor": 0
      },
      "text/plain": [
       "Validation: |          | 0/? [00:00<?, ?it/s]"
      ]
     },
     "metadata": {},
     "output_type": "display_data"
    },
    {
     "data": {
      "application/vnd.jupyter.widget-view+json": {
       "model_id": "bf1a20550c0540d5932a9a8104f7b80e",
       "version_major": 2,
       "version_minor": 0
      },
      "text/plain": [
       "Validation: |          | 0/? [00:00<?, ?it/s]"
      ]
     },
     "metadata": {},
     "output_type": "display_data"
    },
    {
     "data": {
      "application/vnd.jupyter.widget-view+json": {
       "model_id": "8ce020f69e5c4b9e982bc73623e29564",
       "version_major": 2,
       "version_minor": 0
      },
      "text/plain": [
       "Validation: |          | 0/? [00:00<?, ?it/s]"
      ]
     },
     "metadata": {},
     "output_type": "display_data"
    },
    {
     "data": {
      "application/vnd.jupyter.widget-view+json": {
       "model_id": "2306153b40c24caca7ce216abdcb8fff",
       "version_major": 2,
       "version_minor": 0
      },
      "text/plain": [
       "Validation: |          | 0/? [00:00<?, ?it/s]"
      ]
     },
     "metadata": {},
     "output_type": "display_data"
    },
    {
     "data": {
      "application/vnd.jupyter.widget-view+json": {
       "model_id": "65d89430e0e44fa0b0f4bd8cdc73e02a",
       "version_major": 2,
       "version_minor": 0
      },
      "text/plain": [
       "Validation: |          | 0/? [00:00<?, ?it/s]"
      ]
     },
     "metadata": {},
     "output_type": "display_data"
    },
    {
     "data": {
      "application/vnd.jupyter.widget-view+json": {
       "model_id": "ee555d2051a746a18999bc6061862c67",
       "version_major": 2,
       "version_minor": 0
      },
      "text/plain": [
       "Validation: |          | 0/? [00:00<?, ?it/s]"
      ]
     },
     "metadata": {},
     "output_type": "display_data"
    },
    {
     "data": {
      "application/vnd.jupyter.widget-view+json": {
       "model_id": "70cf065742594129a372855cc599c844",
       "version_major": 2,
       "version_minor": 0
      },
      "text/plain": [
       "Validation: |          | 0/? [00:00<?, ?it/s]"
      ]
     },
     "metadata": {},
     "output_type": "display_data"
    },
    {
     "data": {
      "application/vnd.jupyter.widget-view+json": {
       "model_id": "8bc393d3a129409d888ce40856b719d2",
       "version_major": 2,
       "version_minor": 0
      },
      "text/plain": [
       "Validation: |          | 0/? [00:00<?, ?it/s]"
      ]
     },
     "metadata": {},
     "output_type": "display_data"
    },
    {
     "data": {
      "application/vnd.jupyter.widget-view+json": {
       "model_id": "a667fdb944b2495997f1168ef4da6fca",
       "version_major": 2,
       "version_minor": 0
      },
      "text/plain": [
       "Validation: |          | 0/? [00:00<?, ?it/s]"
      ]
     },
     "metadata": {},
     "output_type": "display_data"
    },
    {
     "data": {
      "application/vnd.jupyter.widget-view+json": {
       "model_id": "db34f5834f4047f986bfd48416e9a90b",
       "version_major": 2,
       "version_minor": 0
      },
      "text/plain": [
       "Validation: |          | 0/? [00:00<?, ?it/s]"
      ]
     },
     "metadata": {},
     "output_type": "display_data"
    },
    {
     "data": {
      "application/vnd.jupyter.widget-view+json": {
       "model_id": "e66c5c0d8fd342ffb7b646f635f550ea",
       "version_major": 2,
       "version_minor": 0
      },
      "text/plain": [
       "Validation: |          | 0/? [00:00<?, ?it/s]"
      ]
     },
     "metadata": {},
     "output_type": "display_data"
    },
    {
     "data": {
      "application/vnd.jupyter.widget-view+json": {
       "model_id": "32293593679b47958580fc678dad3094",
       "version_major": 2,
       "version_minor": 0
      },
      "text/plain": [
       "Validation: |          | 0/? [00:00<?, ?it/s]"
      ]
     },
     "metadata": {},
     "output_type": "display_data"
    },
    {
     "data": {
      "application/vnd.jupyter.widget-view+json": {
       "model_id": "77779463bdf5400db98ecc2f0e3b3afb",
       "version_major": 2,
       "version_minor": 0
      },
      "text/plain": [
       "Validation: |          | 0/? [00:00<?, ?it/s]"
      ]
     },
     "metadata": {},
     "output_type": "display_data"
    },
    {
     "data": {
      "application/vnd.jupyter.widget-view+json": {
       "model_id": "d65f380409fc4951ba5070055c923cde",
       "version_major": 2,
       "version_minor": 0
      },
      "text/plain": [
       "Validation: |          | 0/? [00:00<?, ?it/s]"
      ]
     },
     "metadata": {},
     "output_type": "display_data"
    },
    {
     "data": {
      "application/vnd.jupyter.widget-view+json": {
       "model_id": "386e9d8ac49a4379a4f475860aad87ab",
       "version_major": 2,
       "version_minor": 0
      },
      "text/plain": [
       "Validation: |          | 0/? [00:00<?, ?it/s]"
      ]
     },
     "metadata": {},
     "output_type": "display_data"
    },
    {
     "data": {
      "application/vnd.jupyter.widget-view+json": {
       "model_id": "6ba98b0cfd344140a7739abb1e77ae9a",
       "version_major": 2,
       "version_minor": 0
      },
      "text/plain": [
       "Validation: |          | 0/? [00:00<?, ?it/s]"
      ]
     },
     "metadata": {},
     "output_type": "display_data"
    },
    {
     "data": {
      "application/vnd.jupyter.widget-view+json": {
       "model_id": "46b4bfa97b7a4f50a39940c51c2c6e82",
       "version_major": 2,
       "version_minor": 0
      },
      "text/plain": [
       "Validation: |          | 0/? [00:00<?, ?it/s]"
      ]
     },
     "metadata": {},
     "output_type": "display_data"
    },
    {
     "data": {
      "application/vnd.jupyter.widget-view+json": {
       "model_id": "91d55bacc0f2418f8bd72ac18f29166a",
       "version_major": 2,
       "version_minor": 0
      },
      "text/plain": [
       "Validation: |          | 0/? [00:00<?, ?it/s]"
      ]
     },
     "metadata": {},
     "output_type": "display_data"
    },
    {
     "data": {
      "application/vnd.jupyter.widget-view+json": {
       "model_id": "d3be7b5af9f44e73970ccd184b388e5b",
       "version_major": 2,
       "version_minor": 0
      },
      "text/plain": [
       "Validation: |          | 0/? [00:00<?, ?it/s]"
      ]
     },
     "metadata": {},
     "output_type": "display_data"
    },
    {
     "data": {
      "application/vnd.jupyter.widget-view+json": {
       "model_id": "ee467307f6a647a9a1acbad2155af98a",
       "version_major": 2,
       "version_minor": 0
      },
      "text/plain": [
       "Validation: |          | 0/? [00:00<?, ?it/s]"
      ]
     },
     "metadata": {},
     "output_type": "display_data"
    },
    {
     "data": {
      "application/vnd.jupyter.widget-view+json": {
       "model_id": "48c54563ef834a2aabee0e29f05cc6b3",
       "version_major": 2,
       "version_minor": 0
      },
      "text/plain": [
       "Validation: |          | 0/? [00:00<?, ?it/s]"
      ]
     },
     "metadata": {},
     "output_type": "display_data"
    },
    {
     "data": {
      "application/vnd.jupyter.widget-view+json": {
       "model_id": "192a5982749d41ebbe69af9ccd8b5e86",
       "version_major": 2,
       "version_minor": 0
      },
      "text/plain": [
       "Validation: |          | 0/? [00:00<?, ?it/s]"
      ]
     },
     "metadata": {},
     "output_type": "display_data"
    },
    {
     "data": {
      "application/vnd.jupyter.widget-view+json": {
       "model_id": "3d4aba4e2c2045308f4b390015212f59",
       "version_major": 2,
       "version_minor": 0
      },
      "text/plain": [
       "Validation: |          | 0/? [00:00<?, ?it/s]"
      ]
     },
     "metadata": {},
     "output_type": "display_data"
    },
    {
     "data": {
      "application/vnd.jupyter.widget-view+json": {
       "model_id": "96a8c58fcd5b49c3bef4f428081d135e",
       "version_major": 2,
       "version_minor": 0
      },
      "text/plain": [
       "Validation: |          | 0/? [00:00<?, ?it/s]"
      ]
     },
     "metadata": {},
     "output_type": "display_data"
    },
    {
     "data": {
      "application/vnd.jupyter.widget-view+json": {
       "model_id": "515b7a5d81d4499e9e1feb6f7f963d30",
       "version_major": 2,
       "version_minor": 0
      },
      "text/plain": [
       "Validation: |          | 0/? [00:00<?, ?it/s]"
      ]
     },
     "metadata": {},
     "output_type": "display_data"
    },
    {
     "data": {
      "application/vnd.jupyter.widget-view+json": {
       "model_id": "91c15bae1e364620bd791ee44e87a219",
       "version_major": 2,
       "version_minor": 0
      },
      "text/plain": [
       "Validation: |          | 0/? [00:00<?, ?it/s]"
      ]
     },
     "metadata": {},
     "output_type": "display_data"
    },
    {
     "data": {
      "application/vnd.jupyter.widget-view+json": {
       "model_id": "bea57348a45f457ab7d40d8b078c2429",
       "version_major": 2,
       "version_minor": 0
      },
      "text/plain": [
       "Validation: |          | 0/? [00:00<?, ?it/s]"
      ]
     },
     "metadata": {},
     "output_type": "display_data"
    },
    {
     "data": {
      "application/vnd.jupyter.widget-view+json": {
       "model_id": "03847767d2cd4c31935bef75e41bb210",
       "version_major": 2,
       "version_minor": 0
      },
      "text/plain": [
       "Validation: |          | 0/? [00:00<?, ?it/s]"
      ]
     },
     "metadata": {},
     "output_type": "display_data"
    },
    {
     "data": {
      "application/vnd.jupyter.widget-view+json": {
       "model_id": "c70a7bf809dc4e468b2ec257b0f1c515",
       "version_major": 2,
       "version_minor": 0
      },
      "text/plain": [
       "Validation: |          | 0/? [00:00<?, ?it/s]"
      ]
     },
     "metadata": {},
     "output_type": "display_data"
    },
    {
     "data": {
      "application/vnd.jupyter.widget-view+json": {
       "model_id": "e42489a401914f29b474041f3182e3e4",
       "version_major": 2,
       "version_minor": 0
      },
      "text/plain": [
       "Validation: |          | 0/? [00:00<?, ?it/s]"
      ]
     },
     "metadata": {},
     "output_type": "display_data"
    },
    {
     "data": {
      "application/vnd.jupyter.widget-view+json": {
       "model_id": "1dc387f4fe454468a8a4dad09cee8351",
       "version_major": 2,
       "version_minor": 0
      },
      "text/plain": [
       "Validation: |          | 0/? [00:00<?, ?it/s]"
      ]
     },
     "metadata": {},
     "output_type": "display_data"
    },
    {
     "data": {
      "application/vnd.jupyter.widget-view+json": {
       "model_id": "01573027c2444a8483b45d622cfc1e89",
       "version_major": 2,
       "version_minor": 0
      },
      "text/plain": [
       "Validation: |          | 0/? [00:00<?, ?it/s]"
      ]
     },
     "metadata": {},
     "output_type": "display_data"
    },
    {
     "data": {
      "application/vnd.jupyter.widget-view+json": {
       "model_id": "8cd5319cf20542f890121dd2f1690ba7",
       "version_major": 2,
       "version_minor": 0
      },
      "text/plain": [
       "Validation: |          | 0/? [00:00<?, ?it/s]"
      ]
     },
     "metadata": {},
     "output_type": "display_data"
    },
    {
     "data": {
      "application/vnd.jupyter.widget-view+json": {
       "model_id": "0d533a5e097f4ba18d412f12510f8d3e",
       "version_major": 2,
       "version_minor": 0
      },
      "text/plain": [
       "Validation: |          | 0/? [00:00<?, ?it/s]"
      ]
     },
     "metadata": {},
     "output_type": "display_data"
    },
    {
     "data": {
      "application/vnd.jupyter.widget-view+json": {
       "model_id": "963b735823fd438eaad6894e91653e38",
       "version_major": 2,
       "version_minor": 0
      },
      "text/plain": [
       "Validation: |          | 0/? [00:00<?, ?it/s]"
      ]
     },
     "metadata": {},
     "output_type": "display_data"
    },
    {
     "data": {
      "application/vnd.jupyter.widget-view+json": {
       "model_id": "9c86e39217b44aef921f6ac2a726c3fa",
       "version_major": 2,
       "version_minor": 0
      },
      "text/plain": [
       "Validation: |          | 0/? [00:00<?, ?it/s]"
      ]
     },
     "metadata": {},
     "output_type": "display_data"
    },
    {
     "data": {
      "application/vnd.jupyter.widget-view+json": {
       "model_id": "80d0dc2eda4e4c1da674cfd26a5cdcde",
       "version_major": 2,
       "version_minor": 0
      },
      "text/plain": [
       "Validation: |          | 0/? [00:00<?, ?it/s]"
      ]
     },
     "metadata": {},
     "output_type": "display_data"
    },
    {
     "data": {
      "application/vnd.jupyter.widget-view+json": {
       "model_id": "f6144b10031d4c9ea563621ea5a3ec6d",
       "version_major": 2,
       "version_minor": 0
      },
      "text/plain": [
       "Validation: |          | 0/? [00:00<?, ?it/s]"
      ]
     },
     "metadata": {},
     "output_type": "display_data"
    },
    {
     "data": {
      "application/vnd.jupyter.widget-view+json": {
       "model_id": "90ae6e60edd9477bafbd49d870b761da",
       "version_major": 2,
       "version_minor": 0
      },
      "text/plain": [
       "Validation: |          | 0/? [00:00<?, ?it/s]"
      ]
     },
     "metadata": {},
     "output_type": "display_data"
    },
    {
     "data": {
      "application/vnd.jupyter.widget-view+json": {
       "model_id": "8885a290cd6e42b18ea9c2e227eed41b",
       "version_major": 2,
       "version_minor": 0
      },
      "text/plain": [
       "Validation: |          | 0/? [00:00<?, ?it/s]"
      ]
     },
     "metadata": {},
     "output_type": "display_data"
    },
    {
     "data": {
      "application/vnd.jupyter.widget-view+json": {
       "model_id": "903d43bc27004b91946e9e670175e517",
       "version_major": 2,
       "version_minor": 0
      },
      "text/plain": [
       "Validation: |          | 0/? [00:00<?, ?it/s]"
      ]
     },
     "metadata": {},
     "output_type": "display_data"
    },
    {
     "data": {
      "application/vnd.jupyter.widget-view+json": {
       "model_id": "22b93b0283a549d8ae23eb83e8b32681",
       "version_major": 2,
       "version_minor": 0
      },
      "text/plain": [
       "Validation: |          | 0/? [00:00<?, ?it/s]"
      ]
     },
     "metadata": {},
     "output_type": "display_data"
    },
    {
     "data": {
      "application/vnd.jupyter.widget-view+json": {
       "model_id": "2c0c152d9b394adfb5d6aab75c44592b",
       "version_major": 2,
       "version_minor": 0
      },
      "text/plain": [
       "Validation: |          | 0/? [00:00<?, ?it/s]"
      ]
     },
     "metadata": {},
     "output_type": "display_data"
    },
    {
     "data": {
      "application/vnd.jupyter.widget-view+json": {
       "model_id": "d7526ecc1a7343a8bb5bc3b0acbbdbc4",
       "version_major": 2,
       "version_minor": 0
      },
      "text/plain": [
       "Validation: |          | 0/? [00:00<?, ?it/s]"
      ]
     },
     "metadata": {},
     "output_type": "display_data"
    },
    {
     "data": {
      "application/vnd.jupyter.widget-view+json": {
       "model_id": "05c1c99fecf640cabeb7b6107a884579",
       "version_major": 2,
       "version_minor": 0
      },
      "text/plain": [
       "Validation: |          | 0/? [00:00<?, ?it/s]"
      ]
     },
     "metadata": {},
     "output_type": "display_data"
    },
    {
     "data": {
      "application/vnd.jupyter.widget-view+json": {
       "model_id": "a7e2b6338e0a4b8daf287a151761f4b4",
       "version_major": 2,
       "version_minor": 0
      },
      "text/plain": [
       "Validation: |          | 0/? [00:00<?, ?it/s]"
      ]
     },
     "metadata": {},
     "output_type": "display_data"
    },
    {
     "data": {
      "application/vnd.jupyter.widget-view+json": {
       "model_id": "cfebbb7a1a614f4d95d8474e7222c360",
       "version_major": 2,
       "version_minor": 0
      },
      "text/plain": [
       "Validation: |          | 0/? [00:00<?, ?it/s]"
      ]
     },
     "metadata": {},
     "output_type": "display_data"
    },
    {
     "data": {
      "application/vnd.jupyter.widget-view+json": {
       "model_id": "0938f89601b340c29741427bce384a75",
       "version_major": 2,
       "version_minor": 0
      },
      "text/plain": [
       "Validation: |          | 0/? [00:00<?, ?it/s]"
      ]
     },
     "metadata": {},
     "output_type": "display_data"
    },
    {
     "data": {
      "application/vnd.jupyter.widget-view+json": {
       "model_id": "d15840f01e404959a667d096802aef21",
       "version_major": 2,
       "version_minor": 0
      },
      "text/plain": [
       "Validation: |          | 0/? [00:00<?, ?it/s]"
      ]
     },
     "metadata": {},
     "output_type": "display_data"
    },
    {
     "data": {
      "application/vnd.jupyter.widget-view+json": {
       "model_id": "53aa65c5d4994bdfb70e43e3fe37bd04",
       "version_major": 2,
       "version_minor": 0
      },
      "text/plain": [
       "Validation: |          | 0/? [00:00<?, ?it/s]"
      ]
     },
     "metadata": {},
     "output_type": "display_data"
    },
    {
     "data": {
      "application/vnd.jupyter.widget-view+json": {
       "model_id": "8f965641fa2a437891d108d3ff6d774b",
       "version_major": 2,
       "version_minor": 0
      },
      "text/plain": [
       "Validation: |          | 0/? [00:00<?, ?it/s]"
      ]
     },
     "metadata": {},
     "output_type": "display_data"
    },
    {
     "data": {
      "application/vnd.jupyter.widget-view+json": {
       "model_id": "ac2002136502419598a824448b89da15",
       "version_major": 2,
       "version_minor": 0
      },
      "text/plain": [
       "Validation: |          | 0/? [00:00<?, ?it/s]"
      ]
     },
     "metadata": {},
     "output_type": "display_data"
    },
    {
     "data": {
      "application/vnd.jupyter.widget-view+json": {
       "model_id": "fd8581478d984875bc9d8cdc641765a6",
       "version_major": 2,
       "version_minor": 0
      },
      "text/plain": [
       "Validation: |          | 0/? [00:00<?, ?it/s]"
      ]
     },
     "metadata": {},
     "output_type": "display_data"
    },
    {
     "data": {
      "application/vnd.jupyter.widget-view+json": {
       "model_id": "3262860879e64e7f964b251fdb34f903",
       "version_major": 2,
       "version_minor": 0
      },
      "text/plain": [
       "Validation: |          | 0/? [00:00<?, ?it/s]"
      ]
     },
     "metadata": {},
     "output_type": "display_data"
    },
    {
     "data": {
      "application/vnd.jupyter.widget-view+json": {
       "model_id": "4883392292094c7197b59784f4dabef1",
       "version_major": 2,
       "version_minor": 0
      },
      "text/plain": [
       "Validation: |          | 0/? [00:00<?, ?it/s]"
      ]
     },
     "metadata": {},
     "output_type": "display_data"
    },
    {
     "data": {
      "application/vnd.jupyter.widget-view+json": {
       "model_id": "5ac7c8f1174b4b5197f8a26b6e3703aa",
       "version_major": 2,
       "version_minor": 0
      },
      "text/plain": [
       "Validation: |          | 0/? [00:00<?, ?it/s]"
      ]
     },
     "metadata": {},
     "output_type": "display_data"
    },
    {
     "data": {
      "application/vnd.jupyter.widget-view+json": {
       "model_id": "10efc186b0b745399758f1eaa8a32134",
       "version_major": 2,
       "version_minor": 0
      },
      "text/plain": [
       "Validation: |          | 0/? [00:00<?, ?it/s]"
      ]
     },
     "metadata": {},
     "output_type": "display_data"
    },
    {
     "data": {
      "application/vnd.jupyter.widget-view+json": {
       "model_id": "bb87a4f2436f42aa99de182760f24979",
       "version_major": 2,
       "version_minor": 0
      },
      "text/plain": [
       "Validation: |          | 0/? [00:00<?, ?it/s]"
      ]
     },
     "metadata": {},
     "output_type": "display_data"
    },
    {
     "data": {
      "application/vnd.jupyter.widget-view+json": {
       "model_id": "876354fe720d4b648732baec0b03fd0b",
       "version_major": 2,
       "version_minor": 0
      },
      "text/plain": [
       "Validation: |          | 0/? [00:00<?, ?it/s]"
      ]
     },
     "metadata": {},
     "output_type": "display_data"
    },
    {
     "data": {
      "application/vnd.jupyter.widget-view+json": {
       "model_id": "94b555dd5ff14572849fc838865db738",
       "version_major": 2,
       "version_minor": 0
      },
      "text/plain": [
       "Validation: |          | 0/? [00:00<?, ?it/s]"
      ]
     },
     "metadata": {},
     "output_type": "display_data"
    },
    {
     "data": {
      "application/vnd.jupyter.widget-view+json": {
       "model_id": "c966bccd316e43a99254ff48379eddb3",
       "version_major": 2,
       "version_minor": 0
      },
      "text/plain": [
       "Validation: |          | 0/? [00:00<?, ?it/s]"
      ]
     },
     "metadata": {},
     "output_type": "display_data"
    },
    {
     "data": {
      "application/vnd.jupyter.widget-view+json": {
       "model_id": "87d690d11a694a339e970d872dc6f9f8",
       "version_major": 2,
       "version_minor": 0
      },
      "text/plain": [
       "Validation: |          | 0/? [00:00<?, ?it/s]"
      ]
     },
     "metadata": {},
     "output_type": "display_data"
    },
    {
     "data": {
      "application/vnd.jupyter.widget-view+json": {
       "model_id": "03b08e4abb934a5487c8915d925b7c68",
       "version_major": 2,
       "version_minor": 0
      },
      "text/plain": [
       "Validation: |          | 0/? [00:00<?, ?it/s]"
      ]
     },
     "metadata": {},
     "output_type": "display_data"
    },
    {
     "data": {
      "application/vnd.jupyter.widget-view+json": {
       "model_id": "5288f1ae7c39433e96ddd5d68f44605a",
       "version_major": 2,
       "version_minor": 0
      },
      "text/plain": [
       "Validation: |          | 0/? [00:00<?, ?it/s]"
      ]
     },
     "metadata": {},
     "output_type": "display_data"
    },
    {
     "data": {
      "application/vnd.jupyter.widget-view+json": {
       "model_id": "617a7c5d0f4046f4bf4388a374dbe1fd",
       "version_major": 2,
       "version_minor": 0
      },
      "text/plain": [
       "Validation: |          | 0/? [00:00<?, ?it/s]"
      ]
     },
     "metadata": {},
     "output_type": "display_data"
    },
    {
     "data": {
      "application/vnd.jupyter.widget-view+json": {
       "model_id": "a47fe2ff4ff444d59b84b8d525b8decc",
       "version_major": 2,
       "version_minor": 0
      },
      "text/plain": [
       "Validation: |          | 0/? [00:00<?, ?it/s]"
      ]
     },
     "metadata": {},
     "output_type": "display_data"
    },
    {
     "data": {
      "application/vnd.jupyter.widget-view+json": {
       "model_id": "3c4155cc736642ac8acf60cea8a7cbed",
       "version_major": 2,
       "version_minor": 0
      },
      "text/plain": [
       "Validation: |          | 0/? [00:00<?, ?it/s]"
      ]
     },
     "metadata": {},
     "output_type": "display_data"
    },
    {
     "data": {
      "application/vnd.jupyter.widget-view+json": {
       "model_id": "f9d61df98cbb4713831c3c8765c2a744",
       "version_major": 2,
       "version_minor": 0
      },
      "text/plain": [
       "Validation: |          | 0/? [00:00<?, ?it/s]"
      ]
     },
     "metadata": {},
     "output_type": "display_data"
    },
    {
     "data": {
      "application/vnd.jupyter.widget-view+json": {
       "model_id": "6d4a534d5d6f4e03ba7b8222df1a2d73",
       "version_major": 2,
       "version_minor": 0
      },
      "text/plain": [
       "Validation: |          | 0/? [00:00<?, ?it/s]"
      ]
     },
     "metadata": {},
     "output_type": "display_data"
    },
    {
     "data": {
      "application/vnd.jupyter.widget-view+json": {
       "model_id": "028cc35d89ae4fed8e9a054e4a9c097e",
       "version_major": 2,
       "version_minor": 0
      },
      "text/plain": [
       "Validation: |          | 0/? [00:00<?, ?it/s]"
      ]
     },
     "metadata": {},
     "output_type": "display_data"
    },
    {
     "data": {
      "application/vnd.jupyter.widget-view+json": {
       "model_id": "c5133af0308842c5913e674d44662f4f",
       "version_major": 2,
       "version_minor": 0
      },
      "text/plain": [
       "Validation: |          | 0/? [00:00<?, ?it/s]"
      ]
     },
     "metadata": {},
     "output_type": "display_data"
    },
    {
     "data": {
      "application/vnd.jupyter.widget-view+json": {
       "model_id": "2d3a9f07c9fa4775ba305de828eddf2d",
       "version_major": 2,
       "version_minor": 0
      },
      "text/plain": [
       "Validation: |          | 0/? [00:00<?, ?it/s]"
      ]
     },
     "metadata": {},
     "output_type": "display_data"
    },
    {
     "data": {
      "application/vnd.jupyter.widget-view+json": {
       "model_id": "e30b5e1591f849afa170d5bac8e49842",
       "version_major": 2,
       "version_minor": 0
      },
      "text/plain": [
       "Validation: |          | 0/? [00:00<?, ?it/s]"
      ]
     },
     "metadata": {},
     "output_type": "display_data"
    },
    {
     "data": {
      "application/vnd.jupyter.widget-view+json": {
       "model_id": "69cd53bd67524c7680066e6592a7b1fa",
       "version_major": 2,
       "version_minor": 0
      },
      "text/plain": [
       "Validation: |          | 0/? [00:00<?, ?it/s]"
      ]
     },
     "metadata": {},
     "output_type": "display_data"
    },
    {
     "data": {
      "application/vnd.jupyter.widget-view+json": {
       "model_id": "2b842a4950464ba99a82e29f90b5fdf7",
       "version_major": 2,
       "version_minor": 0
      },
      "text/plain": [
       "Validation: |          | 0/? [00:00<?, ?it/s]"
      ]
     },
     "metadata": {},
     "output_type": "display_data"
    },
    {
     "data": {
      "application/vnd.jupyter.widget-view+json": {
       "model_id": "b44d60b4982f4d0283368bbd988d9354",
       "version_major": 2,
       "version_minor": 0
      },
      "text/plain": [
       "Validation: |          | 0/? [00:00<?, ?it/s]"
      ]
     },
     "metadata": {},
     "output_type": "display_data"
    },
    {
     "data": {
      "application/vnd.jupyter.widget-view+json": {
       "model_id": "4712142f34f7484ca4132112aadbb153",
       "version_major": 2,
       "version_minor": 0
      },
      "text/plain": [
       "Validation: |          | 0/? [00:00<?, ?it/s]"
      ]
     },
     "metadata": {},
     "output_type": "display_data"
    },
    {
     "data": {
      "application/vnd.jupyter.widget-view+json": {
       "model_id": "6b168cf58d634075a56b53fc2a30bf94",
       "version_major": 2,
       "version_minor": 0
      },
      "text/plain": [
       "Validation: |          | 0/? [00:00<?, ?it/s]"
      ]
     },
     "metadata": {},
     "output_type": "display_data"
    },
    {
     "data": {
      "application/vnd.jupyter.widget-view+json": {
       "model_id": "f6d04441aced4ac6b003378ed975d837",
       "version_major": 2,
       "version_minor": 0
      },
      "text/plain": [
       "Validation: |          | 0/? [00:00<?, ?it/s]"
      ]
     },
     "metadata": {},
     "output_type": "display_data"
    },
    {
     "data": {
      "application/vnd.jupyter.widget-view+json": {
       "model_id": "a8b93463f7624cdcb997da0243bc6c2f",
       "version_major": 2,
       "version_minor": 0
      },
      "text/plain": [
       "Validation: |          | 0/? [00:00<?, ?it/s]"
      ]
     },
     "metadata": {},
     "output_type": "display_data"
    },
    {
     "data": {
      "application/vnd.jupyter.widget-view+json": {
       "model_id": "722567057a0843cdbc4a1167717c31a1",
       "version_major": 2,
       "version_minor": 0
      },
      "text/plain": [
       "Validation: |          | 0/? [00:00<?, ?it/s]"
      ]
     },
     "metadata": {},
     "output_type": "display_data"
    },
    {
     "data": {
      "application/vnd.jupyter.widget-view+json": {
       "model_id": "035bf090b91141e694dcff32e4aa910b",
       "version_major": 2,
       "version_minor": 0
      },
      "text/plain": [
       "Validation: |          | 0/? [00:00<?, ?it/s]"
      ]
     },
     "metadata": {},
     "output_type": "display_data"
    },
    {
     "data": {
      "application/vnd.jupyter.widget-view+json": {
       "model_id": "c2acd70610244a97816fb0d232b5ee5b",
       "version_major": 2,
       "version_minor": 0
      },
      "text/plain": [
       "Validation: |          | 0/? [00:00<?, ?it/s]"
      ]
     },
     "metadata": {},
     "output_type": "display_data"
    },
    {
     "data": {
      "application/vnd.jupyter.widget-view+json": {
       "model_id": "b54b09c50c614c2db30df68c76b6400d",
       "version_major": 2,
       "version_minor": 0
      },
      "text/plain": [
       "Validation: |          | 0/? [00:00<?, ?it/s]"
      ]
     },
     "metadata": {},
     "output_type": "display_data"
    },
    {
     "data": {
      "application/vnd.jupyter.widget-view+json": {
       "model_id": "77cb2a9f648f45d498d2bf47f6e5241c",
       "version_major": 2,
       "version_minor": 0
      },
      "text/plain": [
       "Validation: |          | 0/? [00:00<?, ?it/s]"
      ]
     },
     "metadata": {},
     "output_type": "display_data"
    },
    {
     "data": {
      "application/vnd.jupyter.widget-view+json": {
       "model_id": "c89f9101319340f8a90b890c4db95094",
       "version_major": 2,
       "version_minor": 0
      },
      "text/plain": [
       "Validation: |          | 0/? [00:00<?, ?it/s]"
      ]
     },
     "metadata": {},
     "output_type": "display_data"
    },
    {
     "data": {
      "application/vnd.jupyter.widget-view+json": {
       "model_id": "b1e279f631204ae7b74e832ae1f6d536",
       "version_major": 2,
       "version_minor": 0
      },
      "text/plain": [
       "Validation: |          | 0/? [00:00<?, ?it/s]"
      ]
     },
     "metadata": {},
     "output_type": "display_data"
    },
    {
     "data": {
      "application/vnd.jupyter.widget-view+json": {
       "model_id": "f9f608c2cedd4cc7a14a8f20a3d9858b",
       "version_major": 2,
       "version_minor": 0
      },
      "text/plain": [
       "Validation: |          | 0/? [00:00<?, ?it/s]"
      ]
     },
     "metadata": {},
     "output_type": "display_data"
    },
    {
     "data": {
      "application/vnd.jupyter.widget-view+json": {
       "model_id": "21ce86b493e04f4ab7c89172dc66e01f",
       "version_major": 2,
       "version_minor": 0
      },
      "text/plain": [
       "Validation: |          | 0/? [00:00<?, ?it/s]"
      ]
     },
     "metadata": {},
     "output_type": "display_data"
    },
    {
     "data": {
      "application/vnd.jupyter.widget-view+json": {
       "model_id": "451f5f312aff4705b98a2370a1857913",
       "version_major": 2,
       "version_minor": 0
      },
      "text/plain": [
       "Validation: |          | 0/? [00:00<?, ?it/s]"
      ]
     },
     "metadata": {},
     "output_type": "display_data"
    },
    {
     "data": {
      "application/vnd.jupyter.widget-view+json": {
       "model_id": "fc225e538e2f401d9bb12ab403a8f552",
       "version_major": 2,
       "version_minor": 0
      },
      "text/plain": [
       "Validation: |          | 0/? [00:00<?, ?it/s]"
      ]
     },
     "metadata": {},
     "output_type": "display_data"
    },
    {
     "data": {
      "application/vnd.jupyter.widget-view+json": {
       "model_id": "58324a83b2c749648be986c599f4af84",
       "version_major": 2,
       "version_minor": 0
      },
      "text/plain": [
       "Validation: |          | 0/? [00:00<?, ?it/s]"
      ]
     },
     "metadata": {},
     "output_type": "display_data"
    },
    {
     "data": {
      "application/vnd.jupyter.widget-view+json": {
       "model_id": "3cee2827556e471e8b749a6d0d0f5aef",
       "version_major": 2,
       "version_minor": 0
      },
      "text/plain": [
       "Validation: |          | 0/? [00:00<?, ?it/s]"
      ]
     },
     "metadata": {},
     "output_type": "display_data"
    },
    {
     "data": {
      "application/vnd.jupyter.widget-view+json": {
       "model_id": "c3ccd86368174779a63f4c5e2c04ce83",
       "version_major": 2,
       "version_minor": 0
      },
      "text/plain": [
       "Validation: |          | 0/? [00:00<?, ?it/s]"
      ]
     },
     "metadata": {},
     "output_type": "display_data"
    },
    {
     "data": {
      "application/vnd.jupyter.widget-view+json": {
       "model_id": "b20867580dd74a18978cdf4a35368872",
       "version_major": 2,
       "version_minor": 0
      },
      "text/plain": [
       "Validation: |          | 0/? [00:00<?, ?it/s]"
      ]
     },
     "metadata": {},
     "output_type": "display_data"
    },
    {
     "data": {
      "application/vnd.jupyter.widget-view+json": {
       "model_id": "98a1042cf2e6493f859afefe0db2ea5f",
       "version_major": 2,
       "version_minor": 0
      },
      "text/plain": [
       "Validation: |          | 0/? [00:00<?, ?it/s]"
      ]
     },
     "metadata": {},
     "output_type": "display_data"
    },
    {
     "data": {
      "application/vnd.jupyter.widget-view+json": {
       "model_id": "6b57b668d6de4ea9b5e6519de08a96d6",
       "version_major": 2,
       "version_minor": 0
      },
      "text/plain": [
       "Validation: |          | 0/? [00:00<?, ?it/s]"
      ]
     },
     "metadata": {},
     "output_type": "display_data"
    },
    {
     "data": {
      "application/vnd.jupyter.widget-view+json": {
       "model_id": "1cd8268868cc4c4681b35c4b95777fe8",
       "version_major": 2,
       "version_minor": 0
      },
      "text/plain": [
       "Validation: |          | 0/? [00:00<?, ?it/s]"
      ]
     },
     "metadata": {},
     "output_type": "display_data"
    },
    {
     "data": {
      "application/vnd.jupyter.widget-view+json": {
       "model_id": "7921beaa234d406b87fefc9f90bcd3fa",
       "version_major": 2,
       "version_minor": 0
      },
      "text/plain": [
       "Validation: |          | 0/? [00:00<?, ?it/s]"
      ]
     },
     "metadata": {},
     "output_type": "display_data"
    },
    {
     "data": {
      "application/vnd.jupyter.widget-view+json": {
       "model_id": "bff4a4761c5c495da90ec178e2d1a7d6",
       "version_major": 2,
       "version_minor": 0
      },
      "text/plain": [
       "Validation: |          | 0/? [00:00<?, ?it/s]"
      ]
     },
     "metadata": {},
     "output_type": "display_data"
    },
    {
     "data": {
      "application/vnd.jupyter.widget-view+json": {
       "model_id": "828783dd0adb4884bf07371f7404aa2b",
       "version_major": 2,
       "version_minor": 0
      },
      "text/plain": [
       "Validation: |          | 0/? [00:00<?, ?it/s]"
      ]
     },
     "metadata": {},
     "output_type": "display_data"
    },
    {
     "data": {
      "application/vnd.jupyter.widget-view+json": {
       "model_id": "72896db575304e29990cf4e8986dfd62",
       "version_major": 2,
       "version_minor": 0
      },
      "text/plain": [
       "Validation: |          | 0/? [00:00<?, ?it/s]"
      ]
     },
     "metadata": {},
     "output_type": "display_data"
    },
    {
     "data": {
      "application/vnd.jupyter.widget-view+json": {
       "model_id": "b9434de9f2224051a011eda4edead341",
       "version_major": 2,
       "version_minor": 0
      },
      "text/plain": [
       "Validation: |          | 0/? [00:00<?, ?it/s]"
      ]
     },
     "metadata": {},
     "output_type": "display_data"
    },
    {
     "data": {
      "application/vnd.jupyter.widget-view+json": {
       "model_id": "5d4105be2f0e40f7acf968f42b0e1fb2",
       "version_major": 2,
       "version_minor": 0
      },
      "text/plain": [
       "Validation: |          | 0/? [00:00<?, ?it/s]"
      ]
     },
     "metadata": {},
     "output_type": "display_data"
    },
    {
     "data": {
      "application/vnd.jupyter.widget-view+json": {
       "model_id": "0a695ecd18cc44d58a84863df346c7ff",
       "version_major": 2,
       "version_minor": 0
      },
      "text/plain": [
       "Validation: |          | 0/? [00:00<?, ?it/s]"
      ]
     },
     "metadata": {},
     "output_type": "display_data"
    },
    {
     "data": {
      "application/vnd.jupyter.widget-view+json": {
       "model_id": "953a877fe6c146bda7d910e32ca42a7e",
       "version_major": 2,
       "version_minor": 0
      },
      "text/plain": [
       "Validation: |          | 0/? [00:00<?, ?it/s]"
      ]
     },
     "metadata": {},
     "output_type": "display_data"
    },
    {
     "data": {
      "application/vnd.jupyter.widget-view+json": {
       "model_id": "37146db7d97c49de9ed17e6275e4bb07",
       "version_major": 2,
       "version_minor": 0
      },
      "text/plain": [
       "Validation: |          | 0/? [00:00<?, ?it/s]"
      ]
     },
     "metadata": {},
     "output_type": "display_data"
    },
    {
     "data": {
      "application/vnd.jupyter.widget-view+json": {
       "model_id": "3c17c6c2a4a04dd6b7df5fc8b4e920d4",
       "version_major": 2,
       "version_minor": 0
      },
      "text/plain": [
       "Validation: |          | 0/? [00:00<?, ?it/s]"
      ]
     },
     "metadata": {},
     "output_type": "display_data"
    },
    {
     "data": {
      "application/vnd.jupyter.widget-view+json": {
       "model_id": "95e23fb3700b417c90f311834434f94b",
       "version_major": 2,
       "version_minor": 0
      },
      "text/plain": [
       "Validation: |          | 0/? [00:00<?, ?it/s]"
      ]
     },
     "metadata": {},
     "output_type": "display_data"
    },
    {
     "data": {
      "application/vnd.jupyter.widget-view+json": {
       "model_id": "add6550bd91d4444843da1ec1e8b225d",
       "version_major": 2,
       "version_minor": 0
      },
      "text/plain": [
       "Validation: |          | 0/? [00:00<?, ?it/s]"
      ]
     },
     "metadata": {},
     "output_type": "display_data"
    },
    {
     "data": {
      "application/vnd.jupyter.widget-view+json": {
       "model_id": "0206bdece54f4cf2910f174bcabe7d26",
       "version_major": 2,
       "version_minor": 0
      },
      "text/plain": [
       "Validation: |          | 0/? [00:00<?, ?it/s]"
      ]
     },
     "metadata": {},
     "output_type": "display_data"
    },
    {
     "data": {
      "application/vnd.jupyter.widget-view+json": {
       "model_id": "16c5dd6cae4046ec90c1cd014f550d67",
       "version_major": 2,
       "version_minor": 0
      },
      "text/plain": [
       "Validation: |          | 0/? [00:00<?, ?it/s]"
      ]
     },
     "metadata": {},
     "output_type": "display_data"
    },
    {
     "data": {
      "application/vnd.jupyter.widget-view+json": {
       "model_id": "007634a7ad7c4bc298744a97b34a2623",
       "version_major": 2,
       "version_minor": 0
      },
      "text/plain": [
       "Validation: |          | 0/? [00:00<?, ?it/s]"
      ]
     },
     "metadata": {},
     "output_type": "display_data"
    },
    {
     "data": {
      "application/vnd.jupyter.widget-view+json": {
       "model_id": "7530a16743d549ce8b16d7131827d63a",
       "version_major": 2,
       "version_minor": 0
      },
      "text/plain": [
       "Validation: |          | 0/? [00:00<?, ?it/s]"
      ]
     },
     "metadata": {},
     "output_type": "display_data"
    },
    {
     "data": {
      "application/vnd.jupyter.widget-view+json": {
       "model_id": "137edbab89db41f089f5f230b2f10328",
       "version_major": 2,
       "version_minor": 0
      },
      "text/plain": [
       "Validation: |          | 0/? [00:00<?, ?it/s]"
      ]
     },
     "metadata": {},
     "output_type": "display_data"
    },
    {
     "data": {
      "application/vnd.jupyter.widget-view+json": {
       "model_id": "af96996a28d84d949b7079b3f41dc045",
       "version_major": 2,
       "version_minor": 0
      },
      "text/plain": [
       "Validation: |          | 0/? [00:00<?, ?it/s]"
      ]
     },
     "metadata": {},
     "output_type": "display_data"
    },
    {
     "data": {
      "application/vnd.jupyter.widget-view+json": {
       "model_id": "a3dc9927a2c8453b8b7041d5422ef6d2",
       "version_major": 2,
       "version_minor": 0
      },
      "text/plain": [
       "Validation: |          | 0/? [00:00<?, ?it/s]"
      ]
     },
     "metadata": {},
     "output_type": "display_data"
    },
    {
     "data": {
      "application/vnd.jupyter.widget-view+json": {
       "model_id": "ad49f4e9010a4dc09ca05b22fa0feff8",
       "version_major": 2,
       "version_minor": 0
      },
      "text/plain": [
       "Validation: |          | 0/? [00:00<?, ?it/s]"
      ]
     },
     "metadata": {},
     "output_type": "display_data"
    },
    {
     "data": {
      "application/vnd.jupyter.widget-view+json": {
       "model_id": "2be7ef2b2f76474eb3e1015307186fae",
       "version_major": 2,
       "version_minor": 0
      },
      "text/plain": [
       "Validation: |          | 0/? [00:00<?, ?it/s]"
      ]
     },
     "metadata": {},
     "output_type": "display_data"
    },
    {
     "data": {
      "application/vnd.jupyter.widget-view+json": {
       "model_id": "e8d1f3eb50b34a1a92d577c837ba2fec",
       "version_major": 2,
       "version_minor": 0
      },
      "text/plain": [
       "Validation: |          | 0/? [00:00<?, ?it/s]"
      ]
     },
     "metadata": {},
     "output_type": "display_data"
    },
    {
     "data": {
      "application/vnd.jupyter.widget-view+json": {
       "model_id": "fa4d999e4bc146c599bb75565b10571b",
       "version_major": 2,
       "version_minor": 0
      },
      "text/plain": [
       "Validation: |          | 0/? [00:00<?, ?it/s]"
      ]
     },
     "metadata": {},
     "output_type": "display_data"
    },
    {
     "data": {
      "application/vnd.jupyter.widget-view+json": {
       "model_id": "f92e6fe562be46589ac67469caf3061e",
       "version_major": 2,
       "version_minor": 0
      },
      "text/plain": [
       "Validation: |          | 0/? [00:00<?, ?it/s]"
      ]
     },
     "metadata": {},
     "output_type": "display_data"
    },
    {
     "data": {
      "application/vnd.jupyter.widget-view+json": {
       "model_id": "8caf5d15e0e745eeba877eb55f5f977b",
       "version_major": 2,
       "version_minor": 0
      },
      "text/plain": [
       "Validation: |          | 0/? [00:00<?, ?it/s]"
      ]
     },
     "metadata": {},
     "output_type": "display_data"
    },
    {
     "data": {
      "application/vnd.jupyter.widget-view+json": {
       "model_id": "0e3f435e28814bf297eccae2dbf4db86",
       "version_major": 2,
       "version_minor": 0
      },
      "text/plain": [
       "Validation: |          | 0/? [00:00<?, ?it/s]"
      ]
     },
     "metadata": {},
     "output_type": "display_data"
    },
    {
     "data": {
      "application/vnd.jupyter.widget-view+json": {
       "model_id": "c077407940c746938328f90874456f90",
       "version_major": 2,
       "version_minor": 0
      },
      "text/plain": [
       "Validation: |          | 0/? [00:00<?, ?it/s]"
      ]
     },
     "metadata": {},
     "output_type": "display_data"
    },
    {
     "data": {
      "application/vnd.jupyter.widget-view+json": {
       "model_id": "0dfb8ad1c0ac4274a1bfab35678af6c1",
       "version_major": 2,
       "version_minor": 0
      },
      "text/plain": [
       "Validation: |          | 0/? [00:00<?, ?it/s]"
      ]
     },
     "metadata": {},
     "output_type": "display_data"
    },
    {
     "data": {
      "application/vnd.jupyter.widget-view+json": {
       "model_id": "55dcf3fede494d2a813ea30bbd54395b",
       "version_major": 2,
       "version_minor": 0
      },
      "text/plain": [
       "Validation: |          | 0/? [00:00<?, ?it/s]"
      ]
     },
     "metadata": {},
     "output_type": "display_data"
    },
    {
     "data": {
      "application/vnd.jupyter.widget-view+json": {
       "model_id": "071c8255282b4fcbace12ba3d94c685b",
       "version_major": 2,
       "version_minor": 0
      },
      "text/plain": [
       "Validation: |          | 0/? [00:00<?, ?it/s]"
      ]
     },
     "metadata": {},
     "output_type": "display_data"
    },
    {
     "data": {
      "application/vnd.jupyter.widget-view+json": {
       "model_id": "ce45fd08809f4a46a61caa8f34c4fcc7",
       "version_major": 2,
       "version_minor": 0
      },
      "text/plain": [
       "Validation: |          | 0/? [00:00<?, ?it/s]"
      ]
     },
     "metadata": {},
     "output_type": "display_data"
    },
    {
     "data": {
      "application/vnd.jupyter.widget-view+json": {
       "model_id": "e497e62f86cf466fa843441e1a47e939",
       "version_major": 2,
       "version_minor": 0
      },
      "text/plain": [
       "Validation: |          | 0/? [00:00<?, ?it/s]"
      ]
     },
     "metadata": {},
     "output_type": "display_data"
    },
    {
     "data": {
      "application/vnd.jupyter.widget-view+json": {
       "model_id": "a76dee68d78044d6abefa1338ddb62e5",
       "version_major": 2,
       "version_minor": 0
      },
      "text/plain": [
       "Validation: |          | 0/? [00:00<?, ?it/s]"
      ]
     },
     "metadata": {},
     "output_type": "display_data"
    },
    {
     "data": {
      "application/vnd.jupyter.widget-view+json": {
       "model_id": "e09d8dc0b72140b689813f0cc15d9728",
       "version_major": 2,
       "version_minor": 0
      },
      "text/plain": [
       "Validation: |          | 0/? [00:00<?, ?it/s]"
      ]
     },
     "metadata": {},
     "output_type": "display_data"
    },
    {
     "data": {
      "application/vnd.jupyter.widget-view+json": {
       "model_id": "3ee0a903fd7145c1a774ed998701e43b",
       "version_major": 2,
       "version_minor": 0
      },
      "text/plain": [
       "Validation: |          | 0/? [00:00<?, ?it/s]"
      ]
     },
     "metadata": {},
     "output_type": "display_data"
    },
    {
     "data": {
      "application/vnd.jupyter.widget-view+json": {
       "model_id": "15fc3cbbc3f54092b7ffffdf81f8ebb5",
       "version_major": 2,
       "version_minor": 0
      },
      "text/plain": [
       "Validation: |          | 0/? [00:00<?, ?it/s]"
      ]
     },
     "metadata": {},
     "output_type": "display_data"
    },
    {
     "data": {
      "application/vnd.jupyter.widget-view+json": {
       "model_id": "ebeabc6ca4674a6db91df1165ef8cf5f",
       "version_major": 2,
       "version_minor": 0
      },
      "text/plain": [
       "Validation: |          | 0/? [00:00<?, ?it/s]"
      ]
     },
     "metadata": {},
     "output_type": "display_data"
    },
    {
     "data": {
      "application/vnd.jupyter.widget-view+json": {
       "model_id": "2379ed05215c45fb96cdcd655cd60845",
       "version_major": 2,
       "version_minor": 0
      },
      "text/plain": [
       "Validation: |          | 0/? [00:00<?, ?it/s]"
      ]
     },
     "metadata": {},
     "output_type": "display_data"
    },
    {
     "data": {
      "application/vnd.jupyter.widget-view+json": {
       "model_id": "8478fd785c284124b6b3b2456a088faa",
       "version_major": 2,
       "version_minor": 0
      },
      "text/plain": [
       "Validation: |          | 0/? [00:00<?, ?it/s]"
      ]
     },
     "metadata": {},
     "output_type": "display_data"
    },
    {
     "data": {
      "application/vnd.jupyter.widget-view+json": {
       "model_id": "107a85da342242e8a4612f0219e30f09",
       "version_major": 2,
       "version_minor": 0
      },
      "text/plain": [
       "Validation: |          | 0/? [00:00<?, ?it/s]"
      ]
     },
     "metadata": {},
     "output_type": "display_data"
    },
    {
     "data": {
      "application/vnd.jupyter.widget-view+json": {
       "model_id": "71cda40e7d6d4f069dc1721aad5a51c1",
       "version_major": 2,
       "version_minor": 0
      },
      "text/plain": [
       "Validation: |          | 0/? [00:00<?, ?it/s]"
      ]
     },
     "metadata": {},
     "output_type": "display_data"
    },
    {
     "data": {
      "application/vnd.jupyter.widget-view+json": {
       "model_id": "6b4d6bddb4be45f3bc86e8e293df2906",
       "version_major": 2,
       "version_minor": 0
      },
      "text/plain": [
       "Validation: |          | 0/? [00:00<?, ?it/s]"
      ]
     },
     "metadata": {},
     "output_type": "display_data"
    },
    {
     "data": {
      "application/vnd.jupyter.widget-view+json": {
       "model_id": "44344d48c4964a8eb119ac9d390f9111",
       "version_major": 2,
       "version_minor": 0
      },
      "text/plain": [
       "Validation: |          | 0/? [00:00<?, ?it/s]"
      ]
     },
     "metadata": {},
     "output_type": "display_data"
    },
    {
     "data": {
      "application/vnd.jupyter.widget-view+json": {
       "model_id": "4ee017539cd34de492688d1a1561be36",
       "version_major": 2,
       "version_minor": 0
      },
      "text/plain": [
       "Validation: |          | 0/? [00:00<?, ?it/s]"
      ]
     },
     "metadata": {},
     "output_type": "display_data"
    },
    {
     "data": {
      "application/vnd.jupyter.widget-view+json": {
       "model_id": "572c107f2dc34bbc9175d18e05c6defd",
       "version_major": 2,
       "version_minor": 0
      },
      "text/plain": [
       "Validation: |          | 0/? [00:00<?, ?it/s]"
      ]
     },
     "metadata": {},
     "output_type": "display_data"
    },
    {
     "data": {
      "application/vnd.jupyter.widget-view+json": {
       "model_id": "2b0e938e45dc4b358d4ca24d80971365",
       "version_major": 2,
       "version_minor": 0
      },
      "text/plain": [
       "Validation: |          | 0/? [00:00<?, ?it/s]"
      ]
     },
     "metadata": {},
     "output_type": "display_data"
    },
    {
     "data": {
      "application/vnd.jupyter.widget-view+json": {
       "model_id": "236434ffdaac453c9b6af2199cef5dd9",
       "version_major": 2,
       "version_minor": 0
      },
      "text/plain": [
       "Validation: |          | 0/? [00:00<?, ?it/s]"
      ]
     },
     "metadata": {},
     "output_type": "display_data"
    },
    {
     "data": {
      "application/vnd.jupyter.widget-view+json": {
       "model_id": "9a03a6b4fde24cabaf5317665d476507",
       "version_major": 2,
       "version_minor": 0
      },
      "text/plain": [
       "Validation: |          | 0/? [00:00<?, ?it/s]"
      ]
     },
     "metadata": {},
     "output_type": "display_data"
    },
    {
     "data": {
      "application/vnd.jupyter.widget-view+json": {
       "model_id": "35d0b7fe8846402b97878b7952928969",
       "version_major": 2,
       "version_minor": 0
      },
      "text/plain": [
       "Validation: |          | 0/? [00:00<?, ?it/s]"
      ]
     },
     "metadata": {},
     "output_type": "display_data"
    },
    {
     "data": {
      "application/vnd.jupyter.widget-view+json": {
       "model_id": "daaa4d90e3fd4a47b847a26c01dec926",
       "version_major": 2,
       "version_minor": 0
      },
      "text/plain": [
       "Validation: |          | 0/? [00:00<?, ?it/s]"
      ]
     },
     "metadata": {},
     "output_type": "display_data"
    },
    {
     "data": {
      "application/vnd.jupyter.widget-view+json": {
       "model_id": "2c802d1ca2a54b9a911dd39af34ef716",
       "version_major": 2,
       "version_minor": 0
      },
      "text/plain": [
       "Validation: |          | 0/? [00:00<?, ?it/s]"
      ]
     },
     "metadata": {},
     "output_type": "display_data"
    },
    {
     "data": {
      "application/vnd.jupyter.widget-view+json": {
       "model_id": "8cf9e94ccdd745ddb8c9a88e59868db1",
       "version_major": 2,
       "version_minor": 0
      },
      "text/plain": [
       "Validation: |          | 0/? [00:00<?, ?it/s]"
      ]
     },
     "metadata": {},
     "output_type": "display_data"
    },
    {
     "data": {
      "application/vnd.jupyter.widget-view+json": {
       "model_id": "0d3b8711e0c140fabcf6d003addd67d1",
       "version_major": 2,
       "version_minor": 0
      },
      "text/plain": [
       "Validation: |          | 0/? [00:00<?, ?it/s]"
      ]
     },
     "metadata": {},
     "output_type": "display_data"
    },
    {
     "data": {
      "application/vnd.jupyter.widget-view+json": {
       "model_id": "5c7f43f6380d4129b34de398c9dc2716",
       "version_major": 2,
       "version_minor": 0
      },
      "text/plain": [
       "Validation: |          | 0/? [00:00<?, ?it/s]"
      ]
     },
     "metadata": {},
     "output_type": "display_data"
    },
    {
     "data": {
      "application/vnd.jupyter.widget-view+json": {
       "model_id": "2bfea9bed574410db2d42046629ba157",
       "version_major": 2,
       "version_minor": 0
      },
      "text/plain": [
       "Validation: |          | 0/? [00:00<?, ?it/s]"
      ]
     },
     "metadata": {},
     "output_type": "display_data"
    },
    {
     "data": {
      "application/vnd.jupyter.widget-view+json": {
       "model_id": "9fc458eda32043f2b805e193d3690de1",
       "version_major": 2,
       "version_minor": 0
      },
      "text/plain": [
       "Validation: |          | 0/? [00:00<?, ?it/s]"
      ]
     },
     "metadata": {},
     "output_type": "display_data"
    },
    {
     "data": {
      "application/vnd.jupyter.widget-view+json": {
       "model_id": "951df08d7e1e40c3be42b5c7adebd5dd",
       "version_major": 2,
       "version_minor": 0
      },
      "text/plain": [
       "Validation: |          | 0/? [00:00<?, ?it/s]"
      ]
     },
     "metadata": {},
     "output_type": "display_data"
    },
    {
     "data": {
      "application/vnd.jupyter.widget-view+json": {
       "model_id": "af24d120f424485b9d83589230a60125",
       "version_major": 2,
       "version_minor": 0
      },
      "text/plain": [
       "Validation: |          | 0/? [00:00<?, ?it/s]"
      ]
     },
     "metadata": {},
     "output_type": "display_data"
    },
    {
     "data": {
      "application/vnd.jupyter.widget-view+json": {
       "model_id": "7139a6300a2d499f981d17ce1136672f",
       "version_major": 2,
       "version_minor": 0
      },
      "text/plain": [
       "Validation: |          | 0/? [00:00<?, ?it/s]"
      ]
     },
     "metadata": {},
     "output_type": "display_data"
    },
    {
     "data": {
      "application/vnd.jupyter.widget-view+json": {
       "model_id": "10d5a686aed64a7094287f84a7f15e47",
       "version_major": 2,
       "version_minor": 0
      },
      "text/plain": [
       "Validation: |          | 0/? [00:00<?, ?it/s]"
      ]
     },
     "metadata": {},
     "output_type": "display_data"
    },
    {
     "data": {
      "application/vnd.jupyter.widget-view+json": {
       "model_id": "3248cf325c2b4eb39cd8e7d73bca0183",
       "version_major": 2,
       "version_minor": 0
      },
      "text/plain": [
       "Validation: |          | 0/? [00:00<?, ?it/s]"
      ]
     },
     "metadata": {},
     "output_type": "display_data"
    },
    {
     "data": {
      "application/vnd.jupyter.widget-view+json": {
       "model_id": "7a822de02aca410f931b2e2284a738ca",
       "version_major": 2,
       "version_minor": 0
      },
      "text/plain": [
       "Validation: |          | 0/? [00:00<?, ?it/s]"
      ]
     },
     "metadata": {},
     "output_type": "display_data"
    },
    {
     "data": {
      "application/vnd.jupyter.widget-view+json": {
       "model_id": "783c3a1605564b3a8bb2e23c5d086819",
       "version_major": 2,
       "version_minor": 0
      },
      "text/plain": [
       "Validation: |          | 0/? [00:00<?, ?it/s]"
      ]
     },
     "metadata": {},
     "output_type": "display_data"
    },
    {
     "data": {
      "application/vnd.jupyter.widget-view+json": {
       "model_id": "d125c0fa542c4fc29771f1fe52d79845",
       "version_major": 2,
       "version_minor": 0
      },
      "text/plain": [
       "Validation: |          | 0/? [00:00<?, ?it/s]"
      ]
     },
     "metadata": {},
     "output_type": "display_data"
    },
    {
     "data": {
      "application/vnd.jupyter.widget-view+json": {
       "model_id": "7910060ea7694d7d9c33cc80c5b154b5",
       "version_major": 2,
       "version_minor": 0
      },
      "text/plain": [
       "Validation: |          | 0/? [00:00<?, ?it/s]"
      ]
     },
     "metadata": {},
     "output_type": "display_data"
    },
    {
     "data": {
      "application/vnd.jupyter.widget-view+json": {
       "model_id": "71e1f096bbe54321bae0d8c55150b978",
       "version_major": 2,
       "version_minor": 0
      },
      "text/plain": [
       "Validation: |          | 0/? [00:00<?, ?it/s]"
      ]
     },
     "metadata": {},
     "output_type": "display_data"
    },
    {
     "data": {
      "application/vnd.jupyter.widget-view+json": {
       "model_id": "8bf5c6aaec434f59a67cfd7bfe0c1962",
       "version_major": 2,
       "version_minor": 0
      },
      "text/plain": [
       "Validation: |          | 0/? [00:00<?, ?it/s]"
      ]
     },
     "metadata": {},
     "output_type": "display_data"
    },
    {
     "data": {
      "application/vnd.jupyter.widget-view+json": {
       "model_id": "5cb5e7b3ac26414bbcc523bebaae69c2",
       "version_major": 2,
       "version_minor": 0
      },
      "text/plain": [
       "Validation: |          | 0/? [00:00<?, ?it/s]"
      ]
     },
     "metadata": {},
     "output_type": "display_data"
    },
    {
     "data": {
      "application/vnd.jupyter.widget-view+json": {
       "model_id": "17b36374ea264edab5abdf508dcbbfb2",
       "version_major": 2,
       "version_minor": 0
      },
      "text/plain": [
       "Validation: |          | 0/? [00:00<?, ?it/s]"
      ]
     },
     "metadata": {},
     "output_type": "display_data"
    },
    {
     "data": {
      "application/vnd.jupyter.widget-view+json": {
       "model_id": "0874cc7912ef4fafb4e857daedc1c2c7",
       "version_major": 2,
       "version_minor": 0
      },
      "text/plain": [
       "Validation: |          | 0/? [00:00<?, ?it/s]"
      ]
     },
     "metadata": {},
     "output_type": "display_data"
    },
    {
     "data": {
      "application/vnd.jupyter.widget-view+json": {
       "model_id": "a4c32452bf2a492e91eeebaae6a813ea",
       "version_major": 2,
       "version_minor": 0
      },
      "text/plain": [
       "Validation: |          | 0/? [00:00<?, ?it/s]"
      ]
     },
     "metadata": {},
     "output_type": "display_data"
    },
    {
     "data": {
      "application/vnd.jupyter.widget-view+json": {
       "model_id": "6008377405a8434fb31d7aeed62b8895",
       "version_major": 2,
       "version_minor": 0
      },
      "text/plain": [
       "Validation: |          | 0/? [00:00<?, ?it/s]"
      ]
     },
     "metadata": {},
     "output_type": "display_data"
    },
    {
     "data": {
      "application/vnd.jupyter.widget-view+json": {
       "model_id": "3a59dbc2613e4af6ab50fc69f2095dcc",
       "version_major": 2,
       "version_minor": 0
      },
      "text/plain": [
       "Validation: |          | 0/? [00:00<?, ?it/s]"
      ]
     },
     "metadata": {},
     "output_type": "display_data"
    },
    {
     "data": {
      "application/vnd.jupyter.widget-view+json": {
       "model_id": "9c49baf9a0ae4290b99717e374b5d4f8",
       "version_major": 2,
       "version_minor": 0
      },
      "text/plain": [
       "Validation: |          | 0/? [00:00<?, ?it/s]"
      ]
     },
     "metadata": {},
     "output_type": "display_data"
    },
    {
     "data": {
      "application/vnd.jupyter.widget-view+json": {
       "model_id": "2693b14dbe0447e19a8bc8120a9b30c6",
       "version_major": 2,
       "version_minor": 0
      },
      "text/plain": [
       "Validation: |          | 0/? [00:00<?, ?it/s]"
      ]
     },
     "metadata": {},
     "output_type": "display_data"
    },
    {
     "data": {
      "application/vnd.jupyter.widget-view+json": {
       "model_id": "62c0062ff5d54555b069017115bbeb91",
       "version_major": 2,
       "version_minor": 0
      },
      "text/plain": [
       "Validation: |          | 0/? [00:00<?, ?it/s]"
      ]
     },
     "metadata": {},
     "output_type": "display_data"
    },
    {
     "data": {
      "application/vnd.jupyter.widget-view+json": {
       "model_id": "5efbf850fbdc41e1840128e8667862f2",
       "version_major": 2,
       "version_minor": 0
      },
      "text/plain": [
       "Validation: |          | 0/? [00:00<?, ?it/s]"
      ]
     },
     "metadata": {},
     "output_type": "display_data"
    },
    {
     "data": {
      "application/vnd.jupyter.widget-view+json": {
       "model_id": "78a0edf1edd14daaafb40eb90bc658ed",
       "version_major": 2,
       "version_minor": 0
      },
      "text/plain": [
       "Validation: |          | 0/? [00:00<?, ?it/s]"
      ]
     },
     "metadata": {},
     "output_type": "display_data"
    },
    {
     "name": "stderr",
     "output_type": "stream",
     "text": [
      "`Trainer.fit` stopped: `max_epochs=200` reached.\n"
     ]
    },
    {
     "name": "stdout",
     "output_type": "stream",
     "text": [
      "✅ Model saved to models/saved_models/lstm_model_multireg_20250903_024745.pt\n",
      "✅ Meta saved to models/saved_models/lstm_meta_multireg_20250903_024745.pkl\n",
      "\n",
      "📊 Validation Metrics (MDN):\n",
      "  Regression → MSE: 0.115894, MAE: 0.267756\n",
      "  Validity   → Acc: 0.9000, F1: 0.4737\n"
     ]
    }
   ],
   "source": [
    "import sys\n",
    "from pathlib import Path\n",
    "\n",
    "# Current notebook location\n",
    "notebook_path = Path().resolve()\n",
    "\n",
    "# Add parent folder (meta/) to sys.path\n",
    "sys.path.append(str(notebook_path.parent))\n",
    "import joblib\n",
    "import torch\n",
    "import pytorch_lightning as pl\n",
    "from torch.utils.data import DataLoader\n",
    "from sklearn.metrics import classification_report, confusion_matrix\n",
    "from datetime import datetime\n",
    "from preprocess.multi_regression_seq_dif import preprocess_sequences_csv_multilines\n",
    "# from models.LSTM.lstm_multi_line_reg_seq_dif import LSTMMultiRegressor\n",
    "from utils.print_batch import print_batch\n",
    "from utils.to_address import to_address\n",
    "from utils.json_to_csv import json_to_csv_in_memory\n",
    "from utils.padding_batch_reg import collate_batch\n",
    "import pandas as pd\n",
    "import io\n",
    "import numpy as np\n",
    "import os\n",
    "\n",
    "from sklearn.metrics import accuracy_score, f1_score\n",
    "# ---------------- Evaluation ---------------- #\n",
    "@torch.no_grad()\n",
    "def evaluate_model_mdn(model, val_loader, zero_idx=0, threshold=0.7):\n",
    "    \"\"\"\n",
    "    Evaluate CNN–LSTM–MDN model.\n",
    "\n",
    "    Args\n",
    "    ----\n",
    "    model : pl.LightningModule with MDN forward\n",
    "    val_loader : DataLoader yielding (X, y, lengths)\n",
    "    zero_idx : which mixture component is considered \"no-line\" (usually 0)\n",
    "    threshold : if pi[:,t,zero_idx] > threshold → predict invalid\n",
    "\n",
    "    Returns\n",
    "    -------\n",
    "    dict with mse, mae, acc, f1\n",
    "    \"\"\"\n",
    "    model.eval()\n",
    "    all_preds_reg, all_labels_reg = [], []\n",
    "    all_preds_len, all_labels_len = [], []\n",
    "\n",
    "    device = next(model.parameters()).device\n",
    "\n",
    "    with torch.no_grad():\n",
    "        for X_batch, y_batch, lengths in val_loader:\n",
    "            X_batch = X_batch.to(device)\n",
    "            y_batch = y_batch.to(device)\n",
    "            lengths = lengths.to(device)\n",
    "\n",
    "            # Forward pass\n",
    "            mdn = model(X_batch, lengths)\n",
    "            if isinstance(mdn, dict):\n",
    "                pi, mu, sigma = mdn[\"pi\"], mdn[\"mu\"], mdn[\"sigma\"]\n",
    "            else:  # old tuple version\n",
    "                pi, mu, sigma = mdn\n",
    "\n",
    "            # Crop labels to model output length\n",
    "            T_out = pi.size(1)\n",
    "            y_batch = y_batch[:, :T_out]\n",
    "\n",
    "            # Expected regression output\n",
    "            y_pred = (pi * mu).sum(dim=-1)  # (B, T)\n",
    "            all_preds_reg.append(y_pred.cpu().numpy())\n",
    "            all_labels_reg.append(y_batch.cpu().numpy())\n",
    "\n",
    "            # Validity from MDN: high weight on zero component\n",
    "            pi_zero = pi[:, :, zero_idx]  # (B,T)\n",
    "            pred_valid = (pi_zero < (1 - threshold)).long().cpu().numpy()  # 1 = valid\n",
    "\n",
    "            # True valid positions from sequence lengths\n",
    "            true_valid = (torch.arange(T_out, device=device)\n",
    "                          .unsqueeze(0) < lengths.unsqueeze(1)).long().cpu().numpy()\n",
    "\n",
    "            all_preds_len.extend(pred_valid.flatten().tolist())\n",
    "            all_labels_len.extend(true_valid.flatten().tolist())\n",
    "\n",
    "    # ----- Regression metrics -----\n",
    "    all_preds_reg = np.vstack(all_preds_reg)  # (total_samples, T)\n",
    "    all_labels_reg = np.vstack(all_labels_reg)\n",
    "    mse = ((all_preds_reg - all_labels_reg) ** 2).mean()\n",
    "    mae = np.abs(all_preds_reg - all_labels_reg).mean()\n",
    "\n",
    "    # ----- Validity metrics -----\n",
    "    acc = accuracy_score(all_labels_len, all_preds_len)\n",
    "    f1 = f1_score(all_labels_len, all_preds_len, average=\"macro\")\n",
    "\n",
    "    print(\"\\n📊 Validation Metrics (MDN):\")\n",
    "    print(f\"  Regression → MSE: {mse:.6f}, MAE: {mae:.6f}\")\n",
    "    print(f\"  Validity   → Acc: {acc:.4f}, F1: {f1:.4f}\")\n",
    "\n",
    "    return {\"mse\": mse, \"mae\": mae, \"acc\": acc, \"f1\": f1}\n",
    "\n",
    "# ---------------- Train ---------------- #\n",
    "def train_model(\n",
    "    data_csv,\n",
    "    labels_csv,\n",
    "    model_out_dir=\"models/saved_models\",\n",
    "    do_validation=True,\n",
    "    hidden_dim=128,\n",
    "    num_layers=1,\n",
    "    lr=0.001,\n",
    "    batch_size=32,\n",
    "    max_epochs=200,\n",
    "    save_model=False,\n",
    "    return_val_accuracy = True\n",
    "):\n",
    "\n",
    "    timestamp = datetime.now().strftime(\"%Y%m%d_%H%M%S\")\n",
    "    model_out = f\"{model_out_dir}/lstm_model_multireg_{timestamp}.pt\"\n",
    "    meta_out  = f\"{model_out_dir}/lstm_meta_multireg_{timestamp}.pkl\"\n",
    "\n",
    "    # Preprocess: pad linePrices and sequences\n",
    "    if do_validation:\n",
    "        train_ds, val_ds, df, feature_cols, max_len_y = preprocess_sequences_csv_multilines(\n",
    "            data_csv, labels_csv,\n",
    "            val_split=True,\n",
    "            for_xgboost=False,\n",
    "            debug_sample=False\n",
    "        )\n",
    "    else:\n",
    "        train_ds, df, feature_cols, max_len_y = preprocess_sequences_csv_multilines(\n",
    "            data_csv, labels_csv,\n",
    "            val_split=False,\n",
    "            for_xgboost=False,\n",
    "            debug_sample=False\n",
    "        )\n",
    "        val_ds = None\n",
    "\n",
    "    sample = train_ds[0][0]  # first sample's features\n",
    "    if isinstance(sample, dict):  # multiple feature groups\n",
    "        input_dim = sample['main'].shape[1]\n",
    "    else:  # single tensor\n",
    "        input_dim = sample.shape[1]\n",
    "\n",
    "    model = CNNLSTM_MDN(\n",
    "        input_dim=input_dim,\n",
    "        hidden_dim=hidden_dim,\n",
    "        num_layers=num_layers,\n",
    "        max_len_y=max_len_y,\n",
    "        lr=lr\n",
    "    )\n",
    "\n",
    "    train_loader = DataLoader(train_ds, batch_size=batch_size, shuffle=True, collate_fn=collate_batch)\n",
    "    val_loader = DataLoader(val_ds, batch_size=batch_size, collate_fn=collate_batch) if val_ds else None\n",
    "\n",
    "    trainer = pl.Trainer(max_epochs=max_epochs, accelerator=\"auto\", devices=1)\n",
    "    trainer.fit(model, train_loader, val_loader)\n",
    "\n",
    "    if save_model:\n",
    "        os.makedirs(model_out_dir, exist_ok=True)\n",
    "        trainer.save_checkpoint(model_out)\n",
    "        joblib.dump({\n",
    "            \"input_dim\": input_dim,\n",
    "            \"hidden_dim\": hidden_dim,\n",
    "            \"num_layers\": num_layers,\n",
    "            \"max_len_y\": max_len_y,\n",
    "            \"feature_cols\": feature_cols\n",
    "        }, meta_out)\n",
    "        print(f\"✅ Model saved to {model_out}\")\n",
    "        print(f\"✅ Meta saved to {meta_out}\")\n",
    "    # --- Evaluation --- #\n",
    "    if do_validation:\n",
    "        mse, mae, acc, f1 = evaluate_model_mdn(model, val_loader)\n",
    "        if return_val_accuracy:\n",
    "            return {\"mse\": mse, \"mae\": mae, \"acc\": acc, \"f1\": f1}\n",
    "        \n",
    "if __name__ == \"__main__\":\n",
    "    train_model(\n",
    "        \"/home/iatell/projects/meta-learning/data/Bitcoin_BTCUSDT_kaggle_1D_candles_prop.csv\",\n",
    "        \"/home/iatell/projects/meta-learning/data/seq_line_labels.csv\",\n",
    "        save_model=True,\n",
    "        do_validation=True\n",
    "    )\n"
   ]
  },
  {
   "cell_type": "markdown",
   "id": "bc099c49",
   "metadata": {},
   "source": [
    "# server"
   ]
  },
  {
   "cell_type": "code",
   "execution_count": null,
   "id": "709f0d8d",
   "metadata": {},
   "outputs": [
    {
     "name": "stdout",
     "output_type": "stream",
     "text": [
      " * Serving Flask app '__main__'\n",
      " * Debug mode: on\n"
     ]
    },
    {
     "name": "stderr",
     "output_type": "stream",
     "text": [
      "WARNING: This is a development server. Do not use it in a production deployment. Use a production WSGI server instead.\n",
      " * Running on http://127.0.0.1:5000\n",
      "Press CTRL+C to quit\n",
      "127.0.0.1 - - [03/Sep/2025 03:55:33] \"GET / HTTP/1.1\" 200 -\n",
      "127.0.0.1 - - [03/Sep/2025 03:55:33] \"GET /candles HTTP/1.1\" 200 -\n",
      "127.0.0.1 - - [03/Sep/2025 03:55:34] \"POST /predict HTTP/1.1\" 200 -\n",
      "127.0.0.1 - - [03/Sep/2025 03:55:34] \"POST /predict HTTP/1.1\" 200 -\n",
      "127.0.0.1 - - [03/Sep/2025 03:55:34] \"POST /predict HTTP/1.1\" 200 -\n",
      "127.0.0.1 - - [03/Sep/2025 03:55:34] \"POST /predict HTTP/1.1\" 200 -\n",
      "127.0.0.1 - - [03/Sep/2025 03:55:34] \"POST /predict HTTP/1.1\" 200 -\n",
      "127.0.0.1 - - [03/Sep/2025 03:55:39] \"POST /predict HTTP/1.1\" 200 -\n",
      "127.0.0.1 - - [03/Sep/2025 03:55:39] \"POST /predict HTTP/1.1\" 200 -\n",
      "127.0.0.1 - - [03/Sep/2025 03:55:39] \"POST /predict HTTP/1.1\" 200 -\n",
      "127.0.0.1 - - [03/Sep/2025 03:55:39] \"POST /predict HTTP/1.1\" 200 -\n",
      "127.0.0.1 - - [03/Sep/2025 03:55:39] \"POST /predict HTTP/1.1\" 200 -\n",
      "127.0.0.1 - - [03/Sep/2025 03:55:41] \"POST /predict HTTP/1.1\" 200 -\n",
      "127.0.0.1 - - [03/Sep/2025 03:55:41] \"POST /predict HTTP/1.1\" 200 -\n",
      "127.0.0.1 - - [03/Sep/2025 03:55:41] \"POST /predict HTTP/1.1\" 200 -\n",
      "127.0.0.1 - - [03/Sep/2025 03:55:41] \"POST /predict HTTP/1.1\" 200 -\n",
      "127.0.0.1 - - [03/Sep/2025 03:55:41] \"POST /predict HTTP/1.1\" 200 -\n",
      "127.0.0.1 - - [03/Sep/2025 03:55:42] \"POST /predict HTTP/1.1\" 200 -\n",
      "127.0.0.1 - - [03/Sep/2025 03:55:42] \"POST /predict HTTP/1.1\" 200 -\n",
      "127.0.0.1 - - [03/Sep/2025 03:55:42] \"POST /predict HTTP/1.1\" 200 -\n",
      "127.0.0.1 - - [03/Sep/2025 03:55:42] \"POST /predict HTTP/1.1\" 200 -\n",
      "127.0.0.1 - - [03/Sep/2025 03:55:42] \"POST /predict HTTP/1.1\" 200 -\n",
      "127.0.0.1 - - [03/Sep/2025 03:55:43] \"POST /predict HTTP/1.1\" 200 -\n",
      "127.0.0.1 - - [03/Sep/2025 03:55:43] \"POST /predict HTTP/1.1\" 200 -\n",
      "127.0.0.1 - - [03/Sep/2025 03:55:43] \"POST /predict HTTP/1.1\" 200 -\n",
      "127.0.0.1 - - [03/Sep/2025 03:55:43] \"POST /predict HTTP/1.1\" 200 -\n",
      "127.0.0.1 - - [03/Sep/2025 03:55:43] \"POST /predict HTTP/1.1\" 200 -\n",
      "127.0.0.1 - - [03/Sep/2025 03:55:46] \"POST /predict HTTP/1.1\" 200 -\n",
      "127.0.0.1 - - [03/Sep/2025 03:55:46] \"POST /predict HTTP/1.1\" 200 -\n",
      "127.0.0.1 - - [03/Sep/2025 03:55:46] \"POST /predict HTTP/1.1\" 200 -\n",
      "127.0.0.1 - - [03/Sep/2025 03:55:46] \"POST /predict HTTP/1.1\" 200 -\n",
      "127.0.0.1 - - [03/Sep/2025 03:55:46] \"POST /predict HTTP/1.1\" 200 -\n",
      "127.0.0.1 - - [03/Sep/2025 03:55:46] \"POST /predict HTTP/1.1\" 200 -\n",
      "127.0.0.1 - - [03/Sep/2025 03:55:46] \"POST /predict HTTP/1.1\" 200 -\n",
      "127.0.0.1 - - [03/Sep/2025 03:55:46] \"POST /predict HTTP/1.1\" 200 -\n",
      "127.0.0.1 - - [03/Sep/2025 03:55:46] \"POST /predict HTTP/1.1\" 200 -\n",
      "127.0.0.1 - - [03/Sep/2025 03:55:46] \"POST /predict HTTP/1.1\" 200 -\n",
      "127.0.0.1 - - [03/Sep/2025 03:55:47] \"POST /predict HTTP/1.1\" 200 -\n",
      "127.0.0.1 - - [03/Sep/2025 03:55:47] \"POST /predict HTTP/1.1\" 200 -\n",
      "127.0.0.1 - - [03/Sep/2025 03:55:47] \"POST /predict HTTP/1.1\" 200 -\n",
      "127.0.0.1 - - [03/Sep/2025 03:55:47] \"POST /predict HTTP/1.1\" 200 -\n",
      "127.0.0.1 - - [03/Sep/2025 03:55:47] \"POST /predict HTTP/1.1\" 200 -\n",
      "127.0.0.1 - - [03/Sep/2025 03:55:47] \"POST /predict HTTP/1.1\" 200 -\n",
      "127.0.0.1 - - [03/Sep/2025 03:55:47] \"POST /predict HTTP/1.1\" 200 -\n",
      "127.0.0.1 - - [03/Sep/2025 03:55:47] \"POST /predict HTTP/1.1\" 200 -\n",
      "127.0.0.1 - - [03/Sep/2025 03:55:47] \"POST /predict HTTP/1.1\" 200 -\n",
      "127.0.0.1 - - [03/Sep/2025 03:55:47] \"POST /predict HTTP/1.1\" 200 -\n",
      "127.0.0.1 - - [03/Sep/2025 03:55:48] \"POST /predict HTTP/1.1\" 200 -\n",
      "127.0.0.1 - - [03/Sep/2025 03:55:48] \"POST /predict HTTP/1.1\" 200 -\n",
      "127.0.0.1 - - [03/Sep/2025 03:55:48] \"POST /predict HTTP/1.1\" 200 -\n",
      "127.0.0.1 - - [03/Sep/2025 03:55:48] \"POST /predict HTTP/1.1\" 200 -\n",
      "127.0.0.1 - - [03/Sep/2025 03:55:48] \"POST /predict HTTP/1.1\" 200 -\n",
      "127.0.0.1 - - [03/Sep/2025 03:55:48] \"POST /predict HTTP/1.1\" 200 -\n",
      "127.0.0.1 - - [03/Sep/2025 03:55:48] \"POST /predict HTTP/1.1\" 200 -\n",
      "127.0.0.1 - - [03/Sep/2025 03:55:48] \"POST /predict HTTP/1.1\" 200 -\n",
      "127.0.0.1 - - [03/Sep/2025 03:55:48] \"POST /predict HTTP/1.1\" 200 -\n",
      "127.0.0.1 - - [03/Sep/2025 03:55:48] \"POST /predict HTTP/1.1\" 200 -\n",
      "127.0.0.1 - - [03/Sep/2025 03:55:48] \"POST /predict HTTP/1.1\" 200 -\n",
      "127.0.0.1 - - [03/Sep/2025 03:55:48] \"POST /predict HTTP/1.1\" 200 -\n",
      "127.0.0.1 - - [03/Sep/2025 03:55:48] \"POST /predict HTTP/1.1\" 200 -\n",
      "127.0.0.1 - - [03/Sep/2025 03:55:48] \"POST /predict HTTP/1.1\" 200 -\n",
      "127.0.0.1 - - [03/Sep/2025 03:55:48] \"POST /predict HTTP/1.1\" 200 -\n",
      "127.0.0.1 - - [03/Sep/2025 03:55:49] \"POST /predict HTTP/1.1\" 200 -\n",
      "127.0.0.1 - - [03/Sep/2025 03:55:49] \"POST /predict HTTP/1.1\" 200 -\n",
      "127.0.0.1 - - [03/Sep/2025 03:55:49] \"POST /predict HTTP/1.1\" 200 -\n",
      "127.0.0.1 - - [03/Sep/2025 03:55:49] \"POST /predict HTTP/1.1\" 200 -\n",
      "127.0.0.1 - - [03/Sep/2025 03:55:49] \"POST /predict HTTP/1.1\" 200 -\n",
      "127.0.0.1 - - [03/Sep/2025 03:55:49] \"POST /predict HTTP/1.1\" 200 -\n",
      "127.0.0.1 - - [03/Sep/2025 03:55:49] \"POST /predict HTTP/1.1\" 200 -\n",
      "127.0.0.1 - - [03/Sep/2025 03:55:49] \"POST /predict HTTP/1.1\" 200 -\n",
      "127.0.0.1 - - [03/Sep/2025 03:55:49] \"POST /predict HTTP/1.1\" 200 -\n",
      "127.0.0.1 - - [03/Sep/2025 03:55:49] \"POST /predict HTTP/1.1\" 200 -\n",
      "127.0.0.1 - - [03/Sep/2025 03:55:50] \"POST /predict HTTP/1.1\" 200 -\n",
      "127.0.0.1 - - [03/Sep/2025 03:55:50] \"POST /predict HTTP/1.1\" 200 -\n",
      "127.0.0.1 - - [03/Sep/2025 03:55:50] \"POST /predict HTTP/1.1\" 200 -\n",
      "127.0.0.1 - - [03/Sep/2025 03:55:50] \"POST /predict HTTP/1.1\" 200 -\n",
      "127.0.0.1 - - [03/Sep/2025 03:55:50] \"POST /predict HTTP/1.1\" 200 -\n",
      "127.0.0.1 - - [03/Sep/2025 03:55:50] \"POST /predict HTTP/1.1\" 200 -\n",
      "127.0.0.1 - - [03/Sep/2025 03:55:50] \"POST /predict HTTP/1.1\" 200 -\n",
      "127.0.0.1 - - [03/Sep/2025 03:55:50] \"POST /predict HTTP/1.1\" 200 -\n",
      "127.0.0.1 - - [03/Sep/2025 03:55:50] \"POST /predict HTTP/1.1\" 200 -\n",
      "127.0.0.1 - - [03/Sep/2025 03:55:50] \"POST /predict HTTP/1.1\" 200 -\n",
      "127.0.0.1 - - [03/Sep/2025 03:55:51] \"POST /predict HTTP/1.1\" 200 -\n",
      "127.0.0.1 - - [03/Sep/2025 03:55:51] \"POST /predict HTTP/1.1\" 200 -\n",
      "127.0.0.1 - - [03/Sep/2025 03:55:51] \"POST /predict HTTP/1.1\" 200 -\n",
      "127.0.0.1 - - [03/Sep/2025 03:55:51] \"POST /predict HTTP/1.1\" 200 -\n",
      "127.0.0.1 - - [03/Sep/2025 03:55:51] \"POST /predict HTTP/1.1\" 200 -\n",
      "127.0.0.1 - - [03/Sep/2025 03:55:51] \"POST /predict HTTP/1.1\" 200 -\n",
      "127.0.0.1 - - [03/Sep/2025 03:55:51] \"POST /predict HTTP/1.1\" 200 -\n",
      "127.0.0.1 - - [03/Sep/2025 03:55:51] \"POST /predict HTTP/1.1\" 200 -\n",
      "127.0.0.1 - - [03/Sep/2025 03:55:51] \"POST /predict HTTP/1.1\" 200 -\n",
      "127.0.0.1 - - [03/Sep/2025 03:55:51] \"POST /predict HTTP/1.1\" 200 -\n",
      "127.0.0.1 - - [03/Sep/2025 03:55:51] \"POST /predict HTTP/1.1\" 200 -\n",
      "127.0.0.1 - - [03/Sep/2025 03:55:51] \"POST /predict HTTP/1.1\" 200 -\n",
      "127.0.0.1 - - [03/Sep/2025 03:55:51] \"POST /predict HTTP/1.1\" 200 -\n",
      "127.0.0.1 - - [03/Sep/2025 03:55:51] \"POST /predict HTTP/1.1\" 200 -\n",
      "127.0.0.1 - - [03/Sep/2025 03:55:51] \"POST /predict HTTP/1.1\" 200 -\n",
      "127.0.0.1 - - [03/Sep/2025 03:55:51] \"POST /predict HTTP/1.1\" 200 -\n",
      "127.0.0.1 - - [03/Sep/2025 03:55:51] \"POST /predict HTTP/1.1\" 200 -\n",
      "127.0.0.1 - - [03/Sep/2025 03:55:51] \"POST /predict HTTP/1.1\" 200 -\n",
      "127.0.0.1 - - [03/Sep/2025 03:55:51] \"POST /predict HTTP/1.1\" 200 -\n",
      "127.0.0.1 - - [03/Sep/2025 03:55:51] \"POST /predict HTTP/1.1\" 200 -\n",
      "127.0.0.1 - - [03/Sep/2025 03:55:51] \"POST /predict HTTP/1.1\" 200 -\n",
      "127.0.0.1 - - [03/Sep/2025 03:55:51] \"POST /predict HTTP/1.1\" 200 -\n",
      "127.0.0.1 - - [03/Sep/2025 03:55:51] \"POST /predict HTTP/1.1\" 200 -\n",
      "127.0.0.1 - - [03/Sep/2025 03:55:51] \"POST /predict HTTP/1.1\" 200 -\n",
      "127.0.0.1 - - [03/Sep/2025 03:55:51] \"POST /predict HTTP/1.1\" 200 -\n",
      "127.0.0.1 - - [03/Sep/2025 03:55:51] \"POST /predict HTTP/1.1\" 200 -\n",
      "127.0.0.1 - - [03/Sep/2025 03:55:51] \"POST /predict HTTP/1.1\" 200 -\n",
      "127.0.0.1 - - [03/Sep/2025 03:55:51] \"POST /predict HTTP/1.1\" 200 -\n",
      "127.0.0.1 - - [03/Sep/2025 03:55:51] \"POST /predict HTTP/1.1\" 200 -\n",
      "127.0.0.1 - - [03/Sep/2025 03:55:51] \"POST /predict HTTP/1.1\" 200 -\n",
      "127.0.0.1 - - [03/Sep/2025 03:55:51] \"POST /predict HTTP/1.1\" 200 -\n",
      "127.0.0.1 - - [03/Sep/2025 03:55:51] \"POST /predict HTTP/1.1\" 200 -\n",
      "127.0.0.1 - - [03/Sep/2025 03:55:51] \"POST /predict HTTP/1.1\" 200 -\n",
      "127.0.0.1 - - [03/Sep/2025 03:55:51] \"POST /predict HTTP/1.1\" 200 -\n",
      "127.0.0.1 - - [03/Sep/2025 03:55:51] \"POST /predict HTTP/1.1\" 200 -\n",
      "127.0.0.1 - - [03/Sep/2025 03:55:51] \"POST /predict HTTP/1.1\" 200 -\n",
      "127.0.0.1 - - [03/Sep/2025 03:55:51] \"POST /predict HTTP/1.1\" 200 -\n",
      "127.0.0.1 - - [03/Sep/2025 03:55:51] \"POST /predict HTTP/1.1\" 200 -\n",
      "127.0.0.1 - - [03/Sep/2025 03:55:51] \"POST /predict HTTP/1.1\" 200 -\n",
      "127.0.0.1 - - [03/Sep/2025 03:55:51] \"POST /predict HTTP/1.1\" 200 -\n",
      "127.0.0.1 - - [03/Sep/2025 03:55:51] \"POST /predict HTTP/1.1\" 200 -\n",
      "127.0.0.1 - - [03/Sep/2025 03:55:51] \"POST /predict HTTP/1.1\" 200 -\n",
      "127.0.0.1 - - [03/Sep/2025 03:55:51] \"POST /predict HTTP/1.1\" 200 -\n",
      "127.0.0.1 - - [03/Sep/2025 03:55:51] \"POST /predict HTTP/1.1\" 200 -\n",
      "127.0.0.1 - - [03/Sep/2025 03:55:51] \"POST /predict HTTP/1.1\" 200 -\n",
      "127.0.0.1 - - [03/Sep/2025 03:55:51] \"POST /predict HTTP/1.1\" 200 -\n",
      "127.0.0.1 - - [03/Sep/2025 03:55:51] \"POST /predict HTTP/1.1\" 200 -\n",
      "127.0.0.1 - - [03/Sep/2025 03:55:51] \"POST /predict HTTP/1.1\" 200 -\n",
      "127.0.0.1 - - [03/Sep/2025 03:55:51] \"POST /predict HTTP/1.1\" 200 -\n",
      "127.0.0.1 - - [03/Sep/2025 03:55:51] \"POST /predict HTTP/1.1\" 200 -\n",
      "127.0.0.1 - - [03/Sep/2025 03:55:51] \"POST /predict HTTP/1.1\" 200 -\n",
      "127.0.0.1 - - [03/Sep/2025 03:55:51] \"POST /predict HTTP/1.1\" 200 -\n",
      "127.0.0.1 - - [03/Sep/2025 03:55:51] \"POST /predict HTTP/1.1\" 200 -\n",
      "127.0.0.1 - - [03/Sep/2025 03:55:51] \"POST /predict HTTP/1.1\" 200 -\n",
      "127.0.0.1 - - [03/Sep/2025 03:55:51] \"POST /predict HTTP/1.1\" 200 -\n",
      "127.0.0.1 - - [03/Sep/2025 03:55:51] \"POST /predict HTTP/1.1\" 200 -\n",
      "127.0.0.1 - - [03/Sep/2025 03:55:51] \"POST /predict HTTP/1.1\" 200 -\n",
      "127.0.0.1 - - [03/Sep/2025 03:55:52] \"POST /predict HTTP/1.1\" 200 -\n",
      "127.0.0.1 - - [03/Sep/2025 03:55:52] \"POST /predict HTTP/1.1\" 200 -\n",
      "127.0.0.1 - - [03/Sep/2025 03:55:52] \"POST /predict HTTP/1.1\" 200 -\n",
      "127.0.0.1 - - [03/Sep/2025 03:55:52] \"POST /predict HTTP/1.1\" 200 -\n",
      "127.0.0.1 - - [03/Sep/2025 03:55:52] \"POST /predict HTTP/1.1\" 200 -\n",
      "127.0.0.1 - - [03/Sep/2025 03:55:52] \"POST /predict HTTP/1.1\" 200 -\n",
      "127.0.0.1 - - [03/Sep/2025 03:55:52] \"POST /predict HTTP/1.1\" 200 -\n",
      "127.0.0.1 - - [03/Sep/2025 03:55:52] \"POST /predict HTTP/1.1\" 200 -\n",
      "127.0.0.1 - - [03/Sep/2025 03:55:52] \"POST /predict HTTP/1.1\" 200 -\n",
      "127.0.0.1 - - [03/Sep/2025 03:55:52] \"POST /predict HTTP/1.1\" 200 -\n",
      "127.0.0.1 - - [03/Sep/2025 03:55:52] \"POST /predict HTTP/1.1\" 200 -\n",
      "127.0.0.1 - - [03/Sep/2025 03:55:52] \"POST /predict HTTP/1.1\" 200 -\n",
      "127.0.0.1 - - [03/Sep/2025 03:55:52] \"POST /predict HTTP/1.1\" 200 -\n",
      "127.0.0.1 - - [03/Sep/2025 03:55:52] \"POST /predict HTTP/1.1\" 200 -\n",
      "127.0.0.1 - - [03/Sep/2025 03:55:52] \"POST /predict HTTP/1.1\" 200 -\n",
      "127.0.0.1 - - [03/Sep/2025 03:55:52] \"POST /predict HTTP/1.1\" 200 -\n",
      "127.0.0.1 - - [03/Sep/2025 03:55:52] \"POST /predict HTTP/1.1\" 200 -\n",
      "127.0.0.1 - - [03/Sep/2025 03:55:52] \"POST /predict HTTP/1.1\" 200 -\n",
      "127.0.0.1 - - [03/Sep/2025 03:55:52] \"POST /predict HTTP/1.1\" 200 -\n",
      "127.0.0.1 - - [03/Sep/2025 03:55:52] \"POST /predict HTTP/1.1\" 200 -\n",
      "127.0.0.1 - - [03/Sep/2025 03:55:52] \"POST /predict HTTP/1.1\" 200 -\n",
      "127.0.0.1 - - [03/Sep/2025 03:55:52] \"POST /predict HTTP/1.1\" 200 -\n",
      "127.0.0.1 - - [03/Sep/2025 03:55:52] \"POST /predict HTTP/1.1\" 200 -\n",
      "127.0.0.1 - - [03/Sep/2025 03:55:52] \"POST /predict HTTP/1.1\" 200 -\n",
      "127.0.0.1 - - [03/Sep/2025 03:55:52] \"POST /predict HTTP/1.1\" 200 -\n",
      "127.0.0.1 - - [03/Sep/2025 03:55:52] \"POST /predict HTTP/1.1\" 200 -\n",
      "127.0.0.1 - - [03/Sep/2025 03:55:52] \"POST /predict HTTP/1.1\" 200 -\n",
      "127.0.0.1 - - [03/Sep/2025 03:55:52] \"POST /predict HTTP/1.1\" 200 -\n",
      "127.0.0.1 - - [03/Sep/2025 03:55:52] \"POST /predict HTTP/1.1\" 200 -\n",
      "127.0.0.1 - - [03/Sep/2025 03:55:52] \"POST /predict HTTP/1.1\" 200 -\n",
      "127.0.0.1 - - [03/Sep/2025 03:55:52] \"POST /predict HTTP/1.1\" 200 -\n",
      "127.0.0.1 - - [03/Sep/2025 03:55:52] \"POST /predict HTTP/1.1\" 200 -\n",
      "127.0.0.1 - - [03/Sep/2025 03:55:52] \"POST /predict HTTP/1.1\" 200 -\n",
      "127.0.0.1 - - [03/Sep/2025 03:55:52] \"POST /predict HTTP/1.1\" 200 -\n",
      "127.0.0.1 - - [03/Sep/2025 03:55:52] \"POST /predict HTTP/1.1\" 200 -\n",
      "127.0.0.1 - - [03/Sep/2025 03:55:52] \"POST /predict HTTP/1.1\" 200 -\n",
      "127.0.0.1 - - [03/Sep/2025 03:55:52] \"POST /predict HTTP/1.1\" 200 -\n",
      "127.0.0.1 - - [03/Sep/2025 03:55:52] \"POST /predict HTTP/1.1\" 200 -\n",
      "127.0.0.1 - - [03/Sep/2025 03:55:52] \"POST /predict HTTP/1.1\" 200 -\n",
      "127.0.0.1 - - [03/Sep/2025 03:55:52] \"POST /predict HTTP/1.1\" 200 -\n",
      "127.0.0.1 - - [03/Sep/2025 03:55:52] \"POST /predict HTTP/1.1\" 200 -\n",
      "127.0.0.1 - - [03/Sep/2025 03:55:52] \"POST /predict HTTP/1.1\" 200 -\n",
      "127.0.0.1 - - [03/Sep/2025 03:55:52] \"POST /predict HTTP/1.1\" 200 -\n",
      "127.0.0.1 - - [03/Sep/2025 03:55:52] \"POST /predict HTTP/1.1\" 200 -\n",
      "127.0.0.1 - - [03/Sep/2025 03:55:52] \"POST /predict HTTP/1.1\" 200 -\n",
      "127.0.0.1 - - [03/Sep/2025 03:55:52] \"POST /predict HTTP/1.1\" 200 -\n",
      "127.0.0.1 - - [03/Sep/2025 03:55:52] \"POST /predict HTTP/1.1\" 200 -\n",
      "127.0.0.1 - - [03/Sep/2025 03:55:52] \"POST /predict HTTP/1.1\" 200 -\n",
      "127.0.0.1 - - [03/Sep/2025 03:55:52] \"POST /predict HTTP/1.1\" 200 -\n",
      "127.0.0.1 - - [03/Sep/2025 03:55:52] \"POST /predict HTTP/1.1\" 200 -\n",
      "127.0.0.1 - - [03/Sep/2025 03:55:52] \"POST /predict HTTP/1.1\" 200 -\n",
      "127.0.0.1 - - [03/Sep/2025 03:55:52] \"POST /predict HTTP/1.1\" 200 -\n",
      "127.0.0.1 - - [03/Sep/2025 03:55:52] \"POST /predict HTTP/1.1\" 200 -\n",
      "127.0.0.1 - - [03/Sep/2025 03:55:52] \"POST /predict HTTP/1.1\" 200 -\n",
      "127.0.0.1 - - [03/Sep/2025 03:55:52] \"POST /predict HTTP/1.1\" 200 -\n",
      "127.0.0.1 - - [03/Sep/2025 03:55:52] \"POST /predict HTTP/1.1\" 200 -\n",
      "127.0.0.1 - - [03/Sep/2025 03:55:52] \"POST /predict HTTP/1.1\" 200 -\n",
      "127.0.0.1 - - [03/Sep/2025 03:55:52] \"POST /predict HTTP/1.1\" 200 -\n",
      "127.0.0.1 - - [03/Sep/2025 03:55:52] \"POST /predict HTTP/1.1\" 200 -\n",
      "127.0.0.1 - - [03/Sep/2025 03:55:52] \"POST /predict HTTP/1.1\" 200 -\n",
      "127.0.0.1 - - [03/Sep/2025 03:55:52] \"POST /predict HTTP/1.1\" 200 -\n",
      "127.0.0.1 - - [03/Sep/2025 03:55:52] \"POST /predict HTTP/1.1\" 200 -\n",
      "127.0.0.1 - - [03/Sep/2025 03:55:52] \"POST /predict HTTP/1.1\" 200 -\n",
      "127.0.0.1 - - [03/Sep/2025 03:55:52] \"POST /predict HTTP/1.1\" 200 -\n",
      "127.0.0.1 - - [03/Sep/2025 03:55:52] \"POST /predict HTTP/1.1\" 200 -\n",
      "127.0.0.1 - - [03/Sep/2025 03:55:52] \"POST /predict HTTP/1.1\" 200 -\n",
      "127.0.0.1 - - [03/Sep/2025 03:55:52] \"POST /predict HTTP/1.1\" 200 -\n",
      "127.0.0.1 - - [03/Sep/2025 03:55:52] \"POST /predict HTTP/1.1\" 200 -\n",
      "127.0.0.1 - - [03/Sep/2025 03:55:52] \"POST /predict HTTP/1.1\" 200 -\n",
      "127.0.0.1 - - [03/Sep/2025 03:55:52] \"POST /predict HTTP/1.1\" 200 -\n",
      "127.0.0.1 - - [03/Sep/2025 03:55:52] \"POST /predict HTTP/1.1\" 200 -\n",
      "127.0.0.1 - - [03/Sep/2025 03:55:52] \"POST /predict HTTP/1.1\" 200 -\n",
      "127.0.0.1 - - [03/Sep/2025 03:55:52] \"POST /predict HTTP/1.1\" 200 -\n",
      "127.0.0.1 - - [03/Sep/2025 03:55:52] \"POST /predict HTTP/1.1\" 200 -\n",
      "127.0.0.1 - - [03/Sep/2025 03:55:52] \"POST /predict HTTP/1.1\" 200 -\n",
      "127.0.0.1 - - [03/Sep/2025 03:55:52] \"POST /predict HTTP/1.1\" 200 -\n",
      "127.0.0.1 - - [03/Sep/2025 03:55:52] \"POST /predict HTTP/1.1\" 200 -\n",
      "127.0.0.1 - - [03/Sep/2025 03:55:52] \"POST /predict HTTP/1.1\" 200 -\n",
      "127.0.0.1 - - [03/Sep/2025 03:55:52] \"POST /predict HTTP/1.1\" 200 -\n",
      "127.0.0.1 - - [03/Sep/2025 03:55:52] \"POST /predict HTTP/1.1\" 200 -\n",
      "127.0.0.1 - - [03/Sep/2025 03:55:52] \"POST /predict HTTP/1.1\" 200 -\n",
      "127.0.0.1 - - [03/Sep/2025 03:55:52] \"POST /predict HTTP/1.1\" 200 -\n",
      "127.0.0.1 - - [03/Sep/2025 03:55:52] \"POST /predict HTTP/1.1\" 200 -\n",
      "127.0.0.1 - - [03/Sep/2025 03:55:52] \"POST /predict HTTP/1.1\" 200 -\n",
      "127.0.0.1 - - [03/Sep/2025 03:55:52] \"POST /predict HTTP/1.1\" 200 -\n",
      "127.0.0.1 - - [03/Sep/2025 03:55:52] \"POST /predict HTTP/1.1\" 200 -\n",
      "127.0.0.1 - - [03/Sep/2025 03:55:52] \"POST /predict HTTP/1.1\" 200 -\n",
      "127.0.0.1 - - [03/Sep/2025 03:55:52] \"POST /predict HTTP/1.1\" 200 -\n",
      "127.0.0.1 - - [03/Sep/2025 03:55:52] \"POST /predict HTTP/1.1\" 200 -\n",
      "127.0.0.1 - - [03/Sep/2025 03:55:52] \"POST /predict HTTP/1.1\" 200 -\n",
      "127.0.0.1 - - [03/Sep/2025 03:55:52] \"POST /predict HTTP/1.1\" 200 -\n",
      "127.0.0.1 - - [03/Sep/2025 03:55:52] \"POST /predict HTTP/1.1\" 200 -\n",
      "127.0.0.1 - - [03/Sep/2025 03:55:52] \"POST /predict HTTP/1.1\" 200 -\n",
      "127.0.0.1 - - [03/Sep/2025 03:55:52] \"POST /predict HTTP/1.1\" 200 -\n",
      "127.0.0.1 - - [03/Sep/2025 03:55:52] \"POST /predict HTTP/1.1\" 200 -\n",
      "127.0.0.1 - - [03/Sep/2025 03:55:52] \"POST /predict HTTP/1.1\" 200 -\n",
      "127.0.0.1 - - [03/Sep/2025 03:55:52] \"POST /predict HTTP/1.1\" 200 -\n",
      "127.0.0.1 - - [03/Sep/2025 03:55:52] \"POST /predict HTTP/1.1\" 200 -\n",
      "127.0.0.1 - - [03/Sep/2025 03:55:52] \"POST /predict HTTP/1.1\" 200 -\n",
      "127.0.0.1 - - [03/Sep/2025 03:55:52] \"POST /predict HTTP/1.1\" 200 -\n",
      "127.0.0.1 - - [03/Sep/2025 03:55:52] \"POST /predict HTTP/1.1\" 200 -\n",
      "127.0.0.1 - - [03/Sep/2025 03:55:52] \"POST /predict HTTP/1.1\" 200 -\n",
      "127.0.0.1 - - [03/Sep/2025 03:55:52] \"POST /predict HTTP/1.1\" 200 -\n",
      "127.0.0.1 - - [03/Sep/2025 03:55:52] \"POST /predict HTTP/1.1\" 200 -\n",
      "127.0.0.1 - - [03/Sep/2025 03:55:52] \"POST /predict HTTP/1.1\" 200 -\n",
      "127.0.0.1 - - [03/Sep/2025 03:55:52] \"POST /predict HTTP/1.1\" 200 -\n",
      "127.0.0.1 - - [03/Sep/2025 03:55:52] \"POST /predict HTTP/1.1\" 200 -\n",
      "127.0.0.1 - - [03/Sep/2025 03:55:52] \"POST /predict HTTP/1.1\" 200 -\n",
      "127.0.0.1 - - [03/Sep/2025 03:55:52] \"POST /predict HTTP/1.1\" 200 -\n",
      "127.0.0.1 - - [03/Sep/2025 03:55:52] \"POST /predict HTTP/1.1\" 200 -\n",
      "127.0.0.1 - - [03/Sep/2025 03:55:52] \"POST /predict HTTP/1.1\" 200 -\n",
      "127.0.0.1 - - [03/Sep/2025 03:55:52] \"POST /predict HTTP/1.1\" 200 -\n",
      "127.0.0.1 - - [03/Sep/2025 03:55:52] \"POST /predict HTTP/1.1\" 200 -\n",
      "127.0.0.1 - - [03/Sep/2025 03:55:52] \"POST /predict HTTP/1.1\" 200 -\n",
      "127.0.0.1 - - [03/Sep/2025 03:55:52] \"POST /predict HTTP/1.1\" 200 -\n",
      "127.0.0.1 - - [03/Sep/2025 03:55:52] \"POST /predict HTTP/1.1\" 200 -\n",
      "127.0.0.1 - - [03/Sep/2025 03:55:52] \"POST /predict HTTP/1.1\" 200 -\n",
      "127.0.0.1 - - [03/Sep/2025 03:55:52] \"POST /predict HTTP/1.1\" 200 -\n",
      "127.0.0.1 - - [03/Sep/2025 03:55:52] \"POST /predict HTTP/1.1\" 200 -\n",
      "127.0.0.1 - - [03/Sep/2025 03:55:52] \"POST /predict HTTP/1.1\" 200 -\n",
      "127.0.0.1 - - [03/Sep/2025 03:55:52] \"POST /predict HTTP/1.1\" 200 -\n",
      "127.0.0.1 - - [03/Sep/2025 03:55:52] \"POST /predict HTTP/1.1\" 200 -\n",
      "127.0.0.1 - - [03/Sep/2025 03:55:52] \"POST /predict HTTP/1.1\" 200 -\n",
      "127.0.0.1 - - [03/Sep/2025 03:55:52] \"POST /predict HTTP/1.1\" 200 -\n",
      "127.0.0.1 - - [03/Sep/2025 03:55:52] \"POST /predict HTTP/1.1\" 200 -\n",
      "127.0.0.1 - - [03/Sep/2025 03:55:52] \"POST /predict HTTP/1.1\" 200 -\n",
      "127.0.0.1 - - [03/Sep/2025 03:55:52] \"POST /predict HTTP/1.1\" 200 -\n",
      "127.0.0.1 - - [03/Sep/2025 03:55:52] \"POST /predict HTTP/1.1\" 200 -\n",
      "127.0.0.1 - - [03/Sep/2025 03:55:52] \"POST /predict HTTP/1.1\" 200 -\n",
      "127.0.0.1 - - [03/Sep/2025 03:55:52] \"POST /predict HTTP/1.1\" 200 -\n",
      "127.0.0.1 - - [03/Sep/2025 03:55:52] \"POST /predict HTTP/1.1\" 200 -\n",
      "127.0.0.1 - - [03/Sep/2025 03:55:52] \"POST /predict HTTP/1.1\" 200 -\n",
      "127.0.0.1 - - [03/Sep/2025 03:55:52] \"POST /predict HTTP/1.1\" 200 -\n",
      "127.0.0.1 - - [03/Sep/2025 03:55:52] \"POST /predict HTTP/1.1\" 200 -\n",
      "127.0.0.1 - - [03/Sep/2025 03:55:52] \"POST /predict HTTP/1.1\" 200 -\n",
      "127.0.0.1 - - [03/Sep/2025 03:55:52] \"POST /predict HTTP/1.1\" 200 -\n",
      "127.0.0.1 - - [03/Sep/2025 03:55:52] \"POST /predict HTTP/1.1\" 200 -\n",
      "127.0.0.1 - - [03/Sep/2025 03:55:52] \"POST /predict HTTP/1.1\" 200 -\n",
      "127.0.0.1 - - [03/Sep/2025 03:55:52] \"POST /predict HTTP/1.1\" 200 -\n",
      "127.0.0.1 - - [03/Sep/2025 03:55:52] \"POST /predict HTTP/1.1\" 200 -\n",
      "127.0.0.1 - - [03/Sep/2025 03:55:52] \"POST /predict HTTP/1.1\" 200 -\n",
      "127.0.0.1 - - [03/Sep/2025 03:55:52] \"POST /predict HTTP/1.1\" 200 -\n",
      "127.0.0.1 - - [03/Sep/2025 03:55:52] \"POST /predict HTTP/1.1\" 200 -\n",
      "127.0.0.1 - - [03/Sep/2025 03:55:52] \"POST /predict HTTP/1.1\" 200 -\n",
      "127.0.0.1 - - [03/Sep/2025 03:55:52] \"POST /predict HTTP/1.1\" 200 -\n",
      "127.0.0.1 - - [03/Sep/2025 03:55:52] \"POST /predict HTTP/1.1\" 200 -\n",
      "127.0.0.1 - - [03/Sep/2025 03:55:52] \"POST /predict HTTP/1.1\" 200 -\n",
      "127.0.0.1 - - [03/Sep/2025 03:55:52] \"POST /predict HTTP/1.1\" 200 -\n",
      "127.0.0.1 - - [03/Sep/2025 03:55:52] \"POST /predict HTTP/1.1\" 200 -\n",
      "127.0.0.1 - - [03/Sep/2025 03:55:52] \"POST /predict HTTP/1.1\" 200 -\n",
      "127.0.0.1 - - [03/Sep/2025 03:55:52] \"POST /predict HTTP/1.1\" 200 -\n",
      "127.0.0.1 - - [03/Sep/2025 03:55:53] \"POST /predict HTTP/1.1\" 200 -\n",
      "127.0.0.1 - - [03/Sep/2025 03:55:53] \"POST /predict HTTP/1.1\" 200 -\n",
      "127.0.0.1 - - [03/Sep/2025 03:55:53] \"POST /predict HTTP/1.1\" 200 -\n",
      "127.0.0.1 - - [03/Sep/2025 03:55:53] \"POST /predict HTTP/1.1\" 200 -\n",
      "127.0.0.1 - - [03/Sep/2025 03:55:53] \"POST /predict HTTP/1.1\" 200 -\n",
      "127.0.0.1 - - [03/Sep/2025 03:55:53] \"POST /predict HTTP/1.1\" 200 -\n",
      "127.0.0.1 - - [03/Sep/2025 03:55:53] \"POST /predict HTTP/1.1\" 200 -\n",
      "127.0.0.1 - - [03/Sep/2025 03:55:53] \"POST /predict HTTP/1.1\" 200 -\n",
      "127.0.0.1 - - [03/Sep/2025 03:55:53] \"POST /predict HTTP/1.1\" 200 -\n",
      "127.0.0.1 - - [03/Sep/2025 03:55:53] \"POST /predict HTTP/1.1\" 200 -\n",
      "127.0.0.1 - - [03/Sep/2025 03:55:53] \"POST /predict HTTP/1.1\" 200 -\n",
      "127.0.0.1 - - [03/Sep/2025 03:55:53] \"POST /predict HTTP/1.1\" 200 -\n",
      "127.0.0.1 - - [03/Sep/2025 03:55:53] \"POST /predict HTTP/1.1\" 200 -\n",
      "127.0.0.1 - - [03/Sep/2025 03:55:53] \"POST /predict HTTP/1.1\" 200 -\n",
      "127.0.0.1 - - [03/Sep/2025 03:55:53] \"POST /predict HTTP/1.1\" 200 -\n",
      "127.0.0.1 - - [03/Sep/2025 03:55:53] \"POST /predict HTTP/1.1\" 200 -\n",
      "127.0.0.1 - - [03/Sep/2025 03:55:53] \"POST /predict HTTP/1.1\" 200 -\n",
      "127.0.0.1 - - [03/Sep/2025 03:55:53] \"POST /predict HTTP/1.1\" 200 -\n",
      "127.0.0.1 - - [03/Sep/2025 03:55:53] \"POST /predict HTTP/1.1\" 200 -\n",
      "127.0.0.1 - - [03/Sep/2025 03:55:53] \"POST /predict HTTP/1.1\" 200 -\n",
      "127.0.0.1 - - [03/Sep/2025 03:55:53] \"POST /predict HTTP/1.1\" 200 -\n",
      "127.0.0.1 - - [03/Sep/2025 03:55:53] \"POST /predict HTTP/1.1\" 200 -\n",
      "127.0.0.1 - - [03/Sep/2025 03:55:53] \"POST /predict HTTP/1.1\" 200 -\n",
      "127.0.0.1 - - [03/Sep/2025 03:55:53] \"POST /predict HTTP/1.1\" 200 -\n",
      "127.0.0.1 - - [03/Sep/2025 03:55:53] \"POST /predict HTTP/1.1\" 200 -\n",
      "127.0.0.1 - - [03/Sep/2025 03:55:53] \"POST /predict HTTP/1.1\" 200 -\n",
      "127.0.0.1 - - [03/Sep/2025 03:55:53] \"POST /predict HTTP/1.1\" 200 -\n",
      "127.0.0.1 - - [03/Sep/2025 03:55:53] \"POST /predict HTTP/1.1\" 200 -\n",
      "127.0.0.1 - - [03/Sep/2025 03:55:53] \"POST /predict HTTP/1.1\" 200 -\n",
      "127.0.0.1 - - [03/Sep/2025 03:55:53] \"POST /predict HTTP/1.1\" 200 -\n",
      "127.0.0.1 - - [03/Sep/2025 03:55:53] \"POST /predict HTTP/1.1\" 200 -\n",
      "127.0.0.1 - - [03/Sep/2025 03:55:53] \"POST /predict HTTP/1.1\" 200 -\n",
      "127.0.0.1 - - [03/Sep/2025 03:55:53] \"POST /predict HTTP/1.1\" 200 -\n",
      "127.0.0.1 - - [03/Sep/2025 03:55:53] \"POST /predict HTTP/1.1\" 200 -\n",
      "127.0.0.1 - - [03/Sep/2025 03:55:53] \"POST /predict HTTP/1.1\" 200 -\n",
      "127.0.0.1 - - [03/Sep/2025 03:55:53] \"POST /predict HTTP/1.1\" 200 -\n",
      "127.0.0.1 - - [03/Sep/2025 03:55:53] \"POST /predict HTTP/1.1\" 200 -\n",
      "127.0.0.1 - - [03/Sep/2025 03:55:53] \"POST /predict HTTP/1.1\" 200 -\n",
      "127.0.0.1 - - [03/Sep/2025 03:55:53] \"POST /predict HTTP/1.1\" 200 -\n",
      "127.0.0.1 - - [03/Sep/2025 03:55:53] \"POST /predict HTTP/1.1\" 200 -\n",
      "127.0.0.1 - - [03/Sep/2025 03:55:53] \"POST /predict HTTP/1.1\" 200 -\n",
      "127.0.0.1 - - [03/Sep/2025 03:55:53] \"POST /predict HTTP/1.1\" 200 -\n",
      "127.0.0.1 - - [03/Sep/2025 03:55:53] \"POST /predict HTTP/1.1\" 200 -\n",
      "127.0.0.1 - - [03/Sep/2025 03:55:53] \"POST /predict HTTP/1.1\" 200 -\n",
      "127.0.0.1 - - [03/Sep/2025 03:55:53] \"POST /predict HTTP/1.1\" 200 -\n",
      "127.0.0.1 - - [03/Sep/2025 03:55:53] \"POST /predict HTTP/1.1\" 200 -\n",
      "127.0.0.1 - - [03/Sep/2025 03:55:53] \"POST /predict HTTP/1.1\" 200 -\n",
      "127.0.0.1 - - [03/Sep/2025 03:55:53] \"POST /predict HTTP/1.1\" 200 -\n",
      "127.0.0.1 - - [03/Sep/2025 03:55:53] \"POST /predict HTTP/1.1\" 200 -\n",
      "127.0.0.1 - - [03/Sep/2025 03:55:53] \"POST /predict HTTP/1.1\" 200 -\n",
      "127.0.0.1 - - [03/Sep/2025 03:55:53] \"POST /predict HTTP/1.1\" 200 -\n",
      "127.0.0.1 - - [03/Sep/2025 03:55:53] \"POST /predict HTTP/1.1\" 200 -\n",
      "127.0.0.1 - - [03/Sep/2025 03:55:53] \"POST /predict HTTP/1.1\" 200 -\n",
      "127.0.0.1 - - [03/Sep/2025 03:55:53] \"POST /predict HTTP/1.1\" 200 -\n",
      "127.0.0.1 - - [03/Sep/2025 03:55:53] \"POST /predict HTTP/1.1\" 200 -\n",
      "127.0.0.1 - - [03/Sep/2025 03:55:53] \"POST /predict HTTP/1.1\" 200 -\n",
      "127.0.0.1 - - [03/Sep/2025 03:55:53] \"POST /predict HTTP/1.1\" 200 -\n",
      "127.0.0.1 - - [03/Sep/2025 03:55:53] \"POST /predict HTTP/1.1\" 200 -\n",
      "127.0.0.1 - - [03/Sep/2025 03:55:53] \"POST /predict HTTP/1.1\" 200 -\n",
      "127.0.0.1 - - [03/Sep/2025 03:55:53] \"POST /predict HTTP/1.1\" 200 -\n",
      "127.0.0.1 - - [03/Sep/2025 03:55:53] \"POST /predict HTTP/1.1\" 200 -\n",
      "127.0.0.1 - - [03/Sep/2025 03:55:53] \"POST /predict HTTP/1.1\" 200 -\n",
      "127.0.0.1 - - [03/Sep/2025 03:55:53] \"POST /predict HTTP/1.1\" 200 -\n",
      "127.0.0.1 - - [03/Sep/2025 03:55:53] \"POST /predict HTTP/1.1\" 200 -\n",
      "127.0.0.1 - - [03/Sep/2025 03:55:53] \"POST /predict HTTP/1.1\" 200 -\n",
      "127.0.0.1 - - [03/Sep/2025 03:55:53] \"POST /predict HTTP/1.1\" 200 -\n",
      "127.0.0.1 - - [03/Sep/2025 03:55:53] \"POST /predict HTTP/1.1\" 200 -\n",
      "127.0.0.1 - - [03/Sep/2025 03:55:53] \"POST /predict HTTP/1.1\" 200 -\n",
      "127.0.0.1 - - [03/Sep/2025 03:55:53] \"POST /predict HTTP/1.1\" 200 -\n",
      "127.0.0.1 - - [03/Sep/2025 03:55:53] \"POST /predict HTTP/1.1\" 200 -\n",
      "127.0.0.1 - - [03/Sep/2025 03:55:53] \"POST /predict HTTP/1.1\" 200 -\n",
      "127.0.0.1 - - [03/Sep/2025 03:55:53] \"POST /predict HTTP/1.1\" 200 -\n",
      "127.0.0.1 - - [03/Sep/2025 03:55:53] \"POST /predict HTTP/1.1\" 200 -\n",
      "127.0.0.1 - - [03/Sep/2025 03:55:53] \"POST /predict HTTP/1.1\" 200 -\n",
      "127.0.0.1 - - [03/Sep/2025 03:55:53] \"POST /predict HTTP/1.1\" 200 -\n",
      "127.0.0.1 - - [03/Sep/2025 03:55:53] \"POST /predict HTTP/1.1\" 200 -\n",
      "127.0.0.1 - - [03/Sep/2025 03:55:53] \"POST /predict HTTP/1.1\" 200 -\n",
      "127.0.0.1 - - [03/Sep/2025 03:55:53] \"POST /predict HTTP/1.1\" 200 -\n",
      "127.0.0.1 - - [03/Sep/2025 03:55:53] \"POST /predict HTTP/1.1\" 200 -\n",
      "127.0.0.1 - - [03/Sep/2025 03:55:53] \"POST /predict HTTP/1.1\" 200 -\n",
      "127.0.0.1 - - [03/Sep/2025 03:55:53] \"POST /predict HTTP/1.1\" 200 -\n",
      "127.0.0.1 - - [03/Sep/2025 03:55:53] \"POST /predict HTTP/1.1\" 200 -\n",
      "127.0.0.1 - - [03/Sep/2025 03:55:53] \"POST /predict HTTP/1.1\" 200 -\n",
      "127.0.0.1 - - [03/Sep/2025 03:55:53] \"POST /predict HTTP/1.1\" 200 -\n",
      "127.0.0.1 - - [03/Sep/2025 03:55:53] \"POST /predict HTTP/1.1\" 200 -\n",
      "127.0.0.1 - - [03/Sep/2025 03:55:53] \"POST /predict HTTP/1.1\" 200 -\n",
      "127.0.0.1 - - [03/Sep/2025 03:55:53] \"POST /predict HTTP/1.1\" 200 -\n",
      "127.0.0.1 - - [03/Sep/2025 03:55:53] \"POST /predict HTTP/1.1\" 200 -\n",
      "127.0.0.1 - - [03/Sep/2025 03:55:53] \"POST /predict HTTP/1.1\" 200 -\n",
      "127.0.0.1 - - [03/Sep/2025 03:55:53] \"POST /predict HTTP/1.1\" 200 -\n",
      "127.0.0.1 - - [03/Sep/2025 03:55:53] \"POST /predict HTTP/1.1\" 200 -\n",
      "127.0.0.1 - - [03/Sep/2025 03:55:53] \"POST /predict HTTP/1.1\" 200 -\n",
      "127.0.0.1 - - [03/Sep/2025 03:55:53] \"POST /predict HTTP/1.1\" 200 -\n",
      "127.0.0.1 - - [03/Sep/2025 03:55:53] \"POST /predict HTTP/1.1\" 200 -\n",
      "127.0.0.1 - - [03/Sep/2025 03:55:53] \"POST /predict HTTP/1.1\" 200 -\n",
      "127.0.0.1 - - [03/Sep/2025 03:55:53] \"POST /predict HTTP/1.1\" 200 -\n",
      "127.0.0.1 - - [03/Sep/2025 03:55:53] \"POST /predict HTTP/1.1\" 200 -\n",
      "127.0.0.1 - - [03/Sep/2025 03:55:53] \"POST /predict HTTP/1.1\" 200 -\n",
      "127.0.0.1 - - [03/Sep/2025 03:55:53] \"POST /predict HTTP/1.1\" 200 -\n",
      "127.0.0.1 - - [03/Sep/2025 03:55:53] \"POST /predict HTTP/1.1\" 200 -\n",
      "127.0.0.1 - - [03/Sep/2025 03:55:53] \"POST /predict HTTP/1.1\" 200 -\n",
      "127.0.0.1 - - [03/Sep/2025 03:55:53] \"POST /predict HTTP/1.1\" 200 -\n",
      "127.0.0.1 - - [03/Sep/2025 03:55:53] \"POST /predict HTTP/1.1\" 200 -\n",
      "127.0.0.1 - - [03/Sep/2025 03:55:53] \"POST /predict HTTP/1.1\" 200 -\n",
      "127.0.0.1 - - [03/Sep/2025 03:55:53] \"POST /predict HTTP/1.1\" 200 -\n",
      "127.0.0.1 - - [03/Sep/2025 03:55:53] \"POST /predict HTTP/1.1\" 200 -\n",
      "127.0.0.1 - - [03/Sep/2025 03:55:53] \"POST /predict HTTP/1.1\" 200 -\n",
      "127.0.0.1 - - [03/Sep/2025 03:55:53] \"POST /predict HTTP/1.1\" 200 -\n",
      "127.0.0.1 - - [03/Sep/2025 03:55:53] \"POST /predict HTTP/1.1\" 200 -\n",
      "127.0.0.1 - - [03/Sep/2025 03:55:53] \"POST /predict HTTP/1.1\" 200 -\n",
      "127.0.0.1 - - [03/Sep/2025 03:55:53] \"POST /predict HTTP/1.1\" 200 -\n",
      "127.0.0.1 - - [03/Sep/2025 03:55:53] \"POST /predict HTTP/1.1\" 200 -\n",
      "127.0.0.1 - - [03/Sep/2025 03:55:53] \"POST /predict HTTP/1.1\" 200 -\n",
      "127.0.0.1 - - [03/Sep/2025 03:55:53] \"POST /predict HTTP/1.1\" 200 -\n",
      "127.0.0.1 - - [03/Sep/2025 03:55:53] \"POST /predict HTTP/1.1\" 200 -\n",
      "127.0.0.1 - - [03/Sep/2025 03:55:53] \"POST /predict HTTP/1.1\" 200 -\n",
      "127.0.0.1 - - [03/Sep/2025 03:55:53] \"POST /predict HTTP/1.1\" 200 -\n",
      "127.0.0.1 - - [03/Sep/2025 03:55:53] \"POST /predict HTTP/1.1\" 200 -\n",
      "127.0.0.1 - - [03/Sep/2025 03:55:53] \"POST /predict HTTP/1.1\" 200 -\n",
      "127.0.0.1 - - [03/Sep/2025 03:55:53] \"POST /predict HTTP/1.1\" 200 -\n",
      "127.0.0.1 - - [03/Sep/2025 03:55:53] \"POST /predict HTTP/1.1\" 200 -\n",
      "127.0.0.1 - - [03/Sep/2025 03:55:53] \"POST /predict HTTP/1.1\" 200 -\n",
      "127.0.0.1 - - [03/Sep/2025 03:55:53] \"POST /predict HTTP/1.1\" 200 -\n",
      "127.0.0.1 - - [03/Sep/2025 03:55:53] \"POST /predict HTTP/1.1\" 200 -\n",
      "127.0.0.1 - - [03/Sep/2025 03:55:54] \"POST /predict HTTP/1.1\" 200 -\n",
      "127.0.0.1 - - [03/Sep/2025 03:55:54] \"POST /predict HTTP/1.1\" 200 -\n",
      "127.0.0.1 - - [03/Sep/2025 03:55:54] \"POST /predict HTTP/1.1\" 200 -\n",
      "127.0.0.1 - - [03/Sep/2025 03:55:54] \"POST /predict HTTP/1.1\" 200 -\n",
      "127.0.0.1 - - [03/Sep/2025 03:55:54] \"POST /predict HTTP/1.1\" 200 -\n",
      "127.0.0.1 - - [03/Sep/2025 03:55:54] \"POST /predict HTTP/1.1\" 200 -\n",
      "127.0.0.1 - - [03/Sep/2025 03:55:54] \"POST /predict HTTP/1.1\" 200 -\n",
      "127.0.0.1 - - [03/Sep/2025 03:55:54] \"POST /predict HTTP/1.1\" 200 -\n",
      "127.0.0.1 - - [03/Sep/2025 03:55:54] \"POST /predict HTTP/1.1\" 200 -\n",
      "127.0.0.1 - - [03/Sep/2025 03:55:54] \"POST /predict HTTP/1.1\" 200 -\n",
      "127.0.0.1 - - [03/Sep/2025 03:55:54] \"POST /predict HTTP/1.1\" 200 -\n",
      "127.0.0.1 - - [03/Sep/2025 03:55:54] \"POST /predict HTTP/1.1\" 200 -\n",
      "127.0.0.1 - - [03/Sep/2025 03:55:54] \"POST /predict HTTP/1.1\" 200 -\n",
      "127.0.0.1 - - [03/Sep/2025 03:55:54] \"POST /predict HTTP/1.1\" 200 -\n",
      "127.0.0.1 - - [03/Sep/2025 03:55:54] \"POST /predict HTTP/1.1\" 200 -\n",
      "127.0.0.1 - - [03/Sep/2025 03:55:54] \"POST /predict HTTP/1.1\" 200 -\n",
      "127.0.0.1 - - [03/Sep/2025 03:55:54] \"POST /predict HTTP/1.1\" 200 -\n",
      "127.0.0.1 - - [03/Sep/2025 03:55:54] \"POST /predict HTTP/1.1\" 200 -\n",
      "127.0.0.1 - - [03/Sep/2025 03:55:54] \"POST /predict HTTP/1.1\" 200 -\n",
      "127.0.0.1 - - [03/Sep/2025 03:55:54] \"POST /predict HTTP/1.1\" 200 -\n",
      "127.0.0.1 - - [03/Sep/2025 03:55:54] \"POST /predict HTTP/1.1\" 200 -\n",
      "127.0.0.1 - - [03/Sep/2025 03:55:54] \"POST /predict HTTP/1.1\" 200 -\n",
      "127.0.0.1 - - [03/Sep/2025 03:55:54] \"POST /predict HTTP/1.1\" 200 -\n",
      "127.0.0.1 - - [03/Sep/2025 03:55:54] \"POST /predict HTTP/1.1\" 200 -\n",
      "127.0.0.1 - - [03/Sep/2025 03:55:54] \"POST /predict HTTP/1.1\" 200 -\n",
      "127.0.0.1 - - [03/Sep/2025 03:55:54] \"POST /predict HTTP/1.1\" 200 -\n",
      "127.0.0.1 - - [03/Sep/2025 03:55:54] \"POST /predict HTTP/1.1\" 200 -\n",
      "127.0.0.1 - - [03/Sep/2025 03:55:54] \"POST /predict HTTP/1.1\" 200 -\n",
      "127.0.0.1 - - [03/Sep/2025 03:55:54] \"POST /predict HTTP/1.1\" 200 -\n",
      "127.0.0.1 - - [03/Sep/2025 03:55:54] \"POST /predict HTTP/1.1\" 200 -\n",
      "127.0.0.1 - - [03/Sep/2025 03:55:54] \"POST /predict HTTP/1.1\" 200 -\n",
      "127.0.0.1 - - [03/Sep/2025 03:55:54] \"POST /predict HTTP/1.1\" 200 -\n",
      "127.0.0.1 - - [03/Sep/2025 03:55:54] \"POST /predict HTTP/1.1\" 200 -\n",
      "127.0.0.1 - - [03/Sep/2025 03:55:54] \"POST /predict HTTP/1.1\" 200 -\n",
      "127.0.0.1 - - [03/Sep/2025 03:55:54] \"POST /predict HTTP/1.1\" 200 -\n",
      "127.0.0.1 - - [03/Sep/2025 03:55:54] \"POST /predict HTTP/1.1\" 200 -\n",
      "127.0.0.1 - - [03/Sep/2025 03:55:54] \"POST /predict HTTP/1.1\" 200 -\n",
      "127.0.0.1 - - [03/Sep/2025 03:55:54] \"POST /predict HTTP/1.1\" 200 -\n",
      "127.0.0.1 - - [03/Sep/2025 03:56:31] \"POST /predict HTTP/1.1\" 200 -\n",
      "127.0.0.1 - - [03/Sep/2025 03:56:31] \"POST /predict HTTP/1.1\" 200 -\n",
      "127.0.0.1 - - [03/Sep/2025 03:56:31] \"POST /predict HTTP/1.1\" 200 -\n",
      "127.0.0.1 - - [03/Sep/2025 03:56:31] \"POST /predict HTTP/1.1\" 200 -\n",
      "127.0.0.1 - - [03/Sep/2025 03:56:31] \"POST /predict HTTP/1.1\" 200 -\n",
      "127.0.0.1 - - [03/Sep/2025 03:56:36] \"POST /predict HTTP/1.1\" 200 -\n",
      "127.0.0.1 - - [03/Sep/2025 03:56:36] \"POST /predict HTTP/1.1\" 200 -\n",
      "127.0.0.1 - - [03/Sep/2025 03:56:36] \"POST /predict HTTP/1.1\" 200 -\n",
      "127.0.0.1 - - [03/Sep/2025 03:56:36] \"POST /predict HTTP/1.1\" 200 -\n",
      "127.0.0.1 - - [03/Sep/2025 03:56:36] \"POST /predict HTTP/1.1\" 200 -\n",
      "127.0.0.1 - - [03/Sep/2025 03:56:39] \"POST /predict HTTP/1.1\" 200 -\n",
      "127.0.0.1 - - [03/Sep/2025 03:56:39] \"POST /predict HTTP/1.1\" 200 -\n",
      "127.0.0.1 - - [03/Sep/2025 03:56:39] \"POST /predict HTTP/1.1\" 200 -\n",
      "127.0.0.1 - - [03/Sep/2025 03:56:39] \"POST /predict HTTP/1.1\" 200 -\n",
      "127.0.0.1 - - [03/Sep/2025 03:56:39] \"POST /predict HTTP/1.1\" 200 -\n",
      "127.0.0.1 - - [03/Sep/2025 03:56:42] \"POST /predict HTTP/1.1\" 200 -\n",
      "127.0.0.1 - - [03/Sep/2025 03:56:42] \"POST /predict HTTP/1.1\" 200 -\n",
      "127.0.0.1 - - [03/Sep/2025 03:56:42] \"POST /predict HTTP/1.1\" 200 -\n",
      "127.0.0.1 - - [03/Sep/2025 03:56:42] \"POST /predict HTTP/1.1\" 200 -\n",
      "127.0.0.1 - - [03/Sep/2025 03:56:42] \"POST /predict HTTP/1.1\" 200 -\n",
      "127.0.0.1 - - [03/Sep/2025 03:56:43] \"POST /predict HTTP/1.1\" 200 -\n",
      "127.0.0.1 - - [03/Sep/2025 03:56:43] \"POST /predict HTTP/1.1\" 200 -\n",
      "127.0.0.1 - - [03/Sep/2025 03:56:43] \"POST /predict HTTP/1.1\" 200 -\n",
      "127.0.0.1 - - [03/Sep/2025 03:56:43] \"POST /predict HTTP/1.1\" 200 -\n",
      "127.0.0.1 - - [03/Sep/2025 03:56:43] \"POST /predict HTTP/1.1\" 200 -\n",
      "127.0.0.1 - - [03/Sep/2025 03:56:47] \"POST /predict HTTP/1.1\" 200 -\n",
      "127.0.0.1 - - [03/Sep/2025 03:56:47] \"POST /predict HTTP/1.1\" 200 -\n",
      "127.0.0.1 - - [03/Sep/2025 03:56:47] \"POST /predict HTTP/1.1\" 200 -\n",
      "127.0.0.1 - - [03/Sep/2025 03:56:47] \"POST /predict HTTP/1.1\" 200 -\n",
      "127.0.0.1 - - [03/Sep/2025 03:56:47] \"POST /predict HTTP/1.1\" 200 -\n",
      "127.0.0.1 - - [03/Sep/2025 03:56:52] \"POST /predict HTTP/1.1\" 200 -\n",
      "127.0.0.1 - - [03/Sep/2025 03:56:52] \"POST /predict HTTP/1.1\" 200 -\n",
      "127.0.0.1 - - [03/Sep/2025 03:56:52] \"POST /predict HTTP/1.1\" 200 -\n",
      "127.0.0.1 - - [03/Sep/2025 03:56:52] \"POST /predict HTTP/1.1\" 200 -\n",
      "127.0.0.1 - - [03/Sep/2025 03:56:52] \"POST /predict HTTP/1.1\" 200 -\n",
      "127.0.0.1 - - [03/Sep/2025 03:56:55] \"POST /predict HTTP/1.1\" 200 -\n",
      "127.0.0.1 - - [03/Sep/2025 03:56:55] \"POST /predict HTTP/1.1\" 200 -\n",
      "127.0.0.1 - - [03/Sep/2025 03:56:55] \"POST /predict HTTP/1.1\" 200 -\n",
      "127.0.0.1 - - [03/Sep/2025 03:56:55] \"POST /predict HTTP/1.1\" 200 -\n",
      "127.0.0.1 - - [03/Sep/2025 03:56:55] \"POST /predict HTTP/1.1\" 200 -\n",
      "127.0.0.1 - - [03/Sep/2025 03:56:56] \"POST /predict HTTP/1.1\" 200 -\n",
      "127.0.0.1 - - [03/Sep/2025 03:56:56] \"POST /predict HTTP/1.1\" 200 -\n",
      "127.0.0.1 - - [03/Sep/2025 03:56:56] \"POST /predict HTTP/1.1\" 200 -\n",
      "127.0.0.1 - - [03/Sep/2025 03:56:56] \"POST /predict HTTP/1.1\" 200 -\n",
      "127.0.0.1 - - [03/Sep/2025 03:56:56] \"POST /predict HTTP/1.1\" 200 -\n",
      "127.0.0.1 - - [03/Sep/2025 03:56:56] \"POST /predict HTTP/1.1\" 200 -\n",
      "127.0.0.1 - - [03/Sep/2025 03:56:56] \"POST /predict HTTP/1.1\" 200 -\n",
      "127.0.0.1 - - [03/Sep/2025 03:56:56] \"POST /predict HTTP/1.1\" 200 -\n",
      "127.0.0.1 - - [03/Sep/2025 03:56:56] \"POST /predict HTTP/1.1\" 200 -\n",
      "127.0.0.1 - - [03/Sep/2025 03:56:56] \"POST /predict HTTP/1.1\" 200 -\n",
      "127.0.0.1 - - [03/Sep/2025 03:56:56] \"POST /predict HTTP/1.1\" 200 -\n",
      "127.0.0.1 - - [03/Sep/2025 03:56:56] \"POST /predict HTTP/1.1\" 200 -\n",
      "127.0.0.1 - - [03/Sep/2025 03:56:56] \"POST /predict HTTP/1.1\" 200 -\n",
      "127.0.0.1 - - [03/Sep/2025 03:56:56] \"POST /predict HTTP/1.1\" 200 -\n",
      "127.0.0.1 - - [03/Sep/2025 03:56:56] \"POST /predict HTTP/1.1\" 200 -\n",
      "127.0.0.1 - - [03/Sep/2025 03:56:58] \"POST /predict HTTP/1.1\" 200 -\n",
      "127.0.0.1 - - [03/Sep/2025 03:56:58] \"POST /predict HTTP/1.1\" 200 -\n",
      "127.0.0.1 - - [03/Sep/2025 03:56:58] \"POST /predict HTTP/1.1\" 200 -\n",
      "127.0.0.1 - - [03/Sep/2025 03:56:58] \"POST /predict HTTP/1.1\" 200 -\n",
      "127.0.0.1 - - [03/Sep/2025 03:56:58] \"POST /predict HTTP/1.1\" 200 -\n",
      "127.0.0.1 - - [03/Sep/2025 03:56:59] \"POST /predict HTTP/1.1\" 200 -\n",
      "127.0.0.1 - - [03/Sep/2025 03:56:59] \"POST /predict HTTP/1.1\" 200 -\n",
      "127.0.0.1 - - [03/Sep/2025 03:56:59] \"POST /predict HTTP/1.1\" 200 -\n",
      "127.0.0.1 - - [03/Sep/2025 03:56:59] \"POST /predict HTTP/1.1\" 200 -\n",
      "127.0.0.1 - - [03/Sep/2025 03:56:59] \"POST /predict HTTP/1.1\" 200 -\n",
      "127.0.0.1 - - [03/Sep/2025 03:57:01] \"POST /predict HTTP/1.1\" 200 -\n",
      "127.0.0.1 - - [03/Sep/2025 03:57:01] \"POST /predict HTTP/1.1\" 200 -\n",
      "127.0.0.1 - - [03/Sep/2025 03:57:01] \"POST /predict HTTP/1.1\" 200 -\n",
      "127.0.0.1 - - [03/Sep/2025 03:57:01] \"POST /predict HTTP/1.1\" 200 -\n",
      "127.0.0.1 - - [03/Sep/2025 03:57:01] \"POST /predict HTTP/1.1\" 200 -\n",
      "127.0.0.1 - - [03/Sep/2025 03:57:01] \"POST /predict HTTP/1.1\" 200 -\n",
      "127.0.0.1 - - [03/Sep/2025 03:57:01] \"POST /predict HTTP/1.1\" 200 -\n",
      "127.0.0.1 - - [03/Sep/2025 03:57:01] \"POST /predict HTTP/1.1\" 200 -\n",
      "127.0.0.1 - - [03/Sep/2025 03:57:01] \"POST /predict HTTP/1.1\" 200 -\n",
      "127.0.0.1 - - [03/Sep/2025 03:57:01] \"POST /predict HTTP/1.1\" 200 -\n",
      "127.0.0.1 - - [03/Sep/2025 03:57:02] \"POST /predict HTTP/1.1\" 200 -\n",
      "127.0.0.1 - - [03/Sep/2025 03:57:02] \"POST /predict HTTP/1.1\" 200 -\n",
      "127.0.0.1 - - [03/Sep/2025 03:57:02] \"POST /predict HTTP/1.1\" 200 -\n",
      "127.0.0.1 - - [03/Sep/2025 03:57:02] \"POST /predict HTTP/1.1\" 200 -\n",
      "127.0.0.1 - - [03/Sep/2025 03:57:02] \"POST /predict HTTP/1.1\" 200 -\n",
      "127.0.0.1 - - [03/Sep/2025 03:57:03] \"POST /predict HTTP/1.1\" 200 -\n",
      "127.0.0.1 - - [03/Sep/2025 03:57:03] \"POST /predict HTTP/1.1\" 200 -\n",
      "127.0.0.1 - - [03/Sep/2025 03:57:03] \"POST /predict HTTP/1.1\" 200 -\n",
      "127.0.0.1 - - [03/Sep/2025 03:57:03] \"POST /predict HTTP/1.1\" 200 -\n",
      "127.0.0.1 - - [03/Sep/2025 03:57:03] \"POST /predict HTTP/1.1\" 200 -\n",
      "127.0.0.1 - - [03/Sep/2025 03:57:09] \"POST /predict HTTP/1.1\" 200 -\n",
      "127.0.0.1 - - [03/Sep/2025 03:57:09] \"POST /predict HTTP/1.1\" 200 -\n",
      "127.0.0.1 - - [03/Sep/2025 03:57:09] \"POST /predict HTTP/1.1\" 200 -\n",
      "127.0.0.1 - - [03/Sep/2025 03:57:09] \"POST /predict HTTP/1.1\" 200 -\n",
      "127.0.0.1 - - [03/Sep/2025 03:57:09] \"POST /predict HTTP/1.1\" 200 -\n",
      "127.0.0.1 - - [03/Sep/2025 03:57:11] \"POST /predict HTTP/1.1\" 200 -\n",
      "127.0.0.1 - - [03/Sep/2025 03:57:11] \"POST /predict HTTP/1.1\" 200 -\n",
      "127.0.0.1 - - [03/Sep/2025 03:57:11] \"POST /predict HTTP/1.1\" 200 -\n",
      "127.0.0.1 - - [03/Sep/2025 03:57:11] \"POST /predict HTTP/1.1\" 200 -\n",
      "127.0.0.1 - - [03/Sep/2025 03:57:11] \"POST /predict HTTP/1.1\" 200 -\n",
      "127.0.0.1 - - [03/Sep/2025 03:57:12] \"POST /predict HTTP/1.1\" 200 -\n",
      "127.0.0.1 - - [03/Sep/2025 03:57:12] \"POST /predict HTTP/1.1\" 200 -\n",
      "127.0.0.1 - - [03/Sep/2025 03:57:12] \"POST /predict HTTP/1.1\" 200 -\n",
      "127.0.0.1 - - [03/Sep/2025 03:57:12] \"POST /predict HTTP/1.1\" 200 -\n",
      "127.0.0.1 - - [03/Sep/2025 03:57:12] \"POST /predict HTTP/1.1\" 200 -\n",
      "127.0.0.1 - - [03/Sep/2025 03:57:13] \"POST /predict HTTP/1.1\" 200 -\n",
      "127.0.0.1 - - [03/Sep/2025 03:57:13] \"POST /predict HTTP/1.1\" 200 -\n",
      "127.0.0.1 - - [03/Sep/2025 03:57:13] \"POST /predict HTTP/1.1\" 200 -\n",
      "127.0.0.1 - - [03/Sep/2025 03:57:13] \"POST /predict HTTP/1.1\" 200 -\n",
      "127.0.0.1 - - [03/Sep/2025 03:57:13] \"POST /predict HTTP/1.1\" 200 -\n",
      "127.0.0.1 - - [03/Sep/2025 03:57:14] \"POST /predict HTTP/1.1\" 200 -\n",
      "127.0.0.1 - - [03/Sep/2025 03:57:14] \"POST /predict HTTP/1.1\" 200 -\n",
      "127.0.0.1 - - [03/Sep/2025 03:57:14] \"POST /predict HTTP/1.1\" 200 -\n",
      "127.0.0.1 - - [03/Sep/2025 03:57:14] \"POST /predict HTTP/1.1\" 200 -\n",
      "127.0.0.1 - - [03/Sep/2025 03:57:14] \"POST /predict HTTP/1.1\" 200 -\n",
      "127.0.0.1 - - [03/Sep/2025 03:57:15] \"POST /predict HTTP/1.1\" 200 -\n",
      "127.0.0.1 - - [03/Sep/2025 03:57:15] \"POST /predict HTTP/1.1\" 200 -\n",
      "127.0.0.1 - - [03/Sep/2025 03:57:15] \"POST /predict HTTP/1.1\" 200 -\n",
      "127.0.0.1 - - [03/Sep/2025 03:57:15] \"POST /predict HTTP/1.1\" 200 -\n",
      "127.0.0.1 - - [03/Sep/2025 03:57:15] \"POST /predict HTTP/1.1\" 200 -\n",
      "127.0.0.1 - - [03/Sep/2025 03:57:15] \"POST /predict HTTP/1.1\" 200 -\n",
      "127.0.0.1 - - [03/Sep/2025 03:57:15] \"POST /predict HTTP/1.1\" 200 -\n",
      "127.0.0.1 - - [03/Sep/2025 03:57:15] \"POST /predict HTTP/1.1\" 200 -\n",
      "127.0.0.1 - - [03/Sep/2025 03:57:15] \"POST /predict HTTP/1.1\" 200 -\n",
      "127.0.0.1 - - [03/Sep/2025 03:57:15] \"POST /predict HTTP/1.1\" 200 -\n",
      "127.0.0.1 - - [03/Sep/2025 03:57:15] \"POST /predict HTTP/1.1\" 200 -\n",
      "127.0.0.1 - - [03/Sep/2025 03:57:15] \"POST /predict HTTP/1.1\" 200 -\n",
      "127.0.0.1 - - [03/Sep/2025 03:57:15] \"POST /predict HTTP/1.1\" 200 -\n",
      "127.0.0.1 - - [03/Sep/2025 03:57:15] \"POST /predict HTTP/1.1\" 200 -\n",
      "127.0.0.1 - - [03/Sep/2025 03:57:15] \"POST /predict HTTP/1.1\" 200 -\n",
      "127.0.0.1 - - [03/Sep/2025 03:57:16] \"POST /predict HTTP/1.1\" 200 -\n",
      "127.0.0.1 - - [03/Sep/2025 03:57:16] \"POST /predict HTTP/1.1\" 200 -\n",
      "127.0.0.1 - - [03/Sep/2025 03:57:16] \"POST /predict HTTP/1.1\" 200 -\n",
      "127.0.0.1 - - [03/Sep/2025 03:57:16] \"POST /predict HTTP/1.1\" 200 -\n",
      "127.0.0.1 - - [03/Sep/2025 03:57:16] \"POST /predict HTTP/1.1\" 200 -\n",
      "127.0.0.1 - - [03/Sep/2025 03:57:16] \"POST /predict HTTP/1.1\" 200 -\n",
      "127.0.0.1 - - [03/Sep/2025 03:57:16] \"POST /predict HTTP/1.1\" 200 -\n",
      "127.0.0.1 - - [03/Sep/2025 03:57:16] \"POST /predict HTTP/1.1\" 200 -\n",
      "127.0.0.1 - - [03/Sep/2025 03:57:16] \"POST /predict HTTP/1.1\" 200 -\n",
      "127.0.0.1 - - [03/Sep/2025 03:57:16] \"POST /predict HTTP/1.1\" 200 -\n",
      "127.0.0.1 - - [03/Sep/2025 03:57:16] \"POST /predict HTTP/1.1\" 200 -\n",
      "127.0.0.1 - - [03/Sep/2025 03:57:16] \"POST /predict HTTP/1.1\" 200 -\n",
      "127.0.0.1 - - [03/Sep/2025 03:57:16] \"POST /predict HTTP/1.1\" 200 -\n",
      "127.0.0.1 - - [03/Sep/2025 03:57:16] \"POST /predict HTTP/1.1\" 200 -\n",
      "127.0.0.1 - - [03/Sep/2025 03:57:16] \"POST /predict HTTP/1.1\" 200 -\n",
      "127.0.0.1 - - [03/Sep/2025 03:57:17] \"POST /predict HTTP/1.1\" 200 -\n",
      "127.0.0.1 - - [03/Sep/2025 03:57:17] \"POST /predict HTTP/1.1\" 200 -\n",
      "127.0.0.1 - - [03/Sep/2025 03:57:17] \"POST /predict HTTP/1.1\" 200 -\n",
      "127.0.0.1 - - [03/Sep/2025 03:57:17] \"POST /predict HTTP/1.1\" 200 -\n",
      "127.0.0.1 - - [03/Sep/2025 03:57:17] \"POST /predict HTTP/1.1\" 200 -\n",
      "127.0.0.1 - - [03/Sep/2025 03:57:17] \"POST /predict HTTP/1.1\" 200 -\n",
      "127.0.0.1 - - [03/Sep/2025 03:57:17] \"POST /predict HTTP/1.1\" 200 -\n",
      "127.0.0.1 - - [03/Sep/2025 03:57:17] \"POST /predict HTTP/1.1\" 200 -\n",
      "127.0.0.1 - - [03/Sep/2025 03:57:17] \"POST /predict HTTP/1.1\" 200 -\n",
      "127.0.0.1 - - [03/Sep/2025 03:57:17] \"POST /predict HTTP/1.1\" 200 -\n",
      "127.0.0.1 - - [03/Sep/2025 03:57:18] \"POST /predict HTTP/1.1\" 200 -\n",
      "127.0.0.1 - - [03/Sep/2025 03:57:18] \"POST /predict HTTP/1.1\" 200 -\n",
      "127.0.0.1 - - [03/Sep/2025 03:57:18] \"POST /predict HTTP/1.1\" 200 -\n",
      "127.0.0.1 - - [03/Sep/2025 03:57:18] \"POST /predict HTTP/1.1\" 200 -\n",
      "127.0.0.1 - - [03/Sep/2025 03:57:18] \"POST /predict HTTP/1.1\" 200 -\n",
      "127.0.0.1 - - [03/Sep/2025 03:57:18] \"POST /predict HTTP/1.1\" 200 -\n",
      "127.0.0.1 - - [03/Sep/2025 03:57:18] \"POST /predict HTTP/1.1\" 200 -\n",
      "127.0.0.1 - - [03/Sep/2025 03:57:18] \"POST /predict HTTP/1.1\" 200 -\n",
      "127.0.0.1 - - [03/Sep/2025 03:57:18] \"POST /predict HTTP/1.1\" 200 -\n",
      "127.0.0.1 - - [03/Sep/2025 03:57:18] \"POST /predict HTTP/1.1\" 200 -\n",
      "127.0.0.1 - - [03/Sep/2025 03:57:19] \"POST /predict HTTP/1.1\" 200 -\n",
      "127.0.0.1 - - [03/Sep/2025 03:57:19] \"POST /predict HTTP/1.1\" 200 -\n",
      "127.0.0.1 - - [03/Sep/2025 03:57:19] \"POST /predict HTTP/1.1\" 200 -\n",
      "127.0.0.1 - - [03/Sep/2025 03:57:19] \"POST /predict HTTP/1.1\" 200 -\n",
      "127.0.0.1 - - [03/Sep/2025 03:57:19] \"POST /predict HTTP/1.1\" 200 -\n",
      "127.0.0.1 - - [03/Sep/2025 03:57:19] \"POST /predict HTTP/1.1\" 200 -\n",
      "127.0.0.1 - - [03/Sep/2025 03:57:19] \"POST /predict HTTP/1.1\" 200 -\n",
      "127.0.0.1 - - [03/Sep/2025 03:57:19] \"POST /predict HTTP/1.1\" 200 -\n",
      "127.0.0.1 - - [03/Sep/2025 03:57:19] \"POST /predict HTTP/1.1\" 200 -\n",
      "127.0.0.1 - - [03/Sep/2025 03:57:19] \"POST /predict HTTP/1.1\" 200 -\n"
     ]
    }
   ],
   "source": [
    "# server_cnn_mdn.py\n",
    "import glob\n",
    "import joblib\n",
    "import torch\n",
    "import numpy as np\n",
    "from flask import Flask, request, jsonify, render_template\n",
    "# from models.LSTM.cnn_lstm_mdn import CNNLSTM_MDN\n",
    "# from preprocess import sequential as dp\n",
    "\n",
    "app = Flask(__name__)\n",
    "\n",
    "# ---------------- Load model and meta ----------------\n",
    "meta_path = glob.glob(\"models/saved_models/lstm_meta_multireg_*.pkl\")[0]\n",
    "state_path = glob.glob(\"models/saved_models/lstm_model_multireg*.pt\")[0]\n",
    "\n",
    "meta = joblib.load(meta_path)\n",
    "FEATURES = meta['feature_cols']  # load the same columns used during training\n",
    "\n",
    "def one_sample(df_slice):\n",
    "\n",
    "    return df_slice[FEATURES].values.astype(np.float32)\n",
    "def load_raw_data_serve(candle_csv, label_csv):\n",
    "    candles = pd.read_csv(candle_csv, parse_dates=['timestamp'])\n",
    "    labels  = pd.read_csv(label_csv, header=None,\n",
    "                          names=['timestamp', 'last_close', 'line_raw'])\n",
    "    labels['timestamp'] = pd.to_datetime(labels['timestamp'])\n",
    "\n",
    "    # Keep all candles\n",
    "    df = pd.merge(candles, labels[['timestamp', 'line_raw']], on='timestamp', how='left')\n",
    "\n",
    "    # Extract line price safely\n",
    "    df['label_price'] = df['line_raw'].str.extract(r\"\\(([^)]+)\\)\")[0].astype(float)\n",
    "    df['has_line'] = (~df['label_price'].isna()).astype(int)\n",
    "\n",
    "    # Optional log factor for features\n",
    "    df['log_factor'] = np.where(df['has_line'],\n",
    "                                np.log(np.maximum(df['label_price'], 1e-6)),\n",
    "                                np.nan)\n",
    "\n",
    "    return df\n",
    "\n",
    "model = CNNLSTM_MDN(\n",
    "    input_dim=meta['input_dim'],\n",
    "    max_len_y=meta.get('max_len_y', 20),   # default to 20 if not saved\n",
    "    hidden_dim=meta.get('hidden_dim', 128),\n",
    "    num_layers=meta.get('num_layers', 1),\n",
    "    n_components=meta.get('n_components', 5)\n",
    ")\n",
    "# Load Lightning checkpoint\n",
    "model = CNNLSTM_MDN.load_from_checkpoint(state_path)\n",
    "model.eval()\n",
    "\n",
    "# ---------------- Load data ----------------\n",
    "df = load_raw_data_serve(\n",
    "    \"/home/iatell/projects/meta-learning/data/Bitcoin_BTCUSDT_kaggle_1D_candles_prop.csv\",\n",
    "    \"/home/iatell/projects/meta-learning/data/ohlcv_log(2).csv\"\n",
    ")\n",
    "\n",
    "# ---------------- Routes ----------------\n",
    "@app.route(\"/\")\n",
    "def home():\n",
    "    return render_template(\"sequential.html\")\n",
    "\n",
    "\n",
    "@app.route(\"/candles\")\n",
    "def candles():\n",
    "    dense = df.set_index('timestamp').asfreq('D').ffill()\n",
    "    return jsonify([\n",
    "        {'time': int(ts.timestamp()),\n",
    "         'open': float(row.open),\n",
    "         'high': float(row.high),\n",
    "         'low': float(row.low),\n",
    "         'close': float(row.close)}\n",
    "        for ts, row in dense.iterrows()\n",
    "    ])\n",
    "\n",
    "\n",
    "@app.route(\"/predict\", methods=['POST'])\n",
    "def predict():\n",
    "    data = request.get_json(force=True)\n",
    "    idxs = data.get('idxs')         # must be list of indices\n",
    "    seq_len = data.get('seq_len')   # must be int\n",
    "\n",
    "    if not idxs or not isinstance(idxs, list):\n",
    "        return jsonify({\"error\": \"Provide 'idxs' as a list\"}), 400\n",
    "    if not seq_len or not isinstance(seq_len, int):\n",
    "        return jsonify({\"error\": \"Provide 'seq_len' as an int\"}), 400\n",
    "\n",
    "    all_pred_prices = []\n",
    "    all_pred_sigmas = []\n",
    "    all_pi = []\n",
    "\n",
    "    for idx in idxs:\n",
    "        seq_df = df.iloc[idx - seq_len + 1 : idx + 1]\n",
    "        last_close = seq_df.iloc[-1]['close']\n",
    "        X_np = one_sample(seq_df)\n",
    "        X_t = torch.from_numpy(X_np.astype(np.float32)).unsqueeze(0)\n",
    "\n",
    "        with torch.no_grad():\n",
    "            mdn_out = model(X_t)\n",
    "\n",
    "        pi    = mdn_out['pi'][0, -1].cpu().numpy()\n",
    "        mu    = mdn_out['mu'][0, -1].cpu().numpy()\n",
    "        sigma = mdn_out['sigma'][0, -1].cpu().numpy()\n",
    "\n",
    "        all_pred_prices.append((last_close * np.exp(mu)).tolist())\n",
    "        all_pred_sigmas.append((last_close * sigma).tolist())\n",
    "        all_pi.append(pi.tolist())\n",
    "\n",
    "    return jsonify({\n",
    "        'pred_prices': all_pred_prices,\n",
    "        'pred_sigmas': all_pred_sigmas,\n",
    "        'pi': all_pi\n",
    "    })\n",
    "\n",
    "\n",
    "\n",
    "if __name__ == '__main__':\n",
    "    app.run(debug=True,use_reloader=False)\n"
   ]
  },
  {
   "cell_type": "code",
   "execution_count": null,
   "id": "49722e73",
   "metadata": {},
   "outputs": [],
   "source": []
  }
 ],
 "metadata": {
  "kernelspec": {
   "display_name": "Rllib2.43 (3.11.13)",
   "language": "python",
   "name": "python3"
  },
  "language_info": {
   "codemirror_mode": {
    "name": "ipython",
    "version": 3
   },
   "file_extension": ".py",
   "mimetype": "text/x-python",
   "name": "python",
   "nbconvert_exporter": "python",
   "pygments_lexer": "ipython3",
   "version": "3.11.13"
  }
 },
 "nbformat": 4,
 "nbformat_minor": 5
}
