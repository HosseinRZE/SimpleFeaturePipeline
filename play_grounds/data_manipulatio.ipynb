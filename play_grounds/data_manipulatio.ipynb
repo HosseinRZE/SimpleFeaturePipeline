{
 "cells": [
  {
   "cell_type": "markdown",
   "id": "e2518e9a",
   "metadata": {},
   "source": [
    "# data concatinate"
   ]
  },
  {
   "cell_type": "code",
   "execution_count": 1,
   "id": "f3062f72",
   "metadata": {},
   "outputs": [],
   "source": [
    "import pandas as pd\n",
    "\n",
    "# Load the CSV files\n",
    "df1 = pd.read_csv(\"/home/iatell/projects/meta-learning/data/line_seq_ordered.csv\")\n",
    "df2 = pd.read_csv(\"/home/iatell/projects/meta-learning/data/to_added_seq_label.csv\")\n",
    "\n",
    "# Concatenate vertically\n",
    "df_concat = pd.concat([df1, df2], ignore_index=True)\n",
    "\n",
    "# Save to a new CSV\n",
    "df_concat.to_csv('/home/iatell/projects/meta-learning/data/line_seq_ordered_added.csv', index=False)\n"
   ]
  }
 ],
 "metadata": {
  "kernelspec": {
   "display_name": "Rllib2.43 (3.11.13)",
   "language": "python",
   "name": "python3"
  },
  "language_info": {
   "codemirror_mode": {
    "name": "ipython",
    "version": 3
   },
   "file_extension": ".py",
   "mimetype": "text/x-python",
   "name": "python",
   "nbconvert_exporter": "python",
   "pygments_lexer": "ipython3",
   "version": "3.11.13"
  }
 },
 "nbformat": 4,
 "nbformat_minor": 5
}
