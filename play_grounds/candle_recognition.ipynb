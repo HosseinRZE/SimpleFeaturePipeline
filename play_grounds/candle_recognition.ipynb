{
 "cells": [
  {
   "cell_type": "markdown",
   "id": "09bc3c22",
   "metadata": {},
   "source": [
    "# neural network"
   ]
  },
  {
   "cell_type": "code",
   "execution_count": 2,
   "id": "60570c35",
   "metadata": {},
   "outputs": [
    {
     "name": "stderr",
     "output_type": "stream",
     "text": [
      "💡 Tip: For seamless cloud uploads and versioning, try installing [litmodels](https://pypi.org/project/litmodels/) to enable LitModelCheckpoint, which syncs automatically with the Lightning model registry.\n",
      "GPU available: True (cuda), used: True\n",
      "TPU available: False, using: 0 TPU cores\n",
      "HPU available: False, using: 0 HPUs\n",
      "LOCAL_RANK: 0 - CUDA_VISIBLE_DEVICES: [0]\n",
      "\n",
      "  | Name      | Type              | Params | Mode \n",
      "--------------------------------------------------------\n",
      "0 | lstm      | LSTM              | 640    | train\n",
      "1 | fc        | Linear            | 77     | train\n",
      "2 | criterion | BCEWithLogitsLoss | 0      | train\n",
      "--------------------------------------------------------\n",
      "717       Trainable params\n",
      "0         Non-trainable params\n",
      "717       Total params\n",
      "0.003     Total estimated model params size (MB)\n",
      "3         Modules in train mode\n",
      "0         Modules in eval mode\n"
     ]
    },
    {
     "name": "stdout",
     "output_type": "stream",
     "text": [
      "clean [['no_label'], ['no_label'], ['no_label'], ['no_label'], ['no_label'], ['no_label'], ['no_label'], ['no_label'], ['no_label'], ['no_label'], ['no_label'], ['no_label'], ['H'], ['+', 's', 'v'], ['no_label'], ['+', 'v'], ['+', 's', 'v'], ['no_label'], ['no_label'], ['no_label'], ['no_label'], ['+', 's', 'v'], ['no_label'], ['s', 'v'], ['+', 's', 'v'], ['no_label'], ['no_label'], ['no_label'], ['no_label'], ['+', 's', 'v'], ['no_label'], ['H'], ['no_label'], ['no_label'], ['no_label'], ['no_label'], ['+', 's', 'v'], ['no_label'], ['no_label'], ['v'], ['no_label'], ['no_label'], ['no_label'], ['no_label'], ['no_label'], ['v'], ['no_label'], ['no_label'], ['no_label'], ['no_label'], ['no_label'], ['no_label'], ['no_label'], ['no_label'], ['v'], ['no_label'], ['no_label'], ['no_label'], ['no_label'], ['v'], ['no_label'], ['no_label'], ['no_label'], ['no_label'], ['no_label'], ['no_label'], ['+', 'v'], ['no_label'], ['no_label'], ['no_label'], ['+', 's', 'v'], ['no_label'], ['+', 's', 'v'], ['+', 's', 'v'], ['no_label'], ['no_label'], ['no_label'], ['no_label'], ['+', 's', 'v'], ['v'], ['no_label'], ['no_label'], ['s', 'v'], ['no_label'], ['no_label'], ['no_label'], ['no_label'], ['no_label'], ['no_label'], ['v'], ['no_label'], ['no_label'], ['no_label'], ['+', 'q', 's', 'v'], ['no_label'], ['no_label'], ['no_label'], ['no_label'], ['no_label'], ['no_label'], ['no_label'], ['+', 's', 'v'], ['no_label'], ['no_label'], ['no_label'], ['no_label'], ['no_label'], ['no_label'], ['no_label'], ['v'], ['no_label'], ['no_label'], ['no_label'], ['no_label'], ['no_label'], ['no_label'], ['no_label'], ['+', 'v'], ['no_label'], ['H'], ['no_label'], ['no_label'], ['+', 's', 'v'], ['no_label'], ['no_label'], ['no_label'], ['no_label'], ['no_label'], ['no_label'], ['no_label'], ['+', 'v'], ['no_label'], ['+', 's', 'v'], ['no_label'], ['H'], ['no_label'], ['no_label'], ['+', 's', 'v'], ['no_label'], ['no_label'], ['I'], ['no_label'], ['+', 'v'], ['no_label'], ['no_label'], ['+', 's', 'v'], ['no_label'], ['no_label'], ['v'], ['no_label'], ['+', 's', 'v'], ['no_label'], ['no_label'], ['no_label'], ['no_label'], ['v'], ['v'], ['no_label'], ['no_label'], ['no_label'], ['no_label'], ['no_label'], ['no_label'], ['no_label'], ['no_label'], ['no_label'], ['no_label'], ['no_label'], ['s', 'v'], ['+', 'v'], ['no_label'], ['no_label'], ['no_label'], ['+', 'v'], ['no_label'], ['no_label'], ['no_label'], ['no_label'], ['no_label'], ['no_label'], ['s', 'v'], ['no_label'], ['no_label'], ['no_label'], ['v'], ['no_label'], ['no_label'], ['no_label'], ['no_label'], ['no_label'], ['no_label'], ['no_label'], ['+', 'v'], ['no_label'], ['no_label'], ['no_label'], ['no_label'], ['v'], ['v'], ['no_label'], ['no_label'], ['+', 's', 'v'], ['no_label'], ['no_label'], ['no_label'], ['no_label'], ['no_label'], ['no_label'], ['+', 's', 'v'], ['v'], ['no_label'], ['H'], ['no_label'], ['H'], ['no_label'], ['+', 's', 'v'], ['v'], ['no_label'], ['no_label'], ['no_label'], ['no_label'], ['+', 'v'], ['v'], ['v'], ['H'], ['no_label'], ['v'], ['no_label'], ['no_label'], ['no_label'], ['no_label'], ['no_label'], ['no_label'], ['no_label'], ['no_label'], ['no_label'], ['v'], ['no_label'], ['no_label'], ['v'], ['no_label'], ['+', 's', 'v'], ['no_label'], ['no_label'], ['no_label'], ['no_label'], ['no_label'], ['no_label'], ['no_label'], ['no_label'], ['no_label'], ['no_label'], ['+', 's', 'v'], ['no_label'], ['no_label'], ['+', 's', 'v'], ['no_label'], ['no_label'], ['no_label'], ['no_label'], ['+', 'v'], ['no_label'], ['no_label'], ['+', 'v'], ['+', 's', 'v'], ['no_label'], ['no_label'], ['+', 's', 'v'], ['no_label'], ['v'], ['no_label'], ['v'], ['+', 's', 'v'], ['no_label'], ['s', 'v'], ['no_label'], ['v'], ['no_label'], ['v'], ['no_label'], ['no_label'], ['H'], ['no_label'], ['no_label'], ['no_label'], ['+', 's', 'v'], ['no_label'], ['+', 's', 'v'], ['+', 's', 'v'], ['no_label'], ['no_label'], ['no_label'], ['s', 'v'], ['+', 's', 'v'], ['H'], ['no_label'], ['no_label'], ['v'], ['no_label'], ['no_label'], ['no_label'], ['v'], ['no_label'], ['no_label'], ['no_label'], ['no_label'], ['no_label'], ['v'], ['no_label'], ['no_label'], ['no_label'], ['no_label'], ['no_label'], ['no_label'], ['+', 's', 'v'], ['+', 's', 'v'], ['no_label'], ['no_label'], ['no_label'], ['no_label'], ['no_label'], ['no_label'], ['no_label'], ['v'], ['no_label'], ['v'], ['no_label'], ['no_label'], ['no_label'], ['+', 's', 'v'], ['no_label'], ['+', 's', 'v'], ['no_label'], ['no_label'], ['s', 'v'], ['no_label'], ['v'], ['no_label'], ['no_label'], ['no_label'], ['+', 's', 'v'], ['no_label'], ['no_label'], ['no_label'], ['no_label'], ['no_label'], ['no_label'], ['+', 's', 'v'], ['s', 'v'], ['no_label'], ['no_label'], ['+', 'v'], ['no_label'], ['no_label'], ['no_label'], ['+', 's', 'v'], ['no_label'], ['no_label'], ['v'], ['no_label'], ['no_label'], ['no_label'], ['no_label'], ['no_label'], ['no_label'], ['no_label'], ['no_label'], ['v'], ['s', 'v'], ['no_label'], ['+', 's', 'v'], ['+', 'v'], ['+', 's', 'v'], ['no_label'], ['+', 's', 'v'], ['no_label'], ['no_label'], ['no_label'], ['no_label'], ['no_label'], ['no_label'], ['no_label'], ['no_label'], ['no_label'], ['s', 'v'], ['no_label'], ['+', 'v'], ['v'], ['+', 's', 'v'], ['+', 'q', 'v'], ['no_label'], ['no_label'], ['no_label'], ['no_label'], ['no_label'], ['no_label'], ['no_label'], ['no_label'], ['+', 's', 'v'], ['no_label'], ['no_label'], ['no_label'], ['no_label'], ['+', 's', 'v'], ['no_label'], ['no_label'], ['+', 's', 'v'], ['no_label'], ['v'], ['v'], ['no_label'], ['no_label'], ['no_label'], ['+', 'v'], ['no_label'], ['v'], ['no_label'], ['no_label'], ['no_label'], ['no_label'], ['no_label'], ['+', 'v'], ['+', 's', 'v'], ['no_label'], ['+', 's', 'v'], ['s', 'v'], ['no_label'], ['no_label'], ['+', 's', 'v'], ['v'], ['+', 's', 'v'], ['no_label'], ['no_label'], ['no_label'], ['+', 'v'], ['no_label'], ['+', 'v'], ['no_label'], ['no_label'], ['no_label'], ['+', 's', 'v'], ['no_label'], ['no_label'], ['no_label'], ['+', 's', 'v'], ['no_label'], ['H'], ['no_label'], ['no_label'], ['no_label'], ['no_label'], ['no_label'], ['+', 's', 'v'], ['+', 's', 'v'], ['no_label'], ['no_label'], ['v'], ['+', 'v'], ['no_label'], ['v'], ['no_label'], ['v'], ['no_label'], ['no_label'], ['no_label'], ['s', 'v'], ['+', 's', 'v'], ['no_label'], ['no_label'], ['no_label'], ['no_label'], ['no_label'], ['+', 's', 'v'], ['no_label'], ['no_label'], ['no_label'], ['no_label'], ['no_label'], ['no_label'], ['no_label'], ['s', 'v'], ['+', 's', 'v'], ['no_label'], ['no_label'], ['no_label'], ['no_label'], ['no_label'], ['v'], ['no_label'], ['v'], ['no_label'], ['no_label'], ['no_label'], ['no_label'], ['no_label'], ['v'], ['no_label'], ['v'], ['no_label'], ['no_label'], ['no_label'], ['v'], ['no_label'], ['no_label'], ['+', 'q', 's', 'v'], ['no_label'], ['no_label'], ['no_label'], ['no_label'], ['no_label'], ['no_label'], ['s', 'v'], ['no_label'], ['no_label'], ['no_label'], ['+', 's', 'v'], ['no_label'], ['no_label'], ['no_label'], ['v'], ['+', 'v'], ['no_label'], ['no_label'], ['no_label'], ['no_label'], ['no_label'], ['no_label'], ['v'], ['no_label'], ['no_label'], ['no_label'], ['no_label'], ['no_label'], ['no_label'], ['I'], ['no_label'], ['no_label'], ['no_label'], ['no_label'], ['no_label'], ['no_label'], ['no_label'], ['no_label'], ['no_label'], ['no_label'], ['v'], ['no_label'], ['no_label'], ['no_label'], ['no_label'], ['no_label'], ['no_label'], ['no_label'], ['no_label'], ['v'], ['no_label'], ['no_label'], ['no_label'], ['no_label'], ['no_label'], ['no_label'], ['v'], ['no_label'], ['v'], ['no_label'], ['H'], ['no_label'], ['no_label'], ['H'], ['no_label'], ['H'], ['no_label'], ['no_label'], ['+', 's', 'v'], ['v'], ['no_label'], ['no_label'], ['no_label'], ['no_label'], ['no_label'], ['no_label'], ['no_label'], ['no_label'], ['+', 'v'], ['no_label'], ['no_label'], ['no_label'], ['no_label'], ['no_label'], ['no_label'], ['no_label'], ['+', 'v'], ['v'], ['v'], ['no_label'], ['no_label'], ['I'], ['+', 's', 'v'], ['no_label'], ['no_label'], ['+', 's', 'v'], ['no_label'], ['no_label'], ['no_label'], ['no_label'], ['v'], ['+', 's', 'v'], ['no_label'], ['no_label'], ['no_label'], ['+', 's', 'v'], ['+', 'q', 'v'], ['no_label'], ['no_label'], ['v'], ['v'], ['no_label'], ['+', 'v'], ['I'], ['no_label'], ['+', 'q', 's', 'v'], ['no_label'], ['no_label'], ['no_label'], ['s', 'v'], ['no_label'], ['no_label'], ['I'], ['v'], ['no_label'], ['no_label'], ['+', 'v'], ['no_label'], ['no_label'], ['+', 's', 'v'], ['no_label'], ['H'], ['+', 's', 'v'], ['no_label'], ['H'], ['no_label'], ['+', 'q', 's', 'v'], ['no_label'], ['no_label'], ['+', 's', 'v'], ['no_label'], ['+', 's', 'v'], ['no_label'], ['no_label'], ['+', 's', 'v'], ['no_label'], ['no_label'], ['no_label'], ['no_label'], ['no_label'], ['+', 's', 'v'], ['no_label'], ['+', 's', 'v'], ['no_label'], ['no_label'], ['no_label'], ['no_label'], ['no_label'], ['no_label'], ['no_label'], ['no_label'], ['no_label'], ['+', 'q', 's', 'v'], ['no_label'], ['no_label'], ['no_label'], ['no_label'], ['no_label'], ['s', 'v'], ['no_label'], ['no_label'], ['v'], ['no_label'], ['no_label'], ['no_label'], ['no_label'], ['no_label'], ['no_label'], ['+', 's', 'v'], ['+', 's', 'v'], ['no_label'], ['no_label'], ['v'], ['no_label'], ['no_label'], ['no_label'], ['no_label'], ['no_label'], ['+', 'v'], ['no_label'], ['no_label'], ['no_label'], ['no_label'], ['H'], ['H'], ['+', 'q', 's', 'v'], ['v'], ['no_label'], ['no_label'], ['no_label'], ['+', 's', 'v'], ['no_label'], ['no_label'], ['+', 's', 'v'], ['+', 'q', 's', 'v'], ['no_label'], ['no_label'], ['v'], ['no_label'], ['no_label'], ['no_label'], ['no_label'], ['no_label'], ['no_label'], ['no_label'], ['no_label'], ['v'], ['H'], ['+', 'q', 'v'], ['H'], ['no_label'], ['no_label'], ['no_label'], ['no_label'], ['+', 's', 'v'], ['no_label'], ['no_label'], ['+', 's', 'v'], ['+', 's', 'v'], ['no_label'], ['no_label'], ['+', 'v'], ['no_label'], ['no_label'], ['no_label'], ['no_label'], ['no_label'], ['no_label'], ['+', 's', 'v'], ['no_label'], ['no_label'], ['+', 's', 'v'], ['no_label'], ['no_label'], ['no_label'], ['v'], ['no_label'], ['+', 's', 'v'], ['no_label'], ['no_label'], ['no_label'], ['no_label'], ['v'], ['no_label'], ['no_label'], ['+', 's', 'v'], ['v'], ['v'], ['no_label'], ['no_label'], ['no_label'], ['v'], ['no_label'], ['no_label'], ['no_label'], ['no_label'], ['no_label'], ['v'], ['no_label'], ['no_label'], ['+', 's', 'v'], ['no_label'], ['no_label'], ['no_label'], ['+', 's', 'v'], ['no_label'], ['H', 's', 'v'], ['no_label'], ['no_label'], ['no_label'], ['no_label'], ['+', 's', 'v'], ['no_label'], ['no_label'], ['+', 's', 'v'], ['no_label'], ['no_label'], ['+', 'q', 's', 'v'], ['no_label'], ['no_label'], ['no_label'], ['no_label'], ['v'], ['+', 's', 'v'], ['v'], ['no_label'], ['no_label'], ['no_label'], ['no_label'], ['H'], ['no_label'], ['no_label'], ['no_label'], ['+', 's', 'v'], ['+', 's', 'v'], ['no_label'], ['no_label'], ['no_label'], ['+', 's', 'v'], ['no_label'], ['no_label'], ['H'], ['no_label'], ['no_label'], ['+', 's', 'v'], ['H'], ['no_label'], ['+', 'v'], ['no_label'], ['no_label'], ['no_label'], ['no_label'], ['no_label'], ['no_label'], ['no_label'], ['+', 's', 'v'], ['+', 'v'], ['H'], ['+', 's', 'v'], ['no_label'], ['no_label'], ['no_label'], ['no_label'], ['no_label'], ['no_label'], ['+', 's', 'v'], ['I'], ['no_label'], ['+', 's', 'v'], ['+', 's', 'v'], ['no_label'], ['no_label'], ['no_label'], ['no_label'], ['v'], ['no_label'], ['no_label'], ['+', 'v'], ['+', 'q', 's', 'v'], ['no_label'], ['no_label'], ['no_label'], ['no_label'], ['no_label'], ['no_label'], ['+', 'v'], ['no_label'], ['no_label'], ['no_label'], ['no_label'], ['s', 'v'], ['no_label'], ['+', 's', 'v'], ['+', 's', 'v'], ['no_label'], ['no_label'], ['no_label'], ['+', 's', 'v'], ['no_label'], ['no_label'], ['v'], ['no_label'], ['no_label'], ['no_label'], ['no_label'], ['no_label'], ['no_label'], ['no_label'], ['no_label'], ['no_label'], ['no_label'], ['s', 'v'], ['no_label'], ['no_label'], ['+', 's', 'v'], ['no_label'], ['no_label'], ['no_label'], ['+', 's', 'v'], ['no_label'], ['no_label'], ['no_label'], ['no_label'], ['no_label'], ['no_label'], ['no_label'], ['no_label'], ['no_label'], ['no_label'], ['no_label'], ['no_label'], ['no_label'], ['no_label'], ['no_label'], ['no_label'], ['no_label'], ['no_label'], ['no_label'], ['no_label'], ['no_label'], ['H'], ['no_label'], ['no_label'], ['no_label'], ['no_label'], ['no_label'], ['no_label'], ['no_label'], ['no_label'], ['v'], ['no_label'], ['no_label'], ['v'], ['+', 's', 'v'], ['no_label'], ['no_label'], ['no_label'], ['no_label'], ['no_label'], ['no_label'], ['no_label'], ['no_label'], ['no_label'], ['v'], ['no_label'], ['+', 's', 'v'], ['no_label'], ['no_label'], ['no_label'], ['no_label'], ['+', 's', 'v'], ['no_label'], ['+', 's', 'v'], ['no_label'], ['no_label'], ['no_label'], ['no_label'], ['no_label'], ['no_label'], ['no_label'], ['+', 's', 'v'], ['no_label'], ['no_label'], ['no_label'], ['no_label'], ['no_label'], ['no_label'], ['no_label'], ['H'], ['+', 's', 'v'], ['no_label'], ['no_label'], ['no_label'], ['no_label'], ['no_label'], ['no_label'], ['no_label'], ['v'], ['no_label'], ['no_label'], ['no_label'], ['no_label'], ['no_label'], ['v'], ['no_label'], ['no_label'], ['v'], ['v'], ['no_label'], ['no_label'], ['v'], ['no_label'], ['no_label'], ['no_label'], ['+', 's', 'v'], ['+', 'q', 's', 'v'], ['no_label'], ['no_label'], ['no_label'], ['no_label'], ['no_label'], ['no_label'], ['no_label'], ['no_label'], ['H'], ['no_label'], ['no_label'], ['no_label'], ['no_label'], ['no_label'], ['s', 'v'], ['no_label'], ['no_label'], ['no_label'], ['no_label'], ['no_label'], ['no_label'], ['no_label'], ['no_label'], ['no_label'], ['no_label'], ['+', 'q', 's', 'v'], ['v'], ['no_label'], ['v'], ['no_label'], ['no_label'], ['no_label'], ['no_label'], ['no_label'], ['v'], ['no_label'], ['v'], ['+', 's', 'v'], ['no_label'], ['no_label'], ['no_label'], ['v'], ['no_label'], ['+', 's', 'v'], ['no_label'], ['no_label'], ['no_label'], ['no_label'], ['+', 's', 'v'], ['no_label'], ['no_label'], ['+', 'v'], ['+', 'q', 's', 'v'], ['no_label'], ['no_label'], ['+', 's', 'v'], ['H'], ['no_label'], ['no_label'], ['no_label'], ['+', 'v'], ['+', 's', 'v'], ['no_label'], ['+', 's', 'v'], ['H'], ['+', 'q', 's', 'v'], ['no_label'], ['no_label'], ['no_label'], ['+', 'q', 's', 'v'], ['no_label'], ['no_label'], ['no_label'], ['no_label'], ['no_label'], ['no_label'], ['no_label'], ['no_label'], ['no_label'], ['no_label'], ['no_label'], ['H'], ['no_label'], ['H'], ['no_label'], ['no_label'], ['no_label'], ['no_label'], ['no_label'], ['no_label'], ['no_label'], ['no_label'], ['v'], ['I'], ['no_label'], ['no_label'], ['no_label'], ['no_label'], ['no_label'], ['+', 'v'], ['no_label'], ['no_label'], ['no_label'], ['+', 's', 'v'], ['no_label'], ['no_label'], ['no_label'], ['no_label'], ['no_label'], ['no_label'], ['no_label'], ['v'], ['v'], ['no_label'], ['no_label'], ['no_label'], ['no_label'], ['no_label'], ['no_label'], ['no_label'], ['+', 'q', 's', 'v'], ['v'], ['no_label'], ['v'], ['no_label'], ['no_label'], ['no_label'], ['+', 's', 'v'], ['+', 'v'], ['+', 's', 'v'], ['no_label'], ['no_label'], ['v'], ['+', 's', 'v'], ['no_label'], ['v'], ['no_label'], ['no_label'], ['v'], ['no_label'], ['no_label'], ['v'], ['no_label'], ['+', 's', 'v'], ['no_label'], ['no_label'], ['v'], ['+', 'q', 's', 'v'], ['no_label'], ['no_label'], ['no_label'], ['no_label'], ['no_label'], ['no_label'], ['+', 's', 'v'], ['no_label'], ['no_label'], ['no_label'], ['+', 'v'], ['no_label'], ['v'], ['+', 'q', 's', 'v'], ['no_label'], ['no_label'], ['no_label'], ['no_label'], ['no_label'], ['s', 'v'], ['+', 's', 'v'], ['no_label'], ['no_label'], ['no_label'], ['v'], ['no_label'], ['no_label'], ['no_label'], ['no_label'], ['no_label'], ['no_label'], ['no_label'], ['no_label'], ['+', 's', 'v'], ['+', 's', 'v'], ['no_label'], ['no_label'], ['+', 's', 'v'], ['no_label'], ['no_label'], ['no_label'], ['v'], ['+', 's', 'v'], ['no_label'], ['no_label'], ['+', 's', 'v'], ['+', 'q', 's', 'v'], ['s', 'v'], ['no_label'], ['no_label'], ['no_label'], ['no_label'], ['no_label'], ['no_label'], ['+', 's', 'v'], ['no_label'], ['+', 's', 'v'], ['+', 's', 'v'], ['no_label'], ['+', 'v'], ['+', 's', 'v'], ['no_label'], ['no_label'], ['no_label'], ['+', 'v'], ['no_label'], ['no_label'], ['no_label'], ['no_label'], ['no_label'], ['no_label'], ['no_label'], ['no_label'], ['+', 's', 'v'], ['no_label'], ['no_label'], ['+', 's', 'v'], ['no_label'], ['no_label'], ['no_label'], ['no_label'], ['no_label'], ['v'], ['no_label'], ['no_label'], ['no_label'], ['no_label'], ['no_label'], ['+', 's', 'v'], ['+', 's', 'v'], ['no_label'], ['+', 's', 'v'], ['no_label'], ['no_label'], ['no_label'], ['no_label'], ['no_label'], ['+', 's', 'v'], ['no_label'], ['no_label'], ['+', 's', 'v'], ['no_label'], ['v'], ['no_label'], ['no_label'], ['no_label'], ['no_label'], ['v'], ['no_label'], ['no_label'], ['no_label'], ['no_label'], ['s', 'v'], ['no_label'], ['+', 'v'], ['no_label'], ['v'], ['no_label'], ['no_label'], ['no_label'], ['no_label'], ['v'], ['no_label'], ['+', 's', 'v'], ['no_label'], ['v'], ['+', 'v'], ['no_label'], ['no_label'], ['no_label'], ['no_label'], ['no_label'], ['no_label'], ['no_label'], ['+', 's', 'v'], ['no_label'], ['no_label'], ['I'], ['no_label'], ['no_label'], ['no_label'], ['no_label'], ['no_label'], ['no_label'], ['no_label'], ['no_label'], ['v'], ['no_label'], ['no_label'], ['no_label'], ['+', 'v'], ['no_label'], ['no_label'], ['s', 'v'], ['v'], ['no_label'], ['no_label'], ['no_label'], ['+', 's', 'v'], ['no_label'], ['no_label'], ['no_label'], ['no_label'], ['no_label'], ['v'], ['+', 's', 'v'], ['no_label'], ['no_label'], ['I'], ['no_label'], ['no_label'], ['no_label'], ['no_label'], ['no_label'], ['no_label'], ['no_label'], ['no_label'], ['no_label'], ['+', 'q', 's', 'v'], ['no_label'], ['no_label'], ['no_label'], ['+', 'q', 'v'], ['no_label'], ['no_label'], ['+', 's', 'v'], ['no_label'], ['no_label'], ['no_label'], ['no_label'], ['no_label'], ['no_label'], ['no_label'], ['no_label'], ['no_label'], ['s', 'v'], ['+', 's', 'v'], ['no_label'], ['+', 's', 'v'], ['no_label'], ['no_label'], ['v'], ['+', 's', 'v'], ['no_label'], ['no_label'], ['no_label'], ['no_label'], ['v'], ['no_label'], ['no_label'], ['no_label'], ['no_label'], ['no_label'], ['no_label'], ['v'], ['no_label'], ['no_label'], ['no_label'], ['no_label'], ['no_label'], ['no_label'], ['no_label'], ['no_label'], ['q', 's', 'v'], ['v'], ['no_label'], ['no_label'], ['no_label'], ['no_label'], ['no_label'], ['no_label'], ['no_label'], ['no_label'], ['no_label'], ['no_label'], ['no_label'], ['v'], ['no_label'], ['v'], ['no_label'], ['no_label'], ['no_label'], ['+', 's', 'v'], ['no_label'], ['no_label'], ['H'], ['v'], ['no_label'], ['no_label'], ['no_label'], ['no_label'], ['no_label'], ['no_label'], ['no_label'], ['no_label'], ['no_label'], ['no_label'], ['no_label'], ['no_label'], ['no_label'], ['+', 'v'], ['no_label'], ['no_label'], ['no_label'], ['no_label'], ['H'], ['no_label'], ['no_label'], ['v'], ['no_label'], ['+', 'q', 's', 'v'], ['v'], ['+', 's', 'v'], ['no_label'], ['no_label'], ['no_label'], ['s', 'v'], ['no_label'], ['H'], ['no_label'], ['no_label'], ['no_label'], ['no_label'], ['no_label'], ['no_label'], ['no_label'], ['no_label'], ['no_label'], ['v'], ['v'], ['+', 's', 'v'], ['no_label'], ['no_label'], ['no_label'], ['s', 'v'], ['no_label'], ['+', 's', 'v'], ['+', 's', 'v'], ['no_label'], ['no_label'], ['no_label'], ['v'], ['no_label'], ['no_label'], ['v'], ['no_label'], ['no_label'], ['no_label'], ['v'], ['+', 's', 'v'], ['no_label'], ['no_label'], ['no_label'], ['+', 's', 'v'], ['no_label'], ['v'], ['+', 'v'], ['no_label'], ['no_label'], ['no_label'], ['no_label'], ['no_label'], ['no_label'], ['no_label'], ['no_label'], ['no_label'], ['no_label'], ['no_label'], ['+', 's', 'v'], ['+', 's', 'v'], ['+', 'v'], ['no_label'], ['no_label'], ['no_label'], ['no_label'], ['+', 's', 'v'], ['+', 's', 'v'], ['no_label'], ['+', 's', 'v'], ['no_label'], ['no_label'], ['no_label'], ['no_label'], ['no_label'], ['+', 'v'], ['v'], ['+', 's', 'v'], ['H'], ['no_label'], ['no_label'], ['no_label'], ['no_label'], ['+', 'v'], ['no_label'], ['no_label'], ['I'], ['s', 'v'], ['no_label'], ['no_label'], ['+', 'v'], ['v'], ['no_label'], ['no_label'], ['+', 's', 'v'], ['s', 'v'], ['no_label'], ['no_label'], ['no_label'], ['I'], ['no_label'], ['+', 's', 'v'], ['no_label'], ['no_label'], ['no_label'], ['no_label'], ['v'], ['no_label'], ['+', 's', 'v'], ['no_label'], ['no_label'], ['no_label'], ['v'], ['no_label'], ['no_label'], ['H'], ['no_label'], ['v'], ['no_label'], ['no_label'], ['no_label'], ['no_label'], ['no_label'], ['no_label'], ['no_label'], ['no_label'], ['no_label'], ['s', 'v'], ['no_label'], ['no_label'], ['no_label'], ['v'], ['no_label'], ['no_label'], ['no_label'], ['v'], ['v'], ['no_label'], ['no_label'], ['no_label'], ['no_label'], ['no_label'], ['no_label'], ['no_label'], ['no_label'], ['v'], ['no_label'], ['no_label'], ['v'], ['no_label'], ['no_label'], ['no_label'], ['no_label'], ['no_label'], ['no_label'], ['no_label'], ['no_label'], ['no_label'], ['no_label'], ['no_label'], ['no_label'], ['+', 's', 'v'], ['no_label'], ['no_label'], ['no_label'], ['+', 's', 'v'], ['no_label'], ['no_label'], ['no_label'], ['no_label'], ['no_label'], ['no_label'], ['no_label'], ['+', 's', 'v'], ['no_label'], ['no_label'], ['no_label'], ['no_label'], ['H'], ['no_label'], ['no_label'], ['no_label'], ['no_label'], ['+', 'q', 's', 'v'], ['s', 'v'], ['no_label'], ['no_label'], ['no_label'], ['no_label'], ['no_label'], ['no_label'], ['no_label'], ['no_label'], ['no_label'], ['v']]\n",
      "\n",
      "=== DEBUG SAMPLE CHECK ===\n",
      "\n",
      "--- Sequence 0 ---\n",
      "Original label(s): ['no_label']\n",
      "Cleaned label(s): ['no_label']\n",
      "Encoded: [0 0 0 1 0 0 0]\n",
      "Feature shape: (1, 4)\n",
      "First few timesteps:\n",
      " [[0.05440368 0.03677583 0.08810496 0.7       ]]\n",
      "==========================\n",
      "\n"
     ]
    },
    {
     "data": {
      "application/vnd.jupyter.widget-view+json": {
       "model_id": "a99b2efe8dbc4a15a17d55ebccc41435",
       "version_major": 2,
       "version_minor": 0
      },
      "text/plain": [
       "Sanity Checking: |          | 0/? [00:00<?, ?it/s]"
      ]
     },
     "metadata": {},
     "output_type": "display_data"
    },
    {
     "name": "stderr",
     "output_type": "stream",
     "text": [
      "/home/iatell/envs/Rllib2.43/lib/python3.11/site-packages/pytorch_lightning/trainer/connectors/data_connector.py:425: The 'val_dataloader' does not have many workers which may be a bottleneck. Consider increasing the value of the `num_workers` argument` to `num_workers=19` in the `DataLoader` to improve performance.\n",
      "/home/iatell/envs/Rllib2.43/lib/python3.11/site-packages/pytorch_lightning/trainer/connectors/data_connector.py:425: The 'train_dataloader' does not have many workers which may be a bottleneck. Consider increasing the value of the `num_workers` argument` to `num_workers=19` in the `DataLoader` to improve performance.\n"
     ]
    },
    {
     "data": {
      "application/vnd.jupyter.widget-view+json": {
       "model_id": "a4652bd5d4984ae2a56065fa8d288032",
       "version_major": 2,
       "version_minor": 0
      },
      "text/plain": [
       "Training: |          | 0/? [00:00<?, ?it/s]"
      ]
     },
     "metadata": {},
     "output_type": "display_data"
    },
    {
     "data": {
      "application/vnd.jupyter.widget-view+json": {
       "model_id": "2c9673d4e305411b8b6ec71a96541bed",
       "version_major": 2,
       "version_minor": 0
      },
      "text/plain": [
       "Validation: |          | 0/? [00:00<?, ?it/s]"
      ]
     },
     "metadata": {},
     "output_type": "display_data"
    },
    {
     "data": {
      "application/vnd.jupyter.widget-view+json": {
       "model_id": "8057fe1fa16143d6b7aba024d418dcff",
       "version_major": 2,
       "version_minor": 0
      },
      "text/plain": [
       "Validation: |          | 0/? [00:00<?, ?it/s]"
      ]
     },
     "metadata": {},
     "output_type": "display_data"
    },
    {
     "data": {
      "application/vnd.jupyter.widget-view+json": {
       "model_id": "3b7a701d5b5441b1ac74c9159c722c93",
       "version_major": 2,
       "version_minor": 0
      },
      "text/plain": [
       "Validation: |          | 0/? [00:00<?, ?it/s]"
      ]
     },
     "metadata": {},
     "output_type": "display_data"
    },
    {
     "data": {
      "application/vnd.jupyter.widget-view+json": {
       "model_id": "57aa52985bf84d50bd4c80e47302180c",
       "version_major": 2,
       "version_minor": 0
      },
      "text/plain": [
       "Validation: |          | 0/? [00:00<?, ?it/s]"
      ]
     },
     "metadata": {},
     "output_type": "display_data"
    },
    {
     "data": {
      "application/vnd.jupyter.widget-view+json": {
       "model_id": "73eb2b4784a445b0a812c3715d055b96",
       "version_major": 2,
       "version_minor": 0
      },
      "text/plain": [
       "Validation: |          | 0/? [00:00<?, ?it/s]"
      ]
     },
     "metadata": {},
     "output_type": "display_data"
    },
    {
     "data": {
      "application/vnd.jupyter.widget-view+json": {
       "model_id": "586952c81cf5425bb2f64fbd6fc49aad",
       "version_major": 2,
       "version_minor": 0
      },
      "text/plain": [
       "Validation: |          | 0/? [00:00<?, ?it/s]"
      ]
     },
     "metadata": {},
     "output_type": "display_data"
    },
    {
     "data": {
      "application/vnd.jupyter.widget-view+json": {
       "model_id": "01e92fbfbb8e4cd486beef85fe07b3c0",
       "version_major": 2,
       "version_minor": 0
      },
      "text/plain": [
       "Validation: |          | 0/? [00:00<?, ?it/s]"
      ]
     },
     "metadata": {},
     "output_type": "display_data"
    },
    {
     "data": {
      "application/vnd.jupyter.widget-view+json": {
       "model_id": "3000217e615d48f5a19c9aea9230bb30",
       "version_major": 2,
       "version_minor": 0
      },
      "text/plain": [
       "Validation: |          | 0/? [00:00<?, ?it/s]"
      ]
     },
     "metadata": {},
     "output_type": "display_data"
    },
    {
     "data": {
      "application/vnd.jupyter.widget-view+json": {
       "model_id": "4a6839506e31459fbac0daa5c7ae0891",
       "version_major": 2,
       "version_minor": 0
      },
      "text/plain": [
       "Validation: |          | 0/? [00:00<?, ?it/s]"
      ]
     },
     "metadata": {},
     "output_type": "display_data"
    },
    {
     "data": {
      "application/vnd.jupyter.widget-view+json": {
       "model_id": "2eb1097c7da74096909f1c85d4530e17",
       "version_major": 2,
       "version_minor": 0
      },
      "text/plain": [
       "Validation: |          | 0/? [00:00<?, ?it/s]"
      ]
     },
     "metadata": {},
     "output_type": "display_data"
    },
    {
     "data": {
      "application/vnd.jupyter.widget-view+json": {
       "model_id": "98182ff922a9463fa5f50c2f026a9acb",
       "version_major": 2,
       "version_minor": 0
      },
      "text/plain": [
       "Validation: |          | 0/? [00:00<?, ?it/s]"
      ]
     },
     "metadata": {},
     "output_type": "display_data"
    },
    {
     "data": {
      "application/vnd.jupyter.widget-view+json": {
       "model_id": "1d83e552f9fe4dfea3205132c7f2142b",
       "version_major": 2,
       "version_minor": 0
      },
      "text/plain": [
       "Validation: |          | 0/? [00:00<?, ?it/s]"
      ]
     },
     "metadata": {},
     "output_type": "display_data"
    },
    {
     "data": {
      "application/vnd.jupyter.widget-view+json": {
       "model_id": "af38050879074e2681a45ba988b85a95",
       "version_major": 2,
       "version_minor": 0
      },
      "text/plain": [
       "Validation: |          | 0/? [00:00<?, ?it/s]"
      ]
     },
     "metadata": {},
     "output_type": "display_data"
    },
    {
     "data": {
      "application/vnd.jupyter.widget-view+json": {
       "model_id": "fb57fc466c6e4497972ee175a8a72baf",
       "version_major": 2,
       "version_minor": 0
      },
      "text/plain": [
       "Validation: |          | 0/? [00:00<?, ?it/s]"
      ]
     },
     "metadata": {},
     "output_type": "display_data"
    },
    {
     "data": {
      "application/vnd.jupyter.widget-view+json": {
       "model_id": "2342c37d3a6f451a99870857f99a7445",
       "version_major": 2,
       "version_minor": 0
      },
      "text/plain": [
       "Validation: |          | 0/? [00:00<?, ?it/s]"
      ]
     },
     "metadata": {},
     "output_type": "display_data"
    },
    {
     "data": {
      "application/vnd.jupyter.widget-view+json": {
       "model_id": "67751b7305da47f8a77862f373696d76",
       "version_major": 2,
       "version_minor": 0
      },
      "text/plain": [
       "Validation: |          | 0/? [00:00<?, ?it/s]"
      ]
     },
     "metadata": {},
     "output_type": "display_data"
    },
    {
     "data": {
      "application/vnd.jupyter.widget-view+json": {
       "model_id": "673621b4c15549919a92cf8a4431effe",
       "version_major": 2,
       "version_minor": 0
      },
      "text/plain": [
       "Validation: |          | 0/? [00:00<?, ?it/s]"
      ]
     },
     "metadata": {},
     "output_type": "display_data"
    },
    {
     "data": {
      "application/vnd.jupyter.widget-view+json": {
       "model_id": "e0d8b8f54f3241fd952d01096074a6c6",
       "version_major": 2,
       "version_minor": 0
      },
      "text/plain": [
       "Validation: |          | 0/? [00:00<?, ?it/s]"
      ]
     },
     "metadata": {},
     "output_type": "display_data"
    },
    {
     "data": {
      "application/vnd.jupyter.widget-view+json": {
       "model_id": "c4d5a48c09024cffb787353821387795",
       "version_major": 2,
       "version_minor": 0
      },
      "text/plain": [
       "Validation: |          | 0/? [00:00<?, ?it/s]"
      ]
     },
     "metadata": {},
     "output_type": "display_data"
    },
    {
     "data": {
      "application/vnd.jupyter.widget-view+json": {
       "model_id": "f1ff110efd4842b599afa6976fc50bc5",
       "version_major": 2,
       "version_minor": 0
      },
      "text/plain": [
       "Validation: |          | 0/? [00:00<?, ?it/s]"
      ]
     },
     "metadata": {},
     "output_type": "display_data"
    },
    {
     "data": {
      "application/vnd.jupyter.widget-view+json": {
       "model_id": "24c9a79ad8cf4bc1be63f4d4e2591c63",
       "version_major": 2,
       "version_minor": 0
      },
      "text/plain": [
       "Validation: |          | 0/? [00:00<?, ?it/s]"
      ]
     },
     "metadata": {},
     "output_type": "display_data"
    },
    {
     "data": {
      "application/vnd.jupyter.widget-view+json": {
       "model_id": "a85c619fb7cc4c40be0cb44f3aa4904e",
       "version_major": 2,
       "version_minor": 0
      },
      "text/plain": [
       "Validation: |          | 0/? [00:00<?, ?it/s]"
      ]
     },
     "metadata": {},
     "output_type": "display_data"
    },
    {
     "data": {
      "application/vnd.jupyter.widget-view+json": {
       "model_id": "78994ba35f3640dcb819f482b14194c3",
       "version_major": 2,
       "version_minor": 0
      },
      "text/plain": [
       "Validation: |          | 0/? [00:00<?, ?it/s]"
      ]
     },
     "metadata": {},
     "output_type": "display_data"
    },
    {
     "data": {
      "application/vnd.jupyter.widget-view+json": {
       "model_id": "8b38ca8224b84c7f9db9d9c73a273342",
       "version_major": 2,
       "version_minor": 0
      },
      "text/plain": [
       "Validation: |          | 0/? [00:00<?, ?it/s]"
      ]
     },
     "metadata": {},
     "output_type": "display_data"
    },
    {
     "data": {
      "application/vnd.jupyter.widget-view+json": {
       "model_id": "1c5d84179d61469cb104ed23a4217d50",
       "version_major": 2,
       "version_minor": 0
      },
      "text/plain": [
       "Validation: |          | 0/? [00:00<?, ?it/s]"
      ]
     },
     "metadata": {},
     "output_type": "display_data"
    },
    {
     "data": {
      "application/vnd.jupyter.widget-view+json": {
       "model_id": "fd48fd78ca8a478fb83d7a1eaccd06bf",
       "version_major": 2,
       "version_minor": 0
      },
      "text/plain": [
       "Validation: |          | 0/? [00:00<?, ?it/s]"
      ]
     },
     "metadata": {},
     "output_type": "display_data"
    },
    {
     "data": {
      "application/vnd.jupyter.widget-view+json": {
       "model_id": "108db71f531a4a22a93a6d9a954630e1",
       "version_major": 2,
       "version_minor": 0
      },
      "text/plain": [
       "Validation: |          | 0/? [00:00<?, ?it/s]"
      ]
     },
     "metadata": {},
     "output_type": "display_data"
    },
    {
     "data": {
      "application/vnd.jupyter.widget-view+json": {
       "model_id": "2a776ac4fbfb44c9be2fbfc5f83feec7",
       "version_major": 2,
       "version_minor": 0
      },
      "text/plain": [
       "Validation: |          | 0/? [00:00<?, ?it/s]"
      ]
     },
     "metadata": {},
     "output_type": "display_data"
    },
    {
     "data": {
      "application/vnd.jupyter.widget-view+json": {
       "model_id": "67491b9a5e3e4c58a6365455675c74e1",
       "version_major": 2,
       "version_minor": 0
      },
      "text/plain": [
       "Validation: |          | 0/? [00:00<?, ?it/s]"
      ]
     },
     "metadata": {},
     "output_type": "display_data"
    },
    {
     "data": {
      "application/vnd.jupyter.widget-view+json": {
       "model_id": "174331eedb834bb9a41e6e7c29b6ae45",
       "version_major": 2,
       "version_minor": 0
      },
      "text/plain": [
       "Validation: |          | 0/? [00:00<?, ?it/s]"
      ]
     },
     "metadata": {},
     "output_type": "display_data"
    },
    {
     "data": {
      "application/vnd.jupyter.widget-view+json": {
       "model_id": "8a1838944c264235bde980d1af0c1273",
       "version_major": 2,
       "version_minor": 0
      },
      "text/plain": [
       "Validation: |          | 0/? [00:00<?, ?it/s]"
      ]
     },
     "metadata": {},
     "output_type": "display_data"
    },
    {
     "data": {
      "application/vnd.jupyter.widget-view+json": {
       "model_id": "dc3475dc03624a689f8d46ebd349df69",
       "version_major": 2,
       "version_minor": 0
      },
      "text/plain": [
       "Validation: |          | 0/? [00:00<?, ?it/s]"
      ]
     },
     "metadata": {},
     "output_type": "display_data"
    },
    {
     "data": {
      "application/vnd.jupyter.widget-view+json": {
       "model_id": "677a03f75b004de5b2cec1a0e1ed8fc1",
       "version_major": 2,
       "version_minor": 0
      },
      "text/plain": [
       "Validation: |          | 0/? [00:00<?, ?it/s]"
      ]
     },
     "metadata": {},
     "output_type": "display_data"
    },
    {
     "data": {
      "application/vnd.jupyter.widget-view+json": {
       "model_id": "1580898d12024f538c589b5b8fb5e3af",
       "version_major": 2,
       "version_minor": 0
      },
      "text/plain": [
       "Validation: |          | 0/? [00:00<?, ?it/s]"
      ]
     },
     "metadata": {},
     "output_type": "display_data"
    },
    {
     "data": {
      "application/vnd.jupyter.widget-view+json": {
       "model_id": "d87573acee3c4ed383aead2290d910df",
       "version_major": 2,
       "version_minor": 0
      },
      "text/plain": [
       "Validation: |          | 0/? [00:00<?, ?it/s]"
      ]
     },
     "metadata": {},
     "output_type": "display_data"
    },
    {
     "data": {
      "application/vnd.jupyter.widget-view+json": {
       "model_id": "69861b56395c4394b25f6128641bf2be",
       "version_major": 2,
       "version_minor": 0
      },
      "text/plain": [
       "Validation: |          | 0/? [00:00<?, ?it/s]"
      ]
     },
     "metadata": {},
     "output_type": "display_data"
    },
    {
     "data": {
      "application/vnd.jupyter.widget-view+json": {
       "model_id": "44d6790fc7df4972b532b22357670523",
       "version_major": 2,
       "version_minor": 0
      },
      "text/plain": [
       "Validation: |          | 0/? [00:00<?, ?it/s]"
      ]
     },
     "metadata": {},
     "output_type": "display_data"
    },
    {
     "data": {
      "application/vnd.jupyter.widget-view+json": {
       "model_id": "0ef98a2273cb476f907b8e5d7d6577cc",
       "version_major": 2,
       "version_minor": 0
      },
      "text/plain": [
       "Validation: |          | 0/? [00:00<?, ?it/s]"
      ]
     },
     "metadata": {},
     "output_type": "display_data"
    },
    {
     "data": {
      "application/vnd.jupyter.widget-view+json": {
       "model_id": "a9bae8aadce0450aad358aadcf887cac",
       "version_major": 2,
       "version_minor": 0
      },
      "text/plain": [
       "Validation: |          | 0/? [00:00<?, ?it/s]"
      ]
     },
     "metadata": {},
     "output_type": "display_data"
    },
    {
     "data": {
      "application/vnd.jupyter.widget-view+json": {
       "model_id": "88182c19caae49cca1b6f6b21273be3b",
       "version_major": 2,
       "version_minor": 0
      },
      "text/plain": [
       "Validation: |          | 0/? [00:00<?, ?it/s]"
      ]
     },
     "metadata": {},
     "output_type": "display_data"
    },
    {
     "data": {
      "application/vnd.jupyter.widget-view+json": {
       "model_id": "0281a6a7c307406cb76ee6174c2e66b4",
       "version_major": 2,
       "version_minor": 0
      },
      "text/plain": [
       "Validation: |          | 0/? [00:00<?, ?it/s]"
      ]
     },
     "metadata": {},
     "output_type": "display_data"
    },
    {
     "data": {
      "application/vnd.jupyter.widget-view+json": {
       "model_id": "9cd81bc1f24345b38ebba8d4a86f157a",
       "version_major": 2,
       "version_minor": 0
      },
      "text/plain": [
       "Validation: |          | 0/? [00:00<?, ?it/s]"
      ]
     },
     "metadata": {},
     "output_type": "display_data"
    },
    {
     "data": {
      "application/vnd.jupyter.widget-view+json": {
       "model_id": "e46f2841cb134382a5e82fe786094fab",
       "version_major": 2,
       "version_minor": 0
      },
      "text/plain": [
       "Validation: |          | 0/? [00:00<?, ?it/s]"
      ]
     },
     "metadata": {},
     "output_type": "display_data"
    },
    {
     "data": {
      "application/vnd.jupyter.widget-view+json": {
       "model_id": "30524f5d7be04ecfa983c105ca75914b",
       "version_major": 2,
       "version_minor": 0
      },
      "text/plain": [
       "Validation: |          | 0/? [00:00<?, ?it/s]"
      ]
     },
     "metadata": {},
     "output_type": "display_data"
    },
    {
     "data": {
      "application/vnd.jupyter.widget-view+json": {
       "model_id": "c278418fa8ac4027977ae205cc35dc09",
       "version_major": 2,
       "version_minor": 0
      },
      "text/plain": [
       "Validation: |          | 0/? [00:00<?, ?it/s]"
      ]
     },
     "metadata": {},
     "output_type": "display_data"
    },
    {
     "data": {
      "application/vnd.jupyter.widget-view+json": {
       "model_id": "7421ac74f08545d6b3f1736e5e834171",
       "version_major": 2,
       "version_minor": 0
      },
      "text/plain": [
       "Validation: |          | 0/? [00:00<?, ?it/s]"
      ]
     },
     "metadata": {},
     "output_type": "display_data"
    },
    {
     "data": {
      "application/vnd.jupyter.widget-view+json": {
       "model_id": "55a3778b8f6443a5aa6517fb284dacae",
       "version_major": 2,
       "version_minor": 0
      },
      "text/plain": [
       "Validation: |          | 0/? [00:00<?, ?it/s]"
      ]
     },
     "metadata": {},
     "output_type": "display_data"
    },
    {
     "data": {
      "application/vnd.jupyter.widget-view+json": {
       "model_id": "989cc0fb9cd04e1fa092637b1c07d432",
       "version_major": 2,
       "version_minor": 0
      },
      "text/plain": [
       "Validation: |          | 0/? [00:00<?, ?it/s]"
      ]
     },
     "metadata": {},
     "output_type": "display_data"
    },
    {
     "data": {
      "application/vnd.jupyter.widget-view+json": {
       "model_id": "1ad092918a2040fea1ef437415b8654e",
       "version_major": 2,
       "version_minor": 0
      },
      "text/plain": [
       "Validation: |          | 0/? [00:00<?, ?it/s]"
      ]
     },
     "metadata": {},
     "output_type": "display_data"
    },
    {
     "data": {
      "application/vnd.jupyter.widget-view+json": {
       "model_id": "3aea37a6fc3d4e29adf2487be922ec3f",
       "version_major": 2,
       "version_minor": 0
      },
      "text/plain": [
       "Validation: |          | 0/? [00:00<?, ?it/s]"
      ]
     },
     "metadata": {},
     "output_type": "display_data"
    },
    {
     "data": {
      "application/vnd.jupyter.widget-view+json": {
       "model_id": "c6c4480605584081a17a35c5463a4953",
       "version_major": 2,
       "version_minor": 0
      },
      "text/plain": [
       "Validation: |          | 0/? [00:00<?, ?it/s]"
      ]
     },
     "metadata": {},
     "output_type": "display_data"
    },
    {
     "data": {
      "application/vnd.jupyter.widget-view+json": {
       "model_id": "86ee2463bc70441b932622db459951b2",
       "version_major": 2,
       "version_minor": 0
      },
      "text/plain": [
       "Validation: |          | 0/? [00:00<?, ?it/s]"
      ]
     },
     "metadata": {},
     "output_type": "display_data"
    },
    {
     "data": {
      "application/vnd.jupyter.widget-view+json": {
       "model_id": "b8bc79812d214078b97e6415d3649898",
       "version_major": 2,
       "version_minor": 0
      },
      "text/plain": [
       "Validation: |          | 0/? [00:00<?, ?it/s]"
      ]
     },
     "metadata": {},
     "output_type": "display_data"
    },
    {
     "data": {
      "application/vnd.jupyter.widget-view+json": {
       "model_id": "a5a720587445454d972c9419916bd183",
       "version_major": 2,
       "version_minor": 0
      },
      "text/plain": [
       "Validation: |          | 0/? [00:00<?, ?it/s]"
      ]
     },
     "metadata": {},
     "output_type": "display_data"
    },
    {
     "data": {
      "application/vnd.jupyter.widget-view+json": {
       "model_id": "b3a3d7a3439c4ab08af3c3429f32f711",
       "version_major": 2,
       "version_minor": 0
      },
      "text/plain": [
       "Validation: |          | 0/? [00:00<?, ?it/s]"
      ]
     },
     "metadata": {},
     "output_type": "display_data"
    },
    {
     "data": {
      "application/vnd.jupyter.widget-view+json": {
       "model_id": "843f38abdff0412ca25a312941c3f6e8",
       "version_major": 2,
       "version_minor": 0
      },
      "text/plain": [
       "Validation: |          | 0/? [00:00<?, ?it/s]"
      ]
     },
     "metadata": {},
     "output_type": "display_data"
    },
    {
     "data": {
      "application/vnd.jupyter.widget-view+json": {
       "model_id": "a713d6309fce44b9ae332e52efe07bae",
       "version_major": 2,
       "version_minor": 0
      },
      "text/plain": [
       "Validation: |          | 0/? [00:00<?, ?it/s]"
      ]
     },
     "metadata": {},
     "output_type": "display_data"
    },
    {
     "data": {
      "application/vnd.jupyter.widget-view+json": {
       "model_id": "b79412f98fb847bfa85ca7e9adaa9ea0",
       "version_major": 2,
       "version_minor": 0
      },
      "text/plain": [
       "Validation: |          | 0/? [00:00<?, ?it/s]"
      ]
     },
     "metadata": {},
     "output_type": "display_data"
    },
    {
     "data": {
      "application/vnd.jupyter.widget-view+json": {
       "model_id": "2d079c592b544620aced20089d763502",
       "version_major": 2,
       "version_minor": 0
      },
      "text/plain": [
       "Validation: |          | 0/? [00:00<?, ?it/s]"
      ]
     },
     "metadata": {},
     "output_type": "display_data"
    },
    {
     "data": {
      "application/vnd.jupyter.widget-view+json": {
       "model_id": "a97b068fa33c481e829f0a18025ad9f7",
       "version_major": 2,
       "version_minor": 0
      },
      "text/plain": [
       "Validation: |          | 0/? [00:00<?, ?it/s]"
      ]
     },
     "metadata": {},
     "output_type": "display_data"
    },
    {
     "data": {
      "application/vnd.jupyter.widget-view+json": {
       "model_id": "f486dc3970e34ae1af7ee5bda8666bb5",
       "version_major": 2,
       "version_minor": 0
      },
      "text/plain": [
       "Validation: |          | 0/? [00:00<?, ?it/s]"
      ]
     },
     "metadata": {},
     "output_type": "display_data"
    },
    {
     "data": {
      "application/vnd.jupyter.widget-view+json": {
       "model_id": "ee4fbe08dbe340a5afd31d6b684c1376",
       "version_major": 2,
       "version_minor": 0
      },
      "text/plain": [
       "Validation: |          | 0/? [00:00<?, ?it/s]"
      ]
     },
     "metadata": {},
     "output_type": "display_data"
    },
    {
     "data": {
      "application/vnd.jupyter.widget-view+json": {
       "model_id": "6ebdf0722ddd408d8a9d572fb208c055",
       "version_major": 2,
       "version_minor": 0
      },
      "text/plain": [
       "Validation: |          | 0/? [00:00<?, ?it/s]"
      ]
     },
     "metadata": {},
     "output_type": "display_data"
    },
    {
     "data": {
      "application/vnd.jupyter.widget-view+json": {
       "model_id": "f3298a15fbb5434e88eaaeb8f5002640",
       "version_major": 2,
       "version_minor": 0
      },
      "text/plain": [
       "Validation: |          | 0/? [00:00<?, ?it/s]"
      ]
     },
     "metadata": {},
     "output_type": "display_data"
    },
    {
     "data": {
      "application/vnd.jupyter.widget-view+json": {
       "model_id": "d2296876da9749af83d215c2c89aeed1",
       "version_major": 2,
       "version_minor": 0
      },
      "text/plain": [
       "Validation: |          | 0/? [00:00<?, ?it/s]"
      ]
     },
     "metadata": {},
     "output_type": "display_data"
    },
    {
     "data": {
      "application/vnd.jupyter.widget-view+json": {
       "model_id": "8534235d9f93482f976d71740aa64344",
       "version_major": 2,
       "version_minor": 0
      },
      "text/plain": [
       "Validation: |          | 0/? [00:00<?, ?it/s]"
      ]
     },
     "metadata": {},
     "output_type": "display_data"
    },
    {
     "data": {
      "application/vnd.jupyter.widget-view+json": {
       "model_id": "c45ad76f501240b58cd0f4f159e9c4de",
       "version_major": 2,
       "version_minor": 0
      },
      "text/plain": [
       "Validation: |          | 0/? [00:00<?, ?it/s]"
      ]
     },
     "metadata": {},
     "output_type": "display_data"
    },
    {
     "data": {
      "application/vnd.jupyter.widget-view+json": {
       "model_id": "b4560f2228e340c7822cebaa25dc5e09",
       "version_major": 2,
       "version_minor": 0
      },
      "text/plain": [
       "Validation: |          | 0/? [00:00<?, ?it/s]"
      ]
     },
     "metadata": {},
     "output_type": "display_data"
    },
    {
     "data": {
      "application/vnd.jupyter.widget-view+json": {
       "model_id": "815f155718df45c6bb59d1db60d1c40c",
       "version_major": 2,
       "version_minor": 0
      },
      "text/plain": [
       "Validation: |          | 0/? [00:00<?, ?it/s]"
      ]
     },
     "metadata": {},
     "output_type": "display_data"
    },
    {
     "data": {
      "application/vnd.jupyter.widget-view+json": {
       "model_id": "8f9011fd4c61492fa9751eefa93375b9",
       "version_major": 2,
       "version_minor": 0
      },
      "text/plain": [
       "Validation: |          | 0/? [00:00<?, ?it/s]"
      ]
     },
     "metadata": {},
     "output_type": "display_data"
    },
    {
     "data": {
      "application/vnd.jupyter.widget-view+json": {
       "model_id": "4d246b77fd554e95ac3d1c4293386760",
       "version_major": 2,
       "version_minor": 0
      },
      "text/plain": [
       "Validation: |          | 0/? [00:00<?, ?it/s]"
      ]
     },
     "metadata": {},
     "output_type": "display_data"
    },
    {
     "data": {
      "application/vnd.jupyter.widget-view+json": {
       "model_id": "89f8e6e0c90b4f33bca3cca051e94e7f",
       "version_major": 2,
       "version_minor": 0
      },
      "text/plain": [
       "Validation: |          | 0/? [00:00<?, ?it/s]"
      ]
     },
     "metadata": {},
     "output_type": "display_data"
    },
    {
     "data": {
      "application/vnd.jupyter.widget-view+json": {
       "model_id": "c16fb68c9d97464e86e9bcc1e2e68c6a",
       "version_major": 2,
       "version_minor": 0
      },
      "text/plain": [
       "Validation: |          | 0/? [00:00<?, ?it/s]"
      ]
     },
     "metadata": {},
     "output_type": "display_data"
    },
    {
     "data": {
      "application/vnd.jupyter.widget-view+json": {
       "model_id": "4ff89cd9607a4e8d886f4b801501e212",
       "version_major": 2,
       "version_minor": 0
      },
      "text/plain": [
       "Validation: |          | 0/? [00:00<?, ?it/s]"
      ]
     },
     "metadata": {},
     "output_type": "display_data"
    },
    {
     "data": {
      "application/vnd.jupyter.widget-view+json": {
       "model_id": "b4476044d6184dddb32d45950deb5db7",
       "version_major": 2,
       "version_minor": 0
      },
      "text/plain": [
       "Validation: |          | 0/? [00:00<?, ?it/s]"
      ]
     },
     "metadata": {},
     "output_type": "display_data"
    },
    {
     "data": {
      "application/vnd.jupyter.widget-view+json": {
       "model_id": "249dd0c8d3a2402b8acc49618a42e6ac",
       "version_major": 2,
       "version_minor": 0
      },
      "text/plain": [
       "Validation: |          | 0/? [00:00<?, ?it/s]"
      ]
     },
     "metadata": {},
     "output_type": "display_data"
    },
    {
     "data": {
      "application/vnd.jupyter.widget-view+json": {
       "model_id": "e5d316e091c945ac969698760b24dfac",
       "version_major": 2,
       "version_minor": 0
      },
      "text/plain": [
       "Validation: |          | 0/? [00:00<?, ?it/s]"
      ]
     },
     "metadata": {},
     "output_type": "display_data"
    },
    {
     "data": {
      "application/vnd.jupyter.widget-view+json": {
       "model_id": "74ccc24e077a4957a0a42b8502b3e5a9",
       "version_major": 2,
       "version_minor": 0
      },
      "text/plain": [
       "Validation: |          | 0/? [00:00<?, ?it/s]"
      ]
     },
     "metadata": {},
     "output_type": "display_data"
    },
    {
     "data": {
      "application/vnd.jupyter.widget-view+json": {
       "model_id": "889a7eea576843f1b85c94255bd579e6",
       "version_major": 2,
       "version_minor": 0
      },
      "text/plain": [
       "Validation: |          | 0/? [00:00<?, ?it/s]"
      ]
     },
     "metadata": {},
     "output_type": "display_data"
    },
    {
     "data": {
      "application/vnd.jupyter.widget-view+json": {
       "model_id": "66ef30e7852f4233ac360b686ed49cf0",
       "version_major": 2,
       "version_minor": 0
      },
      "text/plain": [
       "Validation: |          | 0/? [00:00<?, ?it/s]"
      ]
     },
     "metadata": {},
     "output_type": "display_data"
    },
    {
     "data": {
      "application/vnd.jupyter.widget-view+json": {
       "model_id": "b3002c382adb4f0a8c53dc54d2e95fbb",
       "version_major": 2,
       "version_minor": 0
      },
      "text/plain": [
       "Validation: |          | 0/? [00:00<?, ?it/s]"
      ]
     },
     "metadata": {},
     "output_type": "display_data"
    },
    {
     "data": {
      "application/vnd.jupyter.widget-view+json": {
       "model_id": "29b8cbc5dc844e26b4475a50dd1448f5",
       "version_major": 2,
       "version_minor": 0
      },
      "text/plain": [
       "Validation: |          | 0/? [00:00<?, ?it/s]"
      ]
     },
     "metadata": {},
     "output_type": "display_data"
    },
    {
     "data": {
      "application/vnd.jupyter.widget-view+json": {
       "model_id": "c78c7aacfbbb46fabf482462104c7951",
       "version_major": 2,
       "version_minor": 0
      },
      "text/plain": [
       "Validation: |          | 0/? [00:00<?, ?it/s]"
      ]
     },
     "metadata": {},
     "output_type": "display_data"
    },
    {
     "data": {
      "application/vnd.jupyter.widget-view+json": {
       "model_id": "909781bd9c954ee9a35fe5cb59bf0fc0",
       "version_major": 2,
       "version_minor": 0
      },
      "text/plain": [
       "Validation: |          | 0/? [00:00<?, ?it/s]"
      ]
     },
     "metadata": {},
     "output_type": "display_data"
    },
    {
     "data": {
      "application/vnd.jupyter.widget-view+json": {
       "model_id": "da024c2592494b3bad7460924c3fa301",
       "version_major": 2,
       "version_minor": 0
      },
      "text/plain": [
       "Validation: |          | 0/? [00:00<?, ?it/s]"
      ]
     },
     "metadata": {},
     "output_type": "display_data"
    },
    {
     "data": {
      "application/vnd.jupyter.widget-view+json": {
       "model_id": "0ac44377f4b54ee992402d4f3488e649",
       "version_major": 2,
       "version_minor": 0
      },
      "text/plain": [
       "Validation: |          | 0/? [00:00<?, ?it/s]"
      ]
     },
     "metadata": {},
     "output_type": "display_data"
    },
    {
     "data": {
      "application/vnd.jupyter.widget-view+json": {
       "model_id": "43f38977700c47e582b717a2e7d90e49",
       "version_major": 2,
       "version_minor": 0
      },
      "text/plain": [
       "Validation: |          | 0/? [00:00<?, ?it/s]"
      ]
     },
     "metadata": {},
     "output_type": "display_data"
    },
    {
     "data": {
      "application/vnd.jupyter.widget-view+json": {
       "model_id": "8303f32763ab471ba69877a29d038534",
       "version_major": 2,
       "version_minor": 0
      },
      "text/plain": [
       "Validation: |          | 0/? [00:00<?, ?it/s]"
      ]
     },
     "metadata": {},
     "output_type": "display_data"
    },
    {
     "data": {
      "application/vnd.jupyter.widget-view+json": {
       "model_id": "fed2edbdaafb4318af6bba5df0747179",
       "version_major": 2,
       "version_minor": 0
      },
      "text/plain": [
       "Validation: |          | 0/? [00:00<?, ?it/s]"
      ]
     },
     "metadata": {},
     "output_type": "display_data"
    },
    {
     "data": {
      "application/vnd.jupyter.widget-view+json": {
       "model_id": "592458c242b94d92ae1fb59c202ddabb",
       "version_major": 2,
       "version_minor": 0
      },
      "text/plain": [
       "Validation: |          | 0/? [00:00<?, ?it/s]"
      ]
     },
     "metadata": {},
     "output_type": "display_data"
    },
    {
     "data": {
      "application/vnd.jupyter.widget-view+json": {
       "model_id": "116f75895d61437da2d2457e2e794721",
       "version_major": 2,
       "version_minor": 0
      },
      "text/plain": [
       "Validation: |          | 0/? [00:00<?, ?it/s]"
      ]
     },
     "metadata": {},
     "output_type": "display_data"
    },
    {
     "data": {
      "application/vnd.jupyter.widget-view+json": {
       "model_id": "944f4fc355a341db8683f1f68083d5b8",
       "version_major": 2,
       "version_minor": 0
      },
      "text/plain": [
       "Validation: |          | 0/? [00:00<?, ?it/s]"
      ]
     },
     "metadata": {},
     "output_type": "display_data"
    },
    {
     "data": {
      "application/vnd.jupyter.widget-view+json": {
       "model_id": "7590c50808414c18b68c1bb057395303",
       "version_major": 2,
       "version_minor": 0
      },
      "text/plain": [
       "Validation: |          | 0/? [00:00<?, ?it/s]"
      ]
     },
     "metadata": {},
     "output_type": "display_data"
    },
    {
     "data": {
      "application/vnd.jupyter.widget-view+json": {
       "model_id": "0839a3b2a8a945df8080b4a6a0ae7a4f",
       "version_major": 2,
       "version_minor": 0
      },
      "text/plain": [
       "Validation: |          | 0/? [00:00<?, ?it/s]"
      ]
     },
     "metadata": {},
     "output_type": "display_data"
    },
    {
     "data": {
      "application/vnd.jupyter.widget-view+json": {
       "model_id": "c115e353269144a3a89903fc6ba450fc",
       "version_major": 2,
       "version_minor": 0
      },
      "text/plain": [
       "Validation: |          | 0/? [00:00<?, ?it/s]"
      ]
     },
     "metadata": {},
     "output_type": "display_data"
    },
    {
     "data": {
      "application/vnd.jupyter.widget-view+json": {
       "model_id": "744cf5298e784ff490266ea43444da57",
       "version_major": 2,
       "version_minor": 0
      },
      "text/plain": [
       "Validation: |          | 0/? [00:00<?, ?it/s]"
      ]
     },
     "metadata": {},
     "output_type": "display_data"
    },
    {
     "data": {
      "application/vnd.jupyter.widget-view+json": {
       "model_id": "80b9c6cb217f46a3b3b19fc7f663fa61",
       "version_major": 2,
       "version_minor": 0
      },
      "text/plain": [
       "Validation: |          | 0/? [00:00<?, ?it/s]"
      ]
     },
     "metadata": {},
     "output_type": "display_data"
    },
    {
     "data": {
      "application/vnd.jupyter.widget-view+json": {
       "model_id": "1b0f984cad824432a495490f32c00b57",
       "version_major": 2,
       "version_minor": 0
      },
      "text/plain": [
       "Validation: |          | 0/? [00:00<?, ?it/s]"
      ]
     },
     "metadata": {},
     "output_type": "display_data"
    },
    {
     "data": {
      "application/vnd.jupyter.widget-view+json": {
       "model_id": "85c01d262f3641e09db3971ace759d88",
       "version_major": 2,
       "version_minor": 0
      },
      "text/plain": [
       "Validation: |          | 0/? [00:00<?, ?it/s]"
      ]
     },
     "metadata": {},
     "output_type": "display_data"
    },
    {
     "data": {
      "application/vnd.jupyter.widget-view+json": {
       "model_id": "47239636b73f469fa012d2c0fde0afc1",
       "version_major": 2,
       "version_minor": 0
      },
      "text/plain": [
       "Validation: |          | 0/? [00:00<?, ?it/s]"
      ]
     },
     "metadata": {},
     "output_type": "display_data"
    },
    {
     "data": {
      "application/vnd.jupyter.widget-view+json": {
       "model_id": "d85ace573c12400cbffd509451ec3f41",
       "version_major": 2,
       "version_minor": 0
      },
      "text/plain": [
       "Validation: |          | 0/? [00:00<?, ?it/s]"
      ]
     },
     "metadata": {},
     "output_type": "display_data"
    },
    {
     "data": {
      "application/vnd.jupyter.widget-view+json": {
       "model_id": "dbbe3b3b6ff34e15a86057b34ff57a94",
       "version_major": 2,
       "version_minor": 0
      },
      "text/plain": [
       "Validation: |          | 0/? [00:00<?, ?it/s]"
      ]
     },
     "metadata": {},
     "output_type": "display_data"
    },
    {
     "data": {
      "application/vnd.jupyter.widget-view+json": {
       "model_id": "97fe2a20a6aa4f228f07da46a8739d11",
       "version_major": 2,
       "version_minor": 0
      },
      "text/plain": [
       "Validation: |          | 0/? [00:00<?, ?it/s]"
      ]
     },
     "metadata": {},
     "output_type": "display_data"
    },
    {
     "data": {
      "application/vnd.jupyter.widget-view+json": {
       "model_id": "990c03acbb804d9c8aec3ea32a431658",
       "version_major": 2,
       "version_minor": 0
      },
      "text/plain": [
       "Validation: |          | 0/? [00:00<?, ?it/s]"
      ]
     },
     "metadata": {},
     "output_type": "display_data"
    },
    {
     "data": {
      "application/vnd.jupyter.widget-view+json": {
       "model_id": "7966005a000f4f2387d9cce390f4063b",
       "version_major": 2,
       "version_minor": 0
      },
      "text/plain": [
       "Validation: |          | 0/? [00:00<?, ?it/s]"
      ]
     },
     "metadata": {},
     "output_type": "display_data"
    },
    {
     "data": {
      "application/vnd.jupyter.widget-view+json": {
       "model_id": "57f24ef7d73e435aa48ad26b11e9c648",
       "version_major": 2,
       "version_minor": 0
      },
      "text/plain": [
       "Validation: |          | 0/? [00:00<?, ?it/s]"
      ]
     },
     "metadata": {},
     "output_type": "display_data"
    },
    {
     "data": {
      "application/vnd.jupyter.widget-view+json": {
       "model_id": "bd768c87a8e2403e835a5a3d785123bb",
       "version_major": 2,
       "version_minor": 0
      },
      "text/plain": [
       "Validation: |          | 0/? [00:00<?, ?it/s]"
      ]
     },
     "metadata": {},
     "output_type": "display_data"
    },
    {
     "data": {
      "application/vnd.jupyter.widget-view+json": {
       "model_id": "8f6404a56cb448f9849eba2e1945b917",
       "version_major": 2,
       "version_minor": 0
      },
      "text/plain": [
       "Validation: |          | 0/? [00:00<?, ?it/s]"
      ]
     },
     "metadata": {},
     "output_type": "display_data"
    },
    {
     "data": {
      "application/vnd.jupyter.widget-view+json": {
       "model_id": "bb3d0cb6e261471fb5f8c9116a83ebfa",
       "version_major": 2,
       "version_minor": 0
      },
      "text/plain": [
       "Validation: |          | 0/? [00:00<?, ?it/s]"
      ]
     },
     "metadata": {},
     "output_type": "display_data"
    },
    {
     "data": {
      "application/vnd.jupyter.widget-view+json": {
       "model_id": "bfb8f9779770462aa59d78ca1766566d",
       "version_major": 2,
       "version_minor": 0
      },
      "text/plain": [
       "Validation: |          | 0/? [00:00<?, ?it/s]"
      ]
     },
     "metadata": {},
     "output_type": "display_data"
    },
    {
     "data": {
      "application/vnd.jupyter.widget-view+json": {
       "model_id": "390ff5b038fd42feb0157d435505f4fe",
       "version_major": 2,
       "version_minor": 0
      },
      "text/plain": [
       "Validation: |          | 0/? [00:00<?, ?it/s]"
      ]
     },
     "metadata": {},
     "output_type": "display_data"
    },
    {
     "data": {
      "application/vnd.jupyter.widget-view+json": {
       "model_id": "b7eaea8121d74ceaa6fa6b4b44dd7ad9",
       "version_major": 2,
       "version_minor": 0
      },
      "text/plain": [
       "Validation: |          | 0/? [00:00<?, ?it/s]"
      ]
     },
     "metadata": {},
     "output_type": "display_data"
    },
    {
     "data": {
      "application/vnd.jupyter.widget-view+json": {
       "model_id": "7ee66616eb714d37bb761bc03c14570e",
       "version_major": 2,
       "version_minor": 0
      },
      "text/plain": [
       "Validation: |          | 0/? [00:00<?, ?it/s]"
      ]
     },
     "metadata": {},
     "output_type": "display_data"
    },
    {
     "data": {
      "application/vnd.jupyter.widget-view+json": {
       "model_id": "253a1b8be7904649be0f754808f79612",
       "version_major": 2,
       "version_minor": 0
      },
      "text/plain": [
       "Validation: |          | 0/? [00:00<?, ?it/s]"
      ]
     },
     "metadata": {},
     "output_type": "display_data"
    },
    {
     "data": {
      "application/vnd.jupyter.widget-view+json": {
       "model_id": "a36c79a43e894e679a58d4a257df85e7",
       "version_major": 2,
       "version_minor": 0
      },
      "text/plain": [
       "Validation: |          | 0/? [00:00<?, ?it/s]"
      ]
     },
     "metadata": {},
     "output_type": "display_data"
    },
    {
     "data": {
      "application/vnd.jupyter.widget-view+json": {
       "model_id": "86488d4dd5c04a649b78f8d23d7c9e57",
       "version_major": 2,
       "version_minor": 0
      },
      "text/plain": [
       "Validation: |          | 0/? [00:00<?, ?it/s]"
      ]
     },
     "metadata": {},
     "output_type": "display_data"
    },
    {
     "data": {
      "application/vnd.jupyter.widget-view+json": {
       "model_id": "e498fa9d5ae541c2939bc9deda3dcfad",
       "version_major": 2,
       "version_minor": 0
      },
      "text/plain": [
       "Validation: |          | 0/? [00:00<?, ?it/s]"
      ]
     },
     "metadata": {},
     "output_type": "display_data"
    },
    {
     "data": {
      "application/vnd.jupyter.widget-view+json": {
       "model_id": "8b83a11358ed46408a659f8fd112f2ef",
       "version_major": 2,
       "version_minor": 0
      },
      "text/plain": [
       "Validation: |          | 0/? [00:00<?, ?it/s]"
      ]
     },
     "metadata": {},
     "output_type": "display_data"
    },
    {
     "data": {
      "application/vnd.jupyter.widget-view+json": {
       "model_id": "b39acc5e8048444d99bc6fef63d6f733",
       "version_major": 2,
       "version_minor": 0
      },
      "text/plain": [
       "Validation: |          | 0/? [00:00<?, ?it/s]"
      ]
     },
     "metadata": {},
     "output_type": "display_data"
    },
    {
     "data": {
      "application/vnd.jupyter.widget-view+json": {
       "model_id": "0aa714d6c4b647109f111229a197b93d",
       "version_major": 2,
       "version_minor": 0
      },
      "text/plain": [
       "Validation: |          | 0/? [00:00<?, ?it/s]"
      ]
     },
     "metadata": {},
     "output_type": "display_data"
    },
    {
     "data": {
      "application/vnd.jupyter.widget-view+json": {
       "model_id": "3903b05ac9b34ded8383aced320c641f",
       "version_major": 2,
       "version_minor": 0
      },
      "text/plain": [
       "Validation: |          | 0/? [00:00<?, ?it/s]"
      ]
     },
     "metadata": {},
     "output_type": "display_data"
    },
    {
     "data": {
      "application/vnd.jupyter.widget-view+json": {
       "model_id": "29cef84458314be3b91e2a15eac29220",
       "version_major": 2,
       "version_minor": 0
      },
      "text/plain": [
       "Validation: |          | 0/? [00:00<?, ?it/s]"
      ]
     },
     "metadata": {},
     "output_type": "display_data"
    },
    {
     "data": {
      "application/vnd.jupyter.widget-view+json": {
       "model_id": "2ff65f963f304210ac4d95b95288be6e",
       "version_major": 2,
       "version_minor": 0
      },
      "text/plain": [
       "Validation: |          | 0/? [00:00<?, ?it/s]"
      ]
     },
     "metadata": {},
     "output_type": "display_data"
    },
    {
     "data": {
      "application/vnd.jupyter.widget-view+json": {
       "model_id": "6e9401d65c954cd389c0f9ecabd16048",
       "version_major": 2,
       "version_minor": 0
      },
      "text/plain": [
       "Validation: |          | 0/? [00:00<?, ?it/s]"
      ]
     },
     "metadata": {},
     "output_type": "display_data"
    },
    {
     "data": {
      "application/vnd.jupyter.widget-view+json": {
       "model_id": "1f54d50d85614da68dc989d9a1f99eee",
       "version_major": 2,
       "version_minor": 0
      },
      "text/plain": [
       "Validation: |          | 0/? [00:00<?, ?it/s]"
      ]
     },
     "metadata": {},
     "output_type": "display_data"
    },
    {
     "data": {
      "application/vnd.jupyter.widget-view+json": {
       "model_id": "5566dabee64e474084c5e0180fd3eb29",
       "version_major": 2,
       "version_minor": 0
      },
      "text/plain": [
       "Validation: |          | 0/? [00:00<?, ?it/s]"
      ]
     },
     "metadata": {},
     "output_type": "display_data"
    },
    {
     "data": {
      "application/vnd.jupyter.widget-view+json": {
       "model_id": "76ed1c1de78e4a47a942476ebac2970a",
       "version_major": 2,
       "version_minor": 0
      },
      "text/plain": [
       "Validation: |          | 0/? [00:00<?, ?it/s]"
      ]
     },
     "metadata": {},
     "output_type": "display_data"
    },
    {
     "data": {
      "application/vnd.jupyter.widget-view+json": {
       "model_id": "7cf635ea9a3f49cab8b5db24e221fbd1",
       "version_major": 2,
       "version_minor": 0
      },
      "text/plain": [
       "Validation: |          | 0/? [00:00<?, ?it/s]"
      ]
     },
     "metadata": {},
     "output_type": "display_data"
    },
    {
     "data": {
      "application/vnd.jupyter.widget-view+json": {
       "model_id": "38af33aa9b664677ac0061a45e199969",
       "version_major": 2,
       "version_minor": 0
      },
      "text/plain": [
       "Validation: |          | 0/? [00:00<?, ?it/s]"
      ]
     },
     "metadata": {},
     "output_type": "display_data"
    },
    {
     "data": {
      "application/vnd.jupyter.widget-view+json": {
       "model_id": "1fa149dff9804252baef0ee49af2408c",
       "version_major": 2,
       "version_minor": 0
      },
      "text/plain": [
       "Validation: |          | 0/? [00:00<?, ?it/s]"
      ]
     },
     "metadata": {},
     "output_type": "display_data"
    },
    {
     "data": {
      "application/vnd.jupyter.widget-view+json": {
       "model_id": "2d132b3b1f0c4daeb621582d6417e1ee",
       "version_major": 2,
       "version_minor": 0
      },
      "text/plain": [
       "Validation: |          | 0/? [00:00<?, ?it/s]"
      ]
     },
     "metadata": {},
     "output_type": "display_data"
    },
    {
     "data": {
      "application/vnd.jupyter.widget-view+json": {
       "model_id": "9f79c1f036e6477e8b6a5febbbe8a930",
       "version_major": 2,
       "version_minor": 0
      },
      "text/plain": [
       "Validation: |          | 0/? [00:00<?, ?it/s]"
      ]
     },
     "metadata": {},
     "output_type": "display_data"
    },
    {
     "data": {
      "application/vnd.jupyter.widget-view+json": {
       "model_id": "d9c52e20645b42e4b9faa7b097e5eb23",
       "version_major": 2,
       "version_minor": 0
      },
      "text/plain": [
       "Validation: |          | 0/? [00:00<?, ?it/s]"
      ]
     },
     "metadata": {},
     "output_type": "display_data"
    },
    {
     "data": {
      "application/vnd.jupyter.widget-view+json": {
       "model_id": "a2238eb0ed4b4a16bc7e5da5e7a94040",
       "version_major": 2,
       "version_minor": 0
      },
      "text/plain": [
       "Validation: |          | 0/? [00:00<?, ?it/s]"
      ]
     },
     "metadata": {},
     "output_type": "display_data"
    },
    {
     "data": {
      "application/vnd.jupyter.widget-view+json": {
       "model_id": "9b6cdc4df75844a8bc1f8e710f759b25",
       "version_major": 2,
       "version_minor": 0
      },
      "text/plain": [
       "Validation: |          | 0/? [00:00<?, ?it/s]"
      ]
     },
     "metadata": {},
     "output_type": "display_data"
    },
    {
     "data": {
      "application/vnd.jupyter.widget-view+json": {
       "model_id": "a93d4dbf678e44b1b24e0f0ba85757cc",
       "version_major": 2,
       "version_minor": 0
      },
      "text/plain": [
       "Validation: |          | 0/? [00:00<?, ?it/s]"
      ]
     },
     "metadata": {},
     "output_type": "display_data"
    },
    {
     "data": {
      "application/vnd.jupyter.widget-view+json": {
       "model_id": "d33e807134bf42b393e58a9de45aa444",
       "version_major": 2,
       "version_minor": 0
      },
      "text/plain": [
       "Validation: |          | 0/? [00:00<?, ?it/s]"
      ]
     },
     "metadata": {},
     "output_type": "display_data"
    },
    {
     "data": {
      "application/vnd.jupyter.widget-view+json": {
       "model_id": "8fd4209ceb2f4485a15fb6d3365b4063",
       "version_major": 2,
       "version_minor": 0
      },
      "text/plain": [
       "Validation: |          | 0/? [00:00<?, ?it/s]"
      ]
     },
     "metadata": {},
     "output_type": "display_data"
    },
    {
     "data": {
      "application/vnd.jupyter.widget-view+json": {
       "model_id": "6ea2da1ffdcb47ec8bd1df8f9d05f6ba",
       "version_major": 2,
       "version_minor": 0
      },
      "text/plain": [
       "Validation: |          | 0/? [00:00<?, ?it/s]"
      ]
     },
     "metadata": {},
     "output_type": "display_data"
    },
    {
     "data": {
      "application/vnd.jupyter.widget-view+json": {
       "model_id": "7e5f292002984495b2d9fac5c9968037",
       "version_major": 2,
       "version_minor": 0
      },
      "text/plain": [
       "Validation: |          | 0/? [00:00<?, ?it/s]"
      ]
     },
     "metadata": {},
     "output_type": "display_data"
    },
    {
     "data": {
      "application/vnd.jupyter.widget-view+json": {
       "model_id": "76b720c6de694160b72243190a8bc810",
       "version_major": 2,
       "version_minor": 0
      },
      "text/plain": [
       "Validation: |          | 0/? [00:00<?, ?it/s]"
      ]
     },
     "metadata": {},
     "output_type": "display_data"
    },
    {
     "data": {
      "application/vnd.jupyter.widget-view+json": {
       "model_id": "c1cebd59a07c4501a91d8adde8598a86",
       "version_major": 2,
       "version_minor": 0
      },
      "text/plain": [
       "Validation: |          | 0/? [00:00<?, ?it/s]"
      ]
     },
     "metadata": {},
     "output_type": "display_data"
    },
    {
     "data": {
      "application/vnd.jupyter.widget-view+json": {
       "model_id": "e25c1c0c39304744a236d22f63813e58",
       "version_major": 2,
       "version_minor": 0
      },
      "text/plain": [
       "Validation: |          | 0/? [00:00<?, ?it/s]"
      ]
     },
     "metadata": {},
     "output_type": "display_data"
    },
    {
     "data": {
      "application/vnd.jupyter.widget-view+json": {
       "model_id": "4b82882176ca48aeae0ca61b16b83ba0",
       "version_major": 2,
       "version_minor": 0
      },
      "text/plain": [
       "Validation: |          | 0/? [00:00<?, ?it/s]"
      ]
     },
     "metadata": {},
     "output_type": "display_data"
    },
    {
     "data": {
      "application/vnd.jupyter.widget-view+json": {
       "model_id": "bfe8c412ab5a4f4289323b35fe35a91f",
       "version_major": 2,
       "version_minor": 0
      },
      "text/plain": [
       "Validation: |          | 0/? [00:00<?, ?it/s]"
      ]
     },
     "metadata": {},
     "output_type": "display_data"
    },
    {
     "data": {
      "application/vnd.jupyter.widget-view+json": {
       "model_id": "80ef24e9048f40329ce6807615f95c58",
       "version_major": 2,
       "version_minor": 0
      },
      "text/plain": [
       "Validation: |          | 0/? [00:00<?, ?it/s]"
      ]
     },
     "metadata": {},
     "output_type": "display_data"
    },
    {
     "data": {
      "application/vnd.jupyter.widget-view+json": {
       "model_id": "5e5c0fc6375b41e0ac46679c7b12b3b3",
       "version_major": 2,
       "version_minor": 0
      },
      "text/plain": [
       "Validation: |          | 0/? [00:00<?, ?it/s]"
      ]
     },
     "metadata": {},
     "output_type": "display_data"
    },
    {
     "data": {
      "application/vnd.jupyter.widget-view+json": {
       "model_id": "03317897886d43fa9962199ec0eb932b",
       "version_major": 2,
       "version_minor": 0
      },
      "text/plain": [
       "Validation: |          | 0/? [00:00<?, ?it/s]"
      ]
     },
     "metadata": {},
     "output_type": "display_data"
    },
    {
     "data": {
      "application/vnd.jupyter.widget-view+json": {
       "model_id": "8af08f05f0f24f1797f94cf5184abd97",
       "version_major": 2,
       "version_minor": 0
      },
      "text/plain": [
       "Validation: |          | 0/? [00:00<?, ?it/s]"
      ]
     },
     "metadata": {},
     "output_type": "display_data"
    },
    {
     "data": {
      "application/vnd.jupyter.widget-view+json": {
       "model_id": "bacebe3491284501b9fca58a804351ec",
       "version_major": 2,
       "version_minor": 0
      },
      "text/plain": [
       "Validation: |          | 0/? [00:00<?, ?it/s]"
      ]
     },
     "metadata": {},
     "output_type": "display_data"
    },
    {
     "data": {
      "application/vnd.jupyter.widget-view+json": {
       "model_id": "8d7841f439d54c05940a237e5258136f",
       "version_major": 2,
       "version_minor": 0
      },
      "text/plain": [
       "Validation: |          | 0/? [00:00<?, ?it/s]"
      ]
     },
     "metadata": {},
     "output_type": "display_data"
    },
    {
     "data": {
      "application/vnd.jupyter.widget-view+json": {
       "model_id": "f24c32a1cecf438da3bb7db7a71150bc",
       "version_major": 2,
       "version_minor": 0
      },
      "text/plain": [
       "Validation: |          | 0/? [00:00<?, ?it/s]"
      ]
     },
     "metadata": {},
     "output_type": "display_data"
    },
    {
     "data": {
      "application/vnd.jupyter.widget-view+json": {
       "model_id": "ab06e8a8265f42038585ccda208dd000",
       "version_major": 2,
       "version_minor": 0
      },
      "text/plain": [
       "Validation: |          | 0/? [00:00<?, ?it/s]"
      ]
     },
     "metadata": {},
     "output_type": "display_data"
    },
    {
     "data": {
      "application/vnd.jupyter.widget-view+json": {
       "model_id": "850d8c81627c44238e2571033bed57ac",
       "version_major": 2,
       "version_minor": 0
      },
      "text/plain": [
       "Validation: |          | 0/? [00:00<?, ?it/s]"
      ]
     },
     "metadata": {},
     "output_type": "display_data"
    },
    {
     "data": {
      "application/vnd.jupyter.widget-view+json": {
       "model_id": "482bb8a8060e4aaaa3bb3affb017f784",
       "version_major": 2,
       "version_minor": 0
      },
      "text/plain": [
       "Validation: |          | 0/? [00:00<?, ?it/s]"
      ]
     },
     "metadata": {},
     "output_type": "display_data"
    },
    {
     "data": {
      "application/vnd.jupyter.widget-view+json": {
       "model_id": "9fb6515878e7459ba801bc4cab0db410",
       "version_major": 2,
       "version_minor": 0
      },
      "text/plain": [
       "Validation: |          | 0/? [00:00<?, ?it/s]"
      ]
     },
     "metadata": {},
     "output_type": "display_data"
    },
    {
     "data": {
      "application/vnd.jupyter.widget-view+json": {
       "model_id": "6106151c99be4c53858b513bda6f4e7f",
       "version_major": 2,
       "version_minor": 0
      },
      "text/plain": [
       "Validation: |          | 0/? [00:00<?, ?it/s]"
      ]
     },
     "metadata": {},
     "output_type": "display_data"
    },
    {
     "data": {
      "application/vnd.jupyter.widget-view+json": {
       "model_id": "1cb8fc373d8b4b3380bba378b8ca8013",
       "version_major": 2,
       "version_minor": 0
      },
      "text/plain": [
       "Validation: |          | 0/? [00:00<?, ?it/s]"
      ]
     },
     "metadata": {},
     "output_type": "display_data"
    },
    {
     "data": {
      "application/vnd.jupyter.widget-view+json": {
       "model_id": "31be7eb3b9994875ae94e3466bb99644",
       "version_major": 2,
       "version_minor": 0
      },
      "text/plain": [
       "Validation: |          | 0/? [00:00<?, ?it/s]"
      ]
     },
     "metadata": {},
     "output_type": "display_data"
    },
    {
     "data": {
      "application/vnd.jupyter.widget-view+json": {
       "model_id": "e1a74d5f49384683b5ae5bcab5e005b0",
       "version_major": 2,
       "version_minor": 0
      },
      "text/plain": [
       "Validation: |          | 0/? [00:00<?, ?it/s]"
      ]
     },
     "metadata": {},
     "output_type": "display_data"
    },
    {
     "data": {
      "application/vnd.jupyter.widget-view+json": {
       "model_id": "36a5319fe3fc442db7698b637c5b5f4c",
       "version_major": 2,
       "version_minor": 0
      },
      "text/plain": [
       "Validation: |          | 0/? [00:00<?, ?it/s]"
      ]
     },
     "metadata": {},
     "output_type": "display_data"
    },
    {
     "data": {
      "application/vnd.jupyter.widget-view+json": {
       "model_id": "1051b961327840f0aef1b8c9c6148ba6",
       "version_major": 2,
       "version_minor": 0
      },
      "text/plain": [
       "Validation: |          | 0/? [00:00<?, ?it/s]"
      ]
     },
     "metadata": {},
     "output_type": "display_data"
    },
    {
     "data": {
      "application/vnd.jupyter.widget-view+json": {
       "model_id": "81ba23977fc74e189ab3eadd78250cf9",
       "version_major": 2,
       "version_minor": 0
      },
      "text/plain": [
       "Validation: |          | 0/? [00:00<?, ?it/s]"
      ]
     },
     "metadata": {},
     "output_type": "display_data"
    },
    {
     "data": {
      "application/vnd.jupyter.widget-view+json": {
       "model_id": "090ae6d2948a450a8bdef4d1cede9de9",
       "version_major": 2,
       "version_minor": 0
      },
      "text/plain": [
       "Validation: |          | 0/? [00:00<?, ?it/s]"
      ]
     },
     "metadata": {},
     "output_type": "display_data"
    },
    {
     "data": {
      "application/vnd.jupyter.widget-view+json": {
       "model_id": "364ddc738f6e4d2285343ad8ce1f2e8b",
       "version_major": 2,
       "version_minor": 0
      },
      "text/plain": [
       "Validation: |          | 0/? [00:00<?, ?it/s]"
      ]
     },
     "metadata": {},
     "output_type": "display_data"
    },
    {
     "data": {
      "application/vnd.jupyter.widget-view+json": {
       "model_id": "43f0eb727b454daa939a9d13db4ebd2e",
       "version_major": 2,
       "version_minor": 0
      },
      "text/plain": [
       "Validation: |          | 0/? [00:00<?, ?it/s]"
      ]
     },
     "metadata": {},
     "output_type": "display_data"
    },
    {
     "data": {
      "application/vnd.jupyter.widget-view+json": {
       "model_id": "e7f6ab499ee449ed849974916b242fa8",
       "version_major": 2,
       "version_minor": 0
      },
      "text/plain": [
       "Validation: |          | 0/? [00:00<?, ?it/s]"
      ]
     },
     "metadata": {},
     "output_type": "display_data"
    },
    {
     "data": {
      "application/vnd.jupyter.widget-view+json": {
       "model_id": "7983aa45c5fa43efa74002e17b47a0e2",
       "version_major": 2,
       "version_minor": 0
      },
      "text/plain": [
       "Validation: |          | 0/? [00:00<?, ?it/s]"
      ]
     },
     "metadata": {},
     "output_type": "display_data"
    },
    {
     "data": {
      "application/vnd.jupyter.widget-view+json": {
       "model_id": "8094a6b6f0d54de39e404a163ac67e60",
       "version_major": 2,
       "version_minor": 0
      },
      "text/plain": [
       "Validation: |          | 0/? [00:00<?, ?it/s]"
      ]
     },
     "metadata": {},
     "output_type": "display_data"
    },
    {
     "data": {
      "application/vnd.jupyter.widget-view+json": {
       "model_id": "752d10cfc0034b5e821a1a16459e5029",
       "version_major": 2,
       "version_minor": 0
      },
      "text/plain": [
       "Validation: |          | 0/? [00:00<?, ?it/s]"
      ]
     },
     "metadata": {},
     "output_type": "display_data"
    },
    {
     "data": {
      "application/vnd.jupyter.widget-view+json": {
       "model_id": "b3bc3fe5cbc34c41a5562876395de295",
       "version_major": 2,
       "version_minor": 0
      },
      "text/plain": [
       "Validation: |          | 0/? [00:00<?, ?it/s]"
      ]
     },
     "metadata": {},
     "output_type": "display_data"
    },
    {
     "data": {
      "application/vnd.jupyter.widget-view+json": {
       "model_id": "31b7346712fb48bc8feeef0ac4350b8a",
       "version_major": 2,
       "version_minor": 0
      },
      "text/plain": [
       "Validation: |          | 0/? [00:00<?, ?it/s]"
      ]
     },
     "metadata": {},
     "output_type": "display_data"
    },
    {
     "data": {
      "application/vnd.jupyter.widget-view+json": {
       "model_id": "da2e63a6e36a4bdb82adaae9b0716c51",
       "version_major": 2,
       "version_minor": 0
      },
      "text/plain": [
       "Validation: |          | 0/? [00:00<?, ?it/s]"
      ]
     },
     "metadata": {},
     "output_type": "display_data"
    },
    {
     "data": {
      "application/vnd.jupyter.widget-view+json": {
       "model_id": "189b5277111c49099957f7893ccec484",
       "version_major": 2,
       "version_minor": 0
      },
      "text/plain": [
       "Validation: |          | 0/? [00:00<?, ?it/s]"
      ]
     },
     "metadata": {},
     "output_type": "display_data"
    },
    {
     "data": {
      "application/vnd.jupyter.widget-view+json": {
       "model_id": "76d01acf41fc4b168654e2279e20f6e4",
       "version_major": 2,
       "version_minor": 0
      },
      "text/plain": [
       "Validation: |          | 0/? [00:00<?, ?it/s]"
      ]
     },
     "metadata": {},
     "output_type": "display_data"
    },
    {
     "data": {
      "application/vnd.jupyter.widget-view+json": {
       "model_id": "386205209278461bb9ce4511f23b91e9",
       "version_major": 2,
       "version_minor": 0
      },
      "text/plain": [
       "Validation: |          | 0/? [00:00<?, ?it/s]"
      ]
     },
     "metadata": {},
     "output_type": "display_data"
    },
    {
     "data": {
      "application/vnd.jupyter.widget-view+json": {
       "model_id": "6ece0794dd7d4eef9d312b47646a9e8a",
       "version_major": 2,
       "version_minor": 0
      },
      "text/plain": [
       "Validation: |          | 0/? [00:00<?, ?it/s]"
      ]
     },
     "metadata": {},
     "output_type": "display_data"
    },
    {
     "data": {
      "application/vnd.jupyter.widget-view+json": {
       "model_id": "fb2b9537642d476784b6a7b34fbc22fc",
       "version_major": 2,
       "version_minor": 0
      },
      "text/plain": [
       "Validation: |          | 0/? [00:00<?, ?it/s]"
      ]
     },
     "metadata": {},
     "output_type": "display_data"
    },
    {
     "data": {
      "application/vnd.jupyter.widget-view+json": {
       "model_id": "70d0dacd2e324cceb198b42e656a0b17",
       "version_major": 2,
       "version_minor": 0
      },
      "text/plain": [
       "Validation: |          | 0/? [00:00<?, ?it/s]"
      ]
     },
     "metadata": {},
     "output_type": "display_data"
    },
    {
     "data": {
      "application/vnd.jupyter.widget-view+json": {
       "model_id": "f607c98a40cb4d16818cacc9f0cdca2f",
       "version_major": 2,
       "version_minor": 0
      },
      "text/plain": [
       "Validation: |          | 0/? [00:00<?, ?it/s]"
      ]
     },
     "metadata": {},
     "output_type": "display_data"
    },
    {
     "data": {
      "application/vnd.jupyter.widget-view+json": {
       "model_id": "1a76d88629934b1ab8e27c2a77188387",
       "version_major": 2,
       "version_minor": 0
      },
      "text/plain": [
       "Validation: |          | 0/? [00:00<?, ?it/s]"
      ]
     },
     "metadata": {},
     "output_type": "display_data"
    },
    {
     "data": {
      "application/vnd.jupyter.widget-view+json": {
       "model_id": "a2fbb70f726b4bb6980baefecd229e14",
       "version_major": 2,
       "version_minor": 0
      },
      "text/plain": [
       "Validation: |          | 0/? [00:00<?, ?it/s]"
      ]
     },
     "metadata": {},
     "output_type": "display_data"
    },
    {
     "data": {
      "application/vnd.jupyter.widget-view+json": {
       "model_id": "9bba0c0f4c8c411782258c0e1f7281a8",
       "version_major": 2,
       "version_minor": 0
      },
      "text/plain": [
       "Validation: |          | 0/? [00:00<?, ?it/s]"
      ]
     },
     "metadata": {},
     "output_type": "display_data"
    },
    {
     "data": {
      "application/vnd.jupyter.widget-view+json": {
       "model_id": "bf9b27138fb54108b7f49dc761266f79",
       "version_major": 2,
       "version_minor": 0
      },
      "text/plain": [
       "Validation: |          | 0/? [00:00<?, ?it/s]"
      ]
     },
     "metadata": {},
     "output_type": "display_data"
    },
    {
     "data": {
      "application/vnd.jupyter.widget-view+json": {
       "model_id": "7defe613ba214a9380971ba76b1ca87e",
       "version_major": 2,
       "version_minor": 0
      },
      "text/plain": [
       "Validation: |          | 0/? [00:00<?, ?it/s]"
      ]
     },
     "metadata": {},
     "output_type": "display_data"
    },
    {
     "data": {
      "application/vnd.jupyter.widget-view+json": {
       "model_id": "1282b92a668f4914a5063ee806f57083",
       "version_major": 2,
       "version_minor": 0
      },
      "text/plain": [
       "Validation: |          | 0/? [00:00<?, ?it/s]"
      ]
     },
     "metadata": {},
     "output_type": "display_data"
    },
    {
     "data": {
      "application/vnd.jupyter.widget-view+json": {
       "model_id": "57dd6b935d9a49cf9fc7dfd0bef07c35",
       "version_major": 2,
       "version_minor": 0
      },
      "text/plain": [
       "Validation: |          | 0/? [00:00<?, ?it/s]"
      ]
     },
     "metadata": {},
     "output_type": "display_data"
    },
    {
     "data": {
      "application/vnd.jupyter.widget-view+json": {
       "model_id": "e1310e2d10394ac391f4d5ba2cdd68ec",
       "version_major": 2,
       "version_minor": 0
      },
      "text/plain": [
       "Validation: |          | 0/? [00:00<?, ?it/s]"
      ]
     },
     "metadata": {},
     "output_type": "display_data"
    },
    {
     "data": {
      "application/vnd.jupyter.widget-view+json": {
       "model_id": "7b77d27d740746dfa4efd0f7042b227e",
       "version_major": 2,
       "version_minor": 0
      },
      "text/plain": [
       "Validation: |          | 0/? [00:00<?, ?it/s]"
      ]
     },
     "metadata": {},
     "output_type": "display_data"
    },
    {
     "data": {
      "application/vnd.jupyter.widget-view+json": {
       "model_id": "89f7c6953ca943bea203d139e735460f",
       "version_major": 2,
       "version_minor": 0
      },
      "text/plain": [
       "Validation: |          | 0/? [00:00<?, ?it/s]"
      ]
     },
     "metadata": {},
     "output_type": "display_data"
    },
    {
     "data": {
      "application/vnd.jupyter.widget-view+json": {
       "model_id": "32449696ce6d401b8c169fbba5789fdf",
       "version_major": 2,
       "version_minor": 0
      },
      "text/plain": [
       "Validation: |          | 0/? [00:00<?, ?it/s]"
      ]
     },
     "metadata": {},
     "output_type": "display_data"
    },
    {
     "data": {
      "application/vnd.jupyter.widget-view+json": {
       "model_id": "b8a5f775815247a0ae4f6198ae9070f5",
       "version_major": 2,
       "version_minor": 0
      },
      "text/plain": [
       "Validation: |          | 0/? [00:00<?, ?it/s]"
      ]
     },
     "metadata": {},
     "output_type": "display_data"
    },
    {
     "data": {
      "application/vnd.jupyter.widget-view+json": {
       "model_id": "9d41ec37641b45f58ccd53560007b838",
       "version_major": 2,
       "version_minor": 0
      },
      "text/plain": [
       "Validation: |          | 0/? [00:00<?, ?it/s]"
      ]
     },
     "metadata": {},
     "output_type": "display_data"
    },
    {
     "data": {
      "application/vnd.jupyter.widget-view+json": {
       "model_id": "5fb7c4a0d0bf4ea8b2dd8bef417a1f08",
       "version_major": 2,
       "version_minor": 0
      },
      "text/plain": [
       "Validation: |          | 0/? [00:00<?, ?it/s]"
      ]
     },
     "metadata": {},
     "output_type": "display_data"
    },
    {
     "data": {
      "application/vnd.jupyter.widget-view+json": {
       "model_id": "a57bb8d34482496aa700cf02308d3825",
       "version_major": 2,
       "version_minor": 0
      },
      "text/plain": [
       "Validation: |          | 0/? [00:00<?, ?it/s]"
      ]
     },
     "metadata": {},
     "output_type": "display_data"
    },
    {
     "data": {
      "application/vnd.jupyter.widget-view+json": {
       "model_id": "a08bf1e527c142369b1e1fc20d9ec3c8",
       "version_major": 2,
       "version_minor": 0
      },
      "text/plain": [
       "Validation: |          | 0/? [00:00<?, ?it/s]"
      ]
     },
     "metadata": {},
     "output_type": "display_data"
    },
    {
     "data": {
      "application/vnd.jupyter.widget-view+json": {
       "model_id": "d05dd9689c7742ae9bb172fddb8cdc09",
       "version_major": 2,
       "version_minor": 0
      },
      "text/plain": [
       "Validation: |          | 0/? [00:00<?, ?it/s]"
      ]
     },
     "metadata": {},
     "output_type": "display_data"
    },
    {
     "data": {
      "application/vnd.jupyter.widget-view+json": {
       "model_id": "72cf636414134b65b67fcca9e360edcf",
       "version_major": 2,
       "version_minor": 0
      },
      "text/plain": [
       "Validation: |          | 0/? [00:00<?, ?it/s]"
      ]
     },
     "metadata": {},
     "output_type": "display_data"
    },
    {
     "data": {
      "application/vnd.jupyter.widget-view+json": {
       "model_id": "f1dea88431f448ddbb4956ccbe4dc6fc",
       "version_major": 2,
       "version_minor": 0
      },
      "text/plain": [
       "Validation: |          | 0/? [00:00<?, ?it/s]"
      ]
     },
     "metadata": {},
     "output_type": "display_data"
    },
    {
     "data": {
      "application/vnd.jupyter.widget-view+json": {
       "model_id": "9073bedcf55c41209cc5ad58f6ad1e08",
       "version_major": 2,
       "version_minor": 0
      },
      "text/plain": [
       "Validation: |          | 0/? [00:00<?, ?it/s]"
      ]
     },
     "metadata": {},
     "output_type": "display_data"
    },
    {
     "name": "stderr",
     "output_type": "stream",
     "text": [
      "`Trainer.fit` stopped: `max_epochs=200` reached.\n"
     ]
    },
    {
     "name": "stdout",
     "output_type": "stream",
     "text": [
      "\n",
      "📊 Validation Report (Multi-label):\n",
      "              precision    recall  f1-score   support\n",
      "\n",
      "           +       0.64      1.00      0.78        51\n",
      "           H       0.04      0.57      0.07         7\n",
      "           I       0.01      0.33      0.02         3\n",
      "    no_label       0.96      0.81      0.88       231\n",
      "           q       0.04      1.00      0.08         3\n",
      "           s       0.49      0.98      0.66        44\n",
      "           v       0.71      0.95      0.81        81\n",
      "\n",
      "   micro avg       0.49      0.87      0.62       420\n",
      "   macro avg       0.41      0.81      0.47       420\n",
      "weighted avg       0.80      0.87      0.80       420\n",
      " samples avg       0.56      0.83      0.64       420\n",
      "\n",
      "\n",
      "🧮 Multi-label Confusion Matrices (per class):\n",
      "\n",
      "Class '+':\n",
      "[[241  29]\n",
      " [  0  51]]\n",
      "\n",
      "Class 'H':\n",
      "[[206 108]\n",
      " [  3   4]]\n",
      "\n",
      "Class 'I':\n",
      "[[223  95]\n",
      " [  2   1]]\n",
      "\n",
      "Class 'no_label':\n",
      "[[ 83   7]\n",
      " [ 45 186]]\n",
      "\n",
      "Class 'q':\n",
      "[[248  70]\n",
      " [  0   3]]\n",
      "\n",
      "Class 's':\n",
      "[[233  44]\n",
      " [  1  43]]\n",
      "\n",
      "Class 'v':\n",
      "[[208  32]\n",
      " [  4  77]]\n",
      "\n",
      "Exact match ratio: 0.2866043613707165\n",
      "Micro accuracy (per-label): 0.8041833555852247\n",
      "\n",
      "✅ Validation before tuning: Exact=0.287, Micro=0.804\n"
     ]
    }
   ],
   "source": [
    "import joblib\n",
    "import torch\n",
    "import pytorch_lightning as pl\n",
    "from torch.utils.data import DataLoader\n",
    "from sklearn.metrics import classification_report, multilabel_confusion_matrix\n",
    "from datetime import datetime\n",
    "import pandas as pd\n",
    "import io\n",
    "import os\n",
    "import numpy as np\n",
    "from preprocess.multilabel_preprocess2 import preprocess_csv_multilabel\n",
    "from models.LSTM.lstm_multi_label import LSTMMultiLabelClassifier\n",
    "from utils.print_batch import print_batch\n",
    "from utils.json_to_csv import json_to_csv_in_memory  # <-- new util\n",
    "from utils.multilabel_threshold_tuning import tune_thresholds_nn\n",
    "from add_ons.feature_pipeline5 import FeaturePipeline\n",
    "from add_ons.drop_columns2 import drop_columns\n",
    "from add_ons.candle_dif_rate_of_change_percentage2 import add_candle_rocp\n",
    "from add_ons.candle_proportion import add_candle_proportions\n",
    "from add_ons.candle_rate_of_change import add_candle_ratios\n",
    "from add_ons.candle_proportion_simple import add_candle_shape_features\n",
    "from add_ons.normalize_candle_seq import add_label_normalized_candles\n",
    "from utils.make_step import make_step\n",
    "\n",
    "def evaluate_model(model, val_loader, mlb, threshold=0.2, return_probs=False):\n",
    "    model.eval()\n",
    "    all_preds, all_labels, all_probs = [], [], []\n",
    "\n",
    "    with torch.no_grad():\n",
    "        for X_batch, y_batch in val_loader:\n",
    "            logits = model(X_batch)\n",
    "            probs = torch.sigmoid(logits)\n",
    "            preds = (probs >= threshold).int()\n",
    "            all_preds.append(preds.cpu().numpy())\n",
    "            all_labels.append(y_batch.cpu().numpy())\n",
    "            all_probs.append(probs.cpu().numpy())\n",
    "\n",
    "    all_preds = np.vstack(all_preds)\n",
    "    all_labels = np.vstack(all_labels)\n",
    "    all_probs = np.vstack(all_probs)\n",
    "\n",
    "    print(\"\\n📊 Validation Report (Multi-label):\")\n",
    "    print(classification_report(all_labels, all_preds, target_names=mlb.classes_, zero_division=0))\n",
    "\n",
    "    print(\"\\n🧮 Multi-label Confusion Matrices (per class):\")\n",
    "    mcm = multilabel_confusion_matrix(all_labels, all_preds)\n",
    "    for i, cls in enumerate(mlb.classes_):\n",
    "        print(f\"\\nClass '{cls}':\")\n",
    "        print(mcm[i])\n",
    "\n",
    "    val_acc_exact = np.all(all_preds == all_labels, axis=1).mean()\n",
    "    val_acc_micro = (all_preds == all_labels).mean()\n",
    "    print(\"\\nExact match ratio:\", val_acc_exact)\n",
    "    print(\"Micro accuracy (per-label):\", val_acc_micro)\n",
    "\n",
    "    if return_probs:\n",
    "        return val_acc_exact, val_acc_micro, all_probs\n",
    "    else:\n",
    "        return val_acc_exact, val_acc_micro\n",
    "\n",
    "\n",
    "\n",
    "def train_model(\n",
    "    data_csv,\n",
    "    labels_json=None,\n",
    "    model_out_dir=\"models/saved_models\",\n",
    "    do_validation=True,\n",
    "    seq_len=1,\n",
    "    hidden_dim=10,\n",
    "    num_layers=1,\n",
    "    lr=0.001,\n",
    "    batch_size=32,\n",
    "    max_epochs=200,\n",
    "    save_model=False,\n",
    "    return_val_accuracy=True,\n",
    "    test_mode=False,\n",
    "    tune_thresholds = False,\n",
    "    include_no_label = False,\n",
    "    label_weighting = \"none\"\n",
    "):\n",
    "    \"\"\"\n",
    "    Train an LSTM classification model with labels coming from JSON (in-memory CSV).\n",
    "    \"\"\"\n",
    "\n",
    "    timestamp = datetime.now().strftime(\"%Y%m%d_%H%M%S\")\n",
    "    model_out = f\"{model_out_dir}/lstm_model_class_{timestamp}.pt\"\n",
    "    meta_out = f\"{model_out_dir}/lstm_meta_class_{timestamp}.pkl\"\n",
    "\n",
    "    # --- Prepare labels ---\n",
    "    if labels_json is not None:\n",
    "        csv_string = json_to_csv_in_memory(labels_json)   # returns CSV string\n",
    "        labels_csv = io.StringIO(csv_string)              # file-like for pandas\n",
    "    else:\n",
    "        raise ValueError(\"labels_json must be provided\")\n",
    "\n",
    "    pipeline = FeaturePipeline(\n",
    "        steps=[\n",
    "            make_step(add_candle_shape_features),\n",
    "            # make_step(add_candle_rocp),\n",
    "            # make_step(add_label_normalized_candles),\n",
    "            make_step(drop_columns, cols_to_drop=[\"open\",\"high\",\"low\",\"close\",\"volume\"]),\n",
    "        ],\n",
    "        # norm_methods={\n",
    "            # \"main\": {\n",
    "            #     \"upper_shadow\": \"robust\", \"body\": \"standard\", \"lower_shadow\": \"standard\",\n",
    "            #     \"upper_body_ratio\": \"standard\", \"lower_body_ratio\": \"standard\",\n",
    "            #     \"upper_lower_body_ratio\": \"standard\", \"Candle_Color\": \"standard\",\n",
    "                \n",
    "            # }\n",
    "        #         \"candle_shape\": {\n",
    "        #             \"upper_shadow\": \"standard\",\n",
    "        #             \"lower_shadow\": \"standard\",\n",
    "        #             \"body\": \"standard\",\n",
    "        #             \"color\": \"standard\",\n",
    "        #         }\n",
    "        # },\n",
    "        # window_norms={\n",
    "        # \"main\": {\"open_prop\": \"standard\", \"high_prop\": \"standard\",\"low_prop\": \"standard\", \"close_prop\": \"standard\"},},\n",
    "\n",
    "        per_window_flags=[\n",
    "        False, \n",
    "        False, \n",
    "        # True\n",
    "                ]\n",
    "    )\n",
    "        # --- Get dataset(s) ---\n",
    "    if do_validation:\n",
    "        train_ds, val_ds, df, feature_cols, label_encoder, label_weights = preprocess_csv_multilabel(\n",
    "            data_csv, labels_csv,\n",
    "            n_candles=seq_len,\n",
    "            val_split=True,\n",
    "            debug_sample=True,\n",
    "            feature_pipeline=pipeline,\n",
    "            label_weighting=label_weighting,\n",
    "            include_no_label = include_no_label\n",
    "        )\n",
    "    else:\n",
    "        full_dataset, df, feature_cols, label_encoder, label_weights = preprocess_csv_multilabel(\n",
    "            data_csv, labels_csv,\n",
    "            n_candles=seq_len,\n",
    "            val_split=False,\n",
    "            debug_sample=True,\n",
    "            label_weighting=label_weighting,\n",
    "            include_no_label =include_no_label\n",
    "        )\n",
    "\n",
    "    # --- Model config ---\n",
    "    input_dim = train_ds[0][0].shape[1] if do_validation else full_dataset[0][0].shape[1]\n",
    "    num_classes = len(label_encoder.classes_)\n",
    "    label_weights_tensor = torch.tensor(label_weights, dtype=torch.float32)\n",
    "\n",
    "    model = LSTMMultiLabelClassifier(\n",
    "        input_dim=input_dim,\n",
    "        hidden_dim=hidden_dim,\n",
    "        num_layers=num_layers,\n",
    "        num_classes=num_classes,\n",
    "        lr=lr,\n",
    "        label_weights_tensor=label_weights_tensor\n",
    "    )\n",
    "\n",
    "    # --- DataLoaders ---\n",
    "    if do_validation:\n",
    "        train_loader = DataLoader(train_ds, batch_size=batch_size, shuffle=True)\n",
    "        val_loader = DataLoader(val_ds, batch_size=batch_size)\n",
    "    else:\n",
    "        train_loader = DataLoader(full_dataset, batch_size=batch_size, shuffle=True)\n",
    "        val_loader = None\n",
    "\n",
    "    # --- Debug batch ---\n",
    "    if test_mode:\n",
    "        global df_seq\n",
    "        df_seq = print_batch(train_loader, feature_cols, batch_idx=2)\n",
    "\n",
    "    # --- Trainer ---\n",
    "    trainer = pl.Trainer(\n",
    "        max_epochs=max_epochs,\n",
    "        accelerator=\"auto\",\n",
    "        devices=1,\n",
    "        log_every_n_steps=10,\n",
    "        fast_dev_run=test_mode,\n",
    "    )\n",
    "\n",
    "    trainer.fit(model, train_loader, val_loader)\n",
    "\n",
    "    # --- Save model & metadata ---\n",
    "    if save_model:\n",
    "        os.makedirs(model_out_dir, exist_ok=True)\n",
    "        trainer.save_checkpoint(model_out)\n",
    "        joblib.dump({\n",
    "            \"input_dim\": input_dim,\n",
    "            \"hidden_dim\": hidden_dim,\n",
    "            \"num_layers\": num_layers,\n",
    "            \"num_classes\": num_classes,\n",
    "            \"seq_len\": seq_len,\n",
    "            \"lr\": lr,\n",
    "            \"label_classes\": label_encoder.classes_,\n",
    "        }, meta_out)\n",
    "        print(f\"\\n✅ Model saved to {model_out}\")\n",
    "        print(f\"✅ Meta saved to {meta_out}\")\n",
    "\n",
    "    # --- Validation accuracy ---\n",
    "    val_acc_exact, val_acc_micro = None, None\n",
    "\n",
    "    if do_validation:\n",
    "        # --- Extract all validation labels once ---\n",
    "        y_true_val = np.vstack([y for _, y in val_loader.dataset])\n",
    "\n",
    "        # --- Step 1: Evaluate with default threshold ---\n",
    "        val_acc_exact_default, val_acc_micro_default, y_probs = evaluate_model(\n",
    "            model, val_loader, label_encoder, threshold=0.5, return_probs=True\n",
    "        )\n",
    "\n",
    "        print(f\"\\n✅ Validation before tuning: Exact={val_acc_exact_default:.3f}, Micro={val_acc_micro_default:.3f}\")\n",
    "\n",
    "        # --- Optional: tune thresholds per label ---\n",
    "        if tune_thresholds:  # NEW PARAMETER\n",
    "            optimal_thresholds = tune_thresholds_nn(y_true=y_true_val, y_probs=y_probs)\n",
    "            print(\"\\n📌 Optimal thresholds per label:\", dict(zip(label_encoder.classes_, optimal_thresholds)))\n",
    "\n",
    "            # --- Step 2: Apply per-label thresholds manually ---\n",
    "            y_pred_tuned = (y_probs >= np.array(optimal_thresholds)).astype(int)\n",
    "            val_acc_exact_tuned = np.all(y_pred_tuned == y_true_val, axis=1).mean()\n",
    "            val_acc_micro_tuned = (y_pred_tuned == y_true_val).mean()\n",
    "            print(f\"✅ Validation after tuning: Exact={val_acc_exact_tuned:.3f}, Micro={val_acc_micro_tuned:.3f}\")\n",
    "        else:\n",
    "            val_acc_exact_tuned, val_acc_micro_tuned = val_acc_exact_default, val_acc_micro_default\n",
    "\n",
    "\n",
    "\n",
    "if __name__ == \"__main__\":\n",
    "    train_model(\n",
    "        data_csv=\"/home/iatell/projects/meta-learning/data/Bitcoin_BTCUSDT_kaggle_1D_candles.csv\",\n",
    "        labels_json=\"/home/iatell/projects/meta-learning/data/candle_labels.json\",  # JSON labels, no CSV needed on disk\n",
    "        do_validation=True,\n",
    "        save_model=False,\n",
    "        include_no_label = True,\n",
    "        label_weighting=\"scale_pos\"\n",
    "    )\n"
   ]
  },
  {
   "cell_type": "markdown",
   "id": "cc679611",
   "metadata": {},
   "source": [
    "# XGboost"
   ]
  },
  {
   "cell_type": "code",
   "execution_count": 1,
   "id": "376870a0",
   "metadata": {},
   "outputs": [
    {
     "name": "stdout",
     "output_type": "stream",
     "text": [
      "\n",
      "=== DEBUG SAMPLE CHECK ===\n",
      "Total sequences collected: 1603\n",
      "\n",
      "--- Sequence 0 ---\n",
      "Original label(s): ['no_label']\n",
      "Cleaned label(s): ['no_label']\n",
      "Encoded: [0 0 0 1 0 0 0]\n",
      "Feature shape: (1, 4)\n",
      "First few timesteps:\n",
      " [[0.05440368 0.03677583 0.08810496 0.7       ]]\n",
      "\n",
      "--- Sequence 1 ---\n",
      "Original label(s): ['no_label']\n",
      "Cleaned label(s): ['no_label']\n",
      "Encoded: [0 0 0 1 0 0 0]\n",
      "Feature shape: (1, 4)\n",
      "First few timesteps:\n",
      " [[0.02600957 0.0367597  0.01538321 0.7       ]]\n",
      "==========================\n",
      "\n",
      "\n",
      "📊 Validation Report (Multi-label):\n",
      "              precision    recall  f1-score   support\n",
      "\n",
      "           +       0.94      0.96      0.95        51\n",
      "           H       0.67      0.29      0.40         7\n",
      "           I       0.00      0.00      0.00         3\n",
      "    no_label       0.92      1.00      0.96       231\n",
      "           q       0.00      0.00      0.00         3\n",
      "           s       0.76      0.84      0.80        44\n",
      "           v       0.96      0.94      0.95        81\n",
      "\n",
      "   micro avg       0.90      0.94      0.92       420\n",
      "   macro avg       0.61      0.57      0.58       420\n",
      "weighted avg       0.90      0.94      0.91       420\n",
      " samples avg       0.92      0.94      0.93       420\n",
      "\n",
      "\n",
      "🧮 Multi-label Confusion Matrices (per class):\n",
      "\n",
      "Class '+':\n",
      "[[267   3]\n",
      " [  2  49]]\n",
      "\n",
      "Class 'H':\n",
      "[[313   1]\n",
      " [  5   2]]\n",
      "\n",
      "Class 'I':\n",
      "[[318   0]\n",
      " [  3   0]]\n",
      "\n",
      "Class 'no_label':\n",
      "[[ 70  20]\n",
      " [  1 230]]\n",
      "\n",
      "Class 'q':\n",
      "[[312   6]\n",
      " [  3   0]]\n",
      "\n",
      "Class 's':\n",
      "[[265  12]\n",
      " [  7  37]]\n",
      "\n",
      "Class 'v':\n",
      "[[237   3]\n",
      " [  5  76]]\n",
      "\n",
      "Exact match ratio: 0.8286604361370716\n",
      "Micro accuracy (per-label): 0.9684023141967067\n"
     ]
    }
   ],
   "source": [
    "import joblib\n",
    "from datetime import datetime\n",
    "import xgboost as xgb\n",
    "from sklearn.multioutput import MultiOutputClassifier\n",
    "from sklearn.metrics import classification_report, multilabel_confusion_matrix, f1_score\n",
    "import os\n",
    "import io\n",
    "import numpy as np\n",
    "from preprocess.multilabel_preprocess2 import preprocess_csv_multilabel\n",
    "from utils.json_to_csv import json_to_csv_in_memory\n",
    "from utils.multilabel_threshold_tuning import tune_thresholds\n",
    "from add_ons.feature_pipeline5 import FeaturePipeline\n",
    "from utils.make_step import make_step\n",
    "from add_ons.drop_columns2 import drop_columns\n",
    "from add_ons.candle_dif_rate_of_change_percentage2 import add_candle_rocp\n",
    "from add_ons.candle_proportion import add_candle_proportions\n",
    "from add_ons.candle_rate_of_change import add_candle_ratios\n",
    "from add_ons.candle_proportion_simple import add_candle_shape_features\n",
    "from add_ons.normalize_candle_seq import add_label_normalized_candles\n",
    "def evaluate_multilabel_model(model, X_val, y_val, mlb, thresholds=None):\n",
    "    \"\"\"\n",
    "    Evaluate a multi-label XGBoost model and print metrics.\n",
    "    Optionally apply per-label thresholds.\n",
    "    \"\"\"\n",
    "    # Predict probabilities per label\n",
    "    y_probs = np.column_stack([est.predict_proba(X_val)[:, 1] for est in model.estimators_])\n",
    "\n",
    "    # Apply thresholds\n",
    "    if thresholds is None:\n",
    "        thresholds = [0.5] * y_val.shape[1]\n",
    "    y_pred = np.zeros_like(y_val)\n",
    "    for i, t in enumerate(thresholds):\n",
    "        y_pred[:, i] = (y_probs[:, i] >= t).astype(int)\n",
    "\n",
    "    print(\"\\n📊 Validation Report (Multi-label):\")\n",
    "    print(classification_report(y_val, y_pred, target_names=mlb.classes_, zero_division=0))\n",
    "\n",
    "    print(\"\\n🧮 Multi-label Confusion Matrices (per class):\")\n",
    "    mcm = multilabel_confusion_matrix(y_val, y_pred)\n",
    "    for i, cls in enumerate(mlb.classes_):\n",
    "        print(f\"\\nClass '{cls}':\")\n",
    "        print(mcm[i])\n",
    "\n",
    "    exact_match = np.all(y_pred == y_val, axis=1).mean()\n",
    "    print(\"\\nExact match ratio:\", exact_match)\n",
    "\n",
    "    micro_acc = (y_pred == y_val).mean()\n",
    "    print(\"Micro accuracy (per-label):\", micro_acc)\n",
    "\n",
    "    return exact_match, micro_acc, y_probs\n",
    "\n",
    "\n",
    "def train_model_xgb_multilabel(\n",
    "    data_csv,\n",
    "    labels_json,\n",
    "    model_out_dir=\"models/saved_models\",\n",
    "    do_validation=True,\n",
    "    seq_len=1,\n",
    "    n_estimators=200,\n",
    "    max_depth=6,\n",
    "    learning_rate=0.05,\n",
    "    subsample=0.8,\n",
    "    colsample_bytree=0.8,\n",
    "    save_model=False,\n",
    "    return_val_accuracy=True,\n",
    "    label_weighting=\"none\",  # \"none\", dict, or \"scale_pos\"\n",
    "    threshold_tuning = False,\n",
    "    include_no_label = False,\n",
    "):\n",
    "    timestamp = datetime.now().strftime(\"%Y%m%d_%H%M%S\")\n",
    "    model_out = f\"{model_out_dir}/xgb_model_multilabel_{timestamp}.pkl\"\n",
    "    meta_out = f\"{model_out_dir}/xgb_meta_multilabel_{timestamp}.pkl\"\n",
    "\n",
    "    csv_string = json_to_csv_in_memory(labels_json)\n",
    "    labels_csv = io.StringIO(csv_string)\n",
    "\n",
    "    pipeline = FeaturePipeline(\n",
    "        steps=[\n",
    "            make_step(add_candle_shape_features),\n",
    "            # make_step(add_candle_rocp),\n",
    "            # make_step(add_label_normalized_candles),\n",
    "            make_step(drop_columns, cols_to_drop=[\"open\",\"high\",\"low\",\"close\",\"volume\"]),\n",
    "        ],\n",
    "        # norm_methods={\n",
    "            # \"main\": {\n",
    "            #     \"upper_shadow\": \"robust\", \"body\": \"standard\", \"lower_shadow\": \"standard\",\n",
    "            #     \"upper_body_ratio\": \"standard\", \"lower_body_ratio\": \"standard\",\n",
    "            #     \"upper_lower_body_ratio\": \"standard\", \"Candle_Color\": \"standard\",\n",
    "                \n",
    "            # }\n",
    "        #         \"candle_shape\": {\n",
    "        #             \"upper_shadow\": \"standard\",\n",
    "        #             \"lower_shadow\": \"standard\",\n",
    "        #             \"body\": \"standard\",\n",
    "        #             \"color\": \"standard\",\n",
    "        #         }\n",
    "        # },\n",
    "        # window_norms={\n",
    "        # \"main\": {\"open_prop\": \"standard\", \"high_prop\": \"standard\",\"low_prop\": \"standard\", \"close_prop\": \"standard\"},},\n",
    "\n",
    "        per_window_flags=[\n",
    "        False, \n",
    "        False, \n",
    "        # True\n",
    "                ]\n",
    "    )\n",
    "    if do_validation:\n",
    "        X_train,y_train, X_val, y_val, df, feature_cols,mlb, label_weights = preprocess_csv_multilabel(\n",
    "            data_csv, labels_csv,\n",
    "            n_candles=seq_len,\n",
    "            val_split=True,\n",
    "            for_xgboost=True,\n",
    "            debug_sample=[0, 1],\n",
    "            label_weighting=label_weighting,\n",
    "            feature_pipeline=pipeline,\n",
    "            include_no_label = include_no_label\n",
    "        )\n",
    "    else:\n",
    "        X_train, y_train, df, feature_cols,mlb, label_weights = preprocess_csv_multilabel(\n",
    "            data_csv, labels_csv,\n",
    "            n_candles=seq_len,\n",
    "            val_split=False,\n",
    "            for_xgboost=True,\n",
    "            label_weighting=label_weighting,\n",
    "            feature_pipeline=pipeline,\n",
    "            include_no_label=include_no_label\n",
    "        )\n",
    "        X_val, y_val = None, None\n",
    "\n",
    "    xgb_models = []\n",
    "    for w in label_weights:\n",
    "        xgb_model = xgb.XGBClassifier(\n",
    "            n_estimators=n_estimators,\n",
    "            max_depth=max_depth,\n",
    "            learning_rate=learning_rate,\n",
    "            subsample=subsample,\n",
    "            colsample_bytree=colsample_bytree,\n",
    "            eval_metric='logloss',\n",
    "            scale_pos_weight=w,\n",
    "        )\n",
    "        xgb_models.append(xgb_model)\n",
    "\n",
    "    model = MultiOutputClassifier(xgb_models[0], n_jobs=-1)\n",
    "    model.estimators_ = xgb_models\n",
    "    model.fit(X_train, y_train)\n",
    "\n",
    "    # Tune thresholds if validation set exists\n",
    "    optimal_thresholds = None\n",
    "    val_acc_exact, val_acc_micro = None, None\n",
    "    if do_validation:\n",
    "        # --- Step 1: Predict probabilities once ---\n",
    "        y_probs = np.column_stack([est.predict_proba(X_val)[:, 1] for est in model.estimators_])\n",
    "\n",
    "        # --- Step 2: Evaluate with default threshold 0.5 ---\n",
    "        val_acc_exact_default, val_acc_micro_default, _ = evaluate_multilabel_model(\n",
    "            model, X_val, y_val, mlb, thresholds=[0.5]*y_val.shape[1]\n",
    "        )\n",
    "        if threshold_tuning:\n",
    "        # --- Step 3: Tune optimal thresholds per label ---\n",
    "            optimal_thresholds = tune_thresholds(y_val, y_probs)\n",
    "            print(\"\\n📌 Optimal thresholds per label:\", dict(zip(mlb.classes_, optimal_thresholds)))\n",
    "\n",
    "            # --- Step 4: Evaluate with tuned thresholds ---\n",
    "            val_acc_exact_tuned, val_acc_micro_tuned, _ = evaluate_multilabel_model(\n",
    "                model, X_val, y_val, mlb, thresholds=optimal_thresholds\n",
    "            )\n",
    "\n",
    "    if save_model:\n",
    "        os.makedirs(model_out_dir, exist_ok=True)\n",
    "        joblib.dump(model, model_out)\n",
    "        joblib.dump({\n",
    "            'seq_len': seq_len,\n",
    "            'label_classes': mlb.classes_,\n",
    "            'feature_cols': feature_cols,\n",
    "            'optimal_thresholds': optimal_thresholds\n",
    "        }, meta_out)\n",
    "        print(f\"✅ Model saved to {model_out}\")\n",
    "        print(f\"✅ Meta saved to {meta_out}\")\n",
    "\n",
    "    if return_val_accuracy:\n",
    "        return {\n",
    "            \"exact_match\": val_acc_exact,\n",
    "            \"micro_accuracy\": val_acc_micro,\n",
    "            \"label_weights\": label_weights,\n",
    "            \"optimal_thresholds\": optimal_thresholds\n",
    "        }\n",
    "\n",
    "\n",
    "if __name__ == \"__main__\":\n",
    "    train_model_xgb_multilabel(\n",
    "        data_csv=\"/home/iatell/projects/meta-learning/data/Bitcoin_BTCUSDT_kaggle_1D_candles.csv\",\n",
    "        labels_json=\"/home/iatell/projects/meta-learning/data/candle_labels.json\",\n",
    "        do_validation=True,\n",
    "        label_weighting=\"scale_pos\"# \"none\", dict, or \"scale_pos\"\n",
    "        ,include_no_label= True,\n",
    "\n",
    "    )\n"
   ]
  }
 ],
 "metadata": {
  "kernelspec": {
   "display_name": "Rllib2.43 (3.11.13)",
   "language": "python",
   "name": "python3"
  },
  "language_info": {
   "codemirror_mode": {
    "name": "ipython",
    "version": 3
   },
   "file_extension": ".py",
   "mimetype": "text/x-python",
   "name": "python",
   "nbconvert_exporter": "python",
   "pygments_lexer": "ipython3",
   "version": "3.11.13"
  }
 },
 "nbformat": 4,
 "nbformat_minor": 5
}
